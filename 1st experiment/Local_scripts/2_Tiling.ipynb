{
 "cells": [
  {
   "cell_type": "markdown",
   "metadata": {},
   "source": [
    "# TILING "
   ]
  },
  {
   "cell_type": "markdown",
   "metadata": {},
   "source": [
    "Tiling proccess is used to divide raster data into small and manageable areas."
   ]
  },
  {
   "cell_type": "markdown",
   "metadata": {},
   "source": [
    "**Import libraries**"
   ]
  },
  {
   "cell_type": "code",
   "execution_count": 17,
   "metadata": {},
   "outputs": [],
   "source": [
    "import os\n",
    "import gdal"
   ]
  },
  {
   "cell_type": "markdown",
   "metadata": {},
   "source": [
    "Define the **directories**."
   ]
  },
  {
   "cell_type": "code",
   "execution_count": 18,
   "metadata": {},
   "outputs": [],
   "source": [
    "in_path = '/home/jovyan/work/Dataset_valencia/Dataset_processing/Mosaic/'\n",
    "input_filename = 'comunidad_valenciana_mosaicado.tif'\n",
    "\n",
    "out_path = '/home/jovyan/work/Dataset_valencia/Dataset_processing/Tiling_withoutgrid/'\n",
    "output_filename = 'segmentado'"
   ]
  },
  {
   "cell_type": "markdown",
   "metadata": {},
   "source": [
    "Set the **desire size** of the tiling raster images."
   ]
  },
  {
   "cell_type": "code",
   "execution_count": 19,
   "metadata": {},
   "outputs": [],
   "source": [
    "tile_size_x = 2745\n",
    "tile_size_y = 2745"
   ]
  },
  {
   "cell_type": "markdown",
   "metadata": {},
   "source": [
    "Open raster image for the tiling proccess"
   ]
  },
  {
   "cell_type": "code",
   "execution_count": 20,
   "metadata": {},
   "outputs": [],
   "source": [
    "ds = gdal.Open(in_path + input_filename)"
   ]
  },
  {
   "cell_type": "markdown",
   "metadata": {},
   "source": [
    "Get **size data** from the  raster image"
   ]
  },
  {
   "cell_type": "code",
   "execution_count": 21,
   "metadata": {},
   "outputs": [],
   "source": [
    "band = ds.GetRasterBand(1)\n",
    "xsize = band.XSize\n",
    "ysize = band.YSize"
   ]
  },
  {
   "cell_type": "markdown",
   "metadata": {},
   "source": [
    "Go through the raster and call the **console** with **gdal translate** to perform the tiling"
   ]
  },
  {
   "cell_type": "code",
   "execution_count": 22,
   "metadata": {},
   "outputs": [
    {
     "name": "stdout",
     "output_type": "stream",
     "text": [
      "gdal_translate -of GTIFF -srcwin 0, 0, 2745, 2745 /home/jovyan/work/Dataset_valencia/Dataset_processing/Mosaic/comunidad_valenciana_mosaicado.tif /home/jovyan/work/Dataset_valencia/Dataset_processing/Tiling_withoutgrid/segmentado0_0.tif\n",
      "gdal_translate -of GTIFF -srcwin 0, 2745, 2745, 2745 /home/jovyan/work/Dataset_valencia/Dataset_processing/Mosaic/comunidad_valenciana_mosaicado.tif /home/jovyan/work/Dataset_valencia/Dataset_processing/Tiling_withoutgrid/segmentado0_2745.tif\n",
      "gdal_translate -of GTIFF -srcwin 0, 5490, 2745, 2745 /home/jovyan/work/Dataset_valencia/Dataset_processing/Mosaic/comunidad_valenciana_mosaicado.tif /home/jovyan/work/Dataset_valencia/Dataset_processing/Tiling_withoutgrid/segmentado0_5490.tif\n",
      "gdal_translate -of GTIFF -srcwin 0, 8235, 2745, 2745 /home/jovyan/work/Dataset_valencia/Dataset_processing/Mosaic/comunidad_valenciana_mosaicado.tif /home/jovyan/work/Dataset_valencia/Dataset_processing/Tiling_withoutgrid/segmentado0_8235.tif\n",
      "gdal_translate -of GTIFF -srcwin 0, 10980, 2745, 2745 /home/jovyan/work/Dataset_valencia/Dataset_processing/Mosaic/comunidad_valenciana_mosaicado.tif /home/jovyan/work/Dataset_valencia/Dataset_processing/Tiling_withoutgrid/segmentado0_10980.tif\n",
      "gdal_translate -of GTIFF -srcwin 0, 13725, 2745, 2745 /home/jovyan/work/Dataset_valencia/Dataset_processing/Mosaic/comunidad_valenciana_mosaicado.tif /home/jovyan/work/Dataset_valencia/Dataset_processing/Tiling_withoutgrid/segmentado0_13725.tif\n",
      "gdal_translate -of GTIFF -srcwin 0, 16470, 2745, 2745 /home/jovyan/work/Dataset_valencia/Dataset_processing/Mosaic/comunidad_valenciana_mosaicado.tif /home/jovyan/work/Dataset_valencia/Dataset_processing/Tiling_withoutgrid/segmentado0_16470.tif\n",
      "gdal_translate -of GTIFF -srcwin 0, 19215, 2745, 2745 /home/jovyan/work/Dataset_valencia/Dataset_processing/Mosaic/comunidad_valenciana_mosaicado.tif /home/jovyan/work/Dataset_valencia/Dataset_processing/Tiling_withoutgrid/segmentado0_19215.tif\n",
      "gdal_translate -of GTIFF -srcwin 0, 21960, 2745, 2745 /home/jovyan/work/Dataset_valencia/Dataset_processing/Mosaic/comunidad_valenciana_mosaicado.tif /home/jovyan/work/Dataset_valencia/Dataset_processing/Tiling_withoutgrid/segmentado0_21960.tif\n",
      "gdal_translate -of GTIFF -srcwin 0, 24705, 2745, 2745 /home/jovyan/work/Dataset_valencia/Dataset_processing/Mosaic/comunidad_valenciana_mosaicado.tif /home/jovyan/work/Dataset_valencia/Dataset_processing/Tiling_withoutgrid/segmentado0_24705.tif\n",
      "gdal_translate -of GTIFF -srcwin 0, 27450, 2745, 2745 /home/jovyan/work/Dataset_valencia/Dataset_processing/Mosaic/comunidad_valenciana_mosaicado.tif /home/jovyan/work/Dataset_valencia/Dataset_processing/Tiling_withoutgrid/segmentado0_27450.tif\n",
      "gdal_translate -of GTIFF -srcwin 0, 30195, 2745, 2745 /home/jovyan/work/Dataset_valencia/Dataset_processing/Mosaic/comunidad_valenciana_mosaicado.tif /home/jovyan/work/Dataset_valencia/Dataset_processing/Tiling_withoutgrid/segmentado0_30195.tif\n",
      "gdal_translate -of GTIFF -srcwin 0, 32940, 2745, 2745 /home/jovyan/work/Dataset_valencia/Dataset_processing/Mosaic/comunidad_valenciana_mosaicado.tif /home/jovyan/work/Dataset_valencia/Dataset_processing/Tiling_withoutgrid/segmentado0_32940.tif\n",
      "gdal_translate -of GTIFF -srcwin 0, 35685, 2745, 2745 /home/jovyan/work/Dataset_valencia/Dataset_processing/Mosaic/comunidad_valenciana_mosaicado.tif /home/jovyan/work/Dataset_valencia/Dataset_processing/Tiling_withoutgrid/segmentado0_35685.tif\n",
      "gdal_translate -of GTIFF -srcwin 0, 38430, 2745, 2745 /home/jovyan/work/Dataset_valencia/Dataset_processing/Mosaic/comunidad_valenciana_mosaicado.tif /home/jovyan/work/Dataset_valencia/Dataset_processing/Tiling_withoutgrid/segmentado0_38430.tif\n",
      "gdal_translate -of GTIFF -srcwin 2745, 0, 2745, 2745 /home/jovyan/work/Dataset_valencia/Dataset_processing/Mosaic/comunidad_valenciana_mosaicado.tif /home/jovyan/work/Dataset_valencia/Dataset_processing/Tiling_withoutgrid/segmentado2745_0.tif\n",
      "gdal_translate -of GTIFF -srcwin 2745, 2745, 2745, 2745 /home/jovyan/work/Dataset_valencia/Dataset_processing/Mosaic/comunidad_valenciana_mosaicado.tif /home/jovyan/work/Dataset_valencia/Dataset_processing/Tiling_withoutgrid/segmentado2745_2745.tif\n",
      "gdal_translate -of GTIFF -srcwin 2745, 5490, 2745, 2745 /home/jovyan/work/Dataset_valencia/Dataset_processing/Mosaic/comunidad_valenciana_mosaicado.tif /home/jovyan/work/Dataset_valencia/Dataset_processing/Tiling_withoutgrid/segmentado2745_5490.tif\n",
      "gdal_translate -of GTIFF -srcwin 2745, 8235, 2745, 2745 /home/jovyan/work/Dataset_valencia/Dataset_processing/Mosaic/comunidad_valenciana_mosaicado.tif /home/jovyan/work/Dataset_valencia/Dataset_processing/Tiling_withoutgrid/segmentado2745_8235.tif\n",
      "gdal_translate -of GTIFF -srcwin 2745, 10980, 2745, 2745 /home/jovyan/work/Dataset_valencia/Dataset_processing/Mosaic/comunidad_valenciana_mosaicado.tif /home/jovyan/work/Dataset_valencia/Dataset_processing/Tiling_withoutgrid/segmentado2745_10980.tif\n",
      "gdal_translate -of GTIFF -srcwin 2745, 13725, 2745, 2745 /home/jovyan/work/Dataset_valencia/Dataset_processing/Mosaic/comunidad_valenciana_mosaicado.tif /home/jovyan/work/Dataset_valencia/Dataset_processing/Tiling_withoutgrid/segmentado2745_13725.tif\n",
      "gdal_translate -of GTIFF -srcwin 2745, 16470, 2745, 2745 /home/jovyan/work/Dataset_valencia/Dataset_processing/Mosaic/comunidad_valenciana_mosaicado.tif /home/jovyan/work/Dataset_valencia/Dataset_processing/Tiling_withoutgrid/segmentado2745_16470.tif\n",
      "gdal_translate -of GTIFF -srcwin 2745, 19215, 2745, 2745 /home/jovyan/work/Dataset_valencia/Dataset_processing/Mosaic/comunidad_valenciana_mosaicado.tif /home/jovyan/work/Dataset_valencia/Dataset_processing/Tiling_withoutgrid/segmentado2745_19215.tif\n",
      "gdal_translate -of GTIFF -srcwin 2745, 21960, 2745, 2745 /home/jovyan/work/Dataset_valencia/Dataset_processing/Mosaic/comunidad_valenciana_mosaicado.tif /home/jovyan/work/Dataset_valencia/Dataset_processing/Tiling_withoutgrid/segmentado2745_21960.tif\n",
      "gdal_translate -of GTIFF -srcwin 2745, 24705, 2745, 2745 /home/jovyan/work/Dataset_valencia/Dataset_processing/Mosaic/comunidad_valenciana_mosaicado.tif /home/jovyan/work/Dataset_valencia/Dataset_processing/Tiling_withoutgrid/segmentado2745_24705.tif\n",
      "gdal_translate -of GTIFF -srcwin 2745, 27450, 2745, 2745 /home/jovyan/work/Dataset_valencia/Dataset_processing/Mosaic/comunidad_valenciana_mosaicado.tif /home/jovyan/work/Dataset_valencia/Dataset_processing/Tiling_withoutgrid/segmentado2745_27450.tif\n",
      "gdal_translate -of GTIFF -srcwin 2745, 30195, 2745, 2745 /home/jovyan/work/Dataset_valencia/Dataset_processing/Mosaic/comunidad_valenciana_mosaicado.tif /home/jovyan/work/Dataset_valencia/Dataset_processing/Tiling_withoutgrid/segmentado2745_30195.tif\n",
      "gdal_translate -of GTIFF -srcwin 2745, 32940, 2745, 2745 /home/jovyan/work/Dataset_valencia/Dataset_processing/Mosaic/comunidad_valenciana_mosaicado.tif /home/jovyan/work/Dataset_valencia/Dataset_processing/Tiling_withoutgrid/segmentado2745_32940.tif\n",
      "gdal_translate -of GTIFF -srcwin 2745, 35685, 2745, 2745 /home/jovyan/work/Dataset_valencia/Dataset_processing/Mosaic/comunidad_valenciana_mosaicado.tif /home/jovyan/work/Dataset_valencia/Dataset_processing/Tiling_withoutgrid/segmentado2745_35685.tif\n",
      "gdal_translate -of GTIFF -srcwin 2745, 38430, 2745, 2745 /home/jovyan/work/Dataset_valencia/Dataset_processing/Mosaic/comunidad_valenciana_mosaicado.tif /home/jovyan/work/Dataset_valencia/Dataset_processing/Tiling_withoutgrid/segmentado2745_38430.tif\n",
      "gdal_translate -of GTIFF -srcwin 5490, 0, 2745, 2745 /home/jovyan/work/Dataset_valencia/Dataset_processing/Mosaic/comunidad_valenciana_mosaicado.tif /home/jovyan/work/Dataset_valencia/Dataset_processing/Tiling_withoutgrid/segmentado5490_0.tif\n",
      "gdal_translate -of GTIFF -srcwin 5490, 2745, 2745, 2745 /home/jovyan/work/Dataset_valencia/Dataset_processing/Mosaic/comunidad_valenciana_mosaicado.tif /home/jovyan/work/Dataset_valencia/Dataset_processing/Tiling_withoutgrid/segmentado5490_2745.tif\n",
      "gdal_translate -of GTIFF -srcwin 5490, 5490, 2745, 2745 /home/jovyan/work/Dataset_valencia/Dataset_processing/Mosaic/comunidad_valenciana_mosaicado.tif /home/jovyan/work/Dataset_valencia/Dataset_processing/Tiling_withoutgrid/segmentado5490_5490.tif\n",
      "gdal_translate -of GTIFF -srcwin 5490, 8235, 2745, 2745 /home/jovyan/work/Dataset_valencia/Dataset_processing/Mosaic/comunidad_valenciana_mosaicado.tif /home/jovyan/work/Dataset_valencia/Dataset_processing/Tiling_withoutgrid/segmentado5490_8235.tif\n"
     ]
    },
    {
     "name": "stdout",
     "output_type": "stream",
     "text": [
      "gdal_translate -of GTIFF -srcwin 5490, 10980, 2745, 2745 /home/jovyan/work/Dataset_valencia/Dataset_processing/Mosaic/comunidad_valenciana_mosaicado.tif /home/jovyan/work/Dataset_valencia/Dataset_processing/Tiling_withoutgrid/segmentado5490_10980.tif\n",
      "gdal_translate -of GTIFF -srcwin 5490, 13725, 2745, 2745 /home/jovyan/work/Dataset_valencia/Dataset_processing/Mosaic/comunidad_valenciana_mosaicado.tif /home/jovyan/work/Dataset_valencia/Dataset_processing/Tiling_withoutgrid/segmentado5490_13725.tif\n",
      "gdal_translate -of GTIFF -srcwin 5490, 16470, 2745, 2745 /home/jovyan/work/Dataset_valencia/Dataset_processing/Mosaic/comunidad_valenciana_mosaicado.tif /home/jovyan/work/Dataset_valencia/Dataset_processing/Tiling_withoutgrid/segmentado5490_16470.tif\n",
      "gdal_translate -of GTIFF -srcwin 5490, 19215, 2745, 2745 /home/jovyan/work/Dataset_valencia/Dataset_processing/Mosaic/comunidad_valenciana_mosaicado.tif /home/jovyan/work/Dataset_valencia/Dataset_processing/Tiling_withoutgrid/segmentado5490_19215.tif\n",
      "gdal_translate -of GTIFF -srcwin 5490, 21960, 2745, 2745 /home/jovyan/work/Dataset_valencia/Dataset_processing/Mosaic/comunidad_valenciana_mosaicado.tif /home/jovyan/work/Dataset_valencia/Dataset_processing/Tiling_withoutgrid/segmentado5490_21960.tif\n",
      "gdal_translate -of GTIFF -srcwin 5490, 24705, 2745, 2745 /home/jovyan/work/Dataset_valencia/Dataset_processing/Mosaic/comunidad_valenciana_mosaicado.tif /home/jovyan/work/Dataset_valencia/Dataset_processing/Tiling_withoutgrid/segmentado5490_24705.tif\n",
      "gdal_translate -of GTIFF -srcwin 5490, 27450, 2745, 2745 /home/jovyan/work/Dataset_valencia/Dataset_processing/Mosaic/comunidad_valenciana_mosaicado.tif /home/jovyan/work/Dataset_valencia/Dataset_processing/Tiling_withoutgrid/segmentado5490_27450.tif\n",
      "gdal_translate -of GTIFF -srcwin 5490, 30195, 2745, 2745 /home/jovyan/work/Dataset_valencia/Dataset_processing/Mosaic/comunidad_valenciana_mosaicado.tif /home/jovyan/work/Dataset_valencia/Dataset_processing/Tiling_withoutgrid/segmentado5490_30195.tif\n",
      "gdal_translate -of GTIFF -srcwin 5490, 32940, 2745, 2745 /home/jovyan/work/Dataset_valencia/Dataset_processing/Mosaic/comunidad_valenciana_mosaicado.tif /home/jovyan/work/Dataset_valencia/Dataset_processing/Tiling_withoutgrid/segmentado5490_32940.tif\n",
      "gdal_translate -of GTIFF -srcwin 5490, 35685, 2745, 2745 /home/jovyan/work/Dataset_valencia/Dataset_processing/Mosaic/comunidad_valenciana_mosaicado.tif /home/jovyan/work/Dataset_valencia/Dataset_processing/Tiling_withoutgrid/segmentado5490_35685.tif\n",
      "gdal_translate -of GTIFF -srcwin 5490, 38430, 2745, 2745 /home/jovyan/work/Dataset_valencia/Dataset_processing/Mosaic/comunidad_valenciana_mosaicado.tif /home/jovyan/work/Dataset_valencia/Dataset_processing/Tiling_withoutgrid/segmentado5490_38430.tif\n",
      "gdal_translate -of GTIFF -srcwin 8235, 0, 2745, 2745 /home/jovyan/work/Dataset_valencia/Dataset_processing/Mosaic/comunidad_valenciana_mosaicado.tif /home/jovyan/work/Dataset_valencia/Dataset_processing/Tiling_withoutgrid/segmentado8235_0.tif\n",
      "gdal_translate -of GTIFF -srcwin 8235, 2745, 2745, 2745 /home/jovyan/work/Dataset_valencia/Dataset_processing/Mosaic/comunidad_valenciana_mosaicado.tif /home/jovyan/work/Dataset_valencia/Dataset_processing/Tiling_withoutgrid/segmentado8235_2745.tif\n",
      "gdal_translate -of GTIFF -srcwin 8235, 5490, 2745, 2745 /home/jovyan/work/Dataset_valencia/Dataset_processing/Mosaic/comunidad_valenciana_mosaicado.tif /home/jovyan/work/Dataset_valencia/Dataset_processing/Tiling_withoutgrid/segmentado8235_5490.tif\n",
      "gdal_translate -of GTIFF -srcwin 8235, 8235, 2745, 2745 /home/jovyan/work/Dataset_valencia/Dataset_processing/Mosaic/comunidad_valenciana_mosaicado.tif /home/jovyan/work/Dataset_valencia/Dataset_processing/Tiling_withoutgrid/segmentado8235_8235.tif\n",
      "gdal_translate -of GTIFF -srcwin 8235, 10980, 2745, 2745 /home/jovyan/work/Dataset_valencia/Dataset_processing/Mosaic/comunidad_valenciana_mosaicado.tif /home/jovyan/work/Dataset_valencia/Dataset_processing/Tiling_withoutgrid/segmentado8235_10980.tif\n",
      "gdal_translate -of GTIFF -srcwin 8235, 13725, 2745, 2745 /home/jovyan/work/Dataset_valencia/Dataset_processing/Mosaic/comunidad_valenciana_mosaicado.tif /home/jovyan/work/Dataset_valencia/Dataset_processing/Tiling_withoutgrid/segmentado8235_13725.tif\n",
      "gdal_translate -of GTIFF -srcwin 8235, 16470, 2745, 2745 /home/jovyan/work/Dataset_valencia/Dataset_processing/Mosaic/comunidad_valenciana_mosaicado.tif /home/jovyan/work/Dataset_valencia/Dataset_processing/Tiling_withoutgrid/segmentado8235_16470.tif\n",
      "gdal_translate -of GTIFF -srcwin 8235, 19215, 2745, 2745 /home/jovyan/work/Dataset_valencia/Dataset_processing/Mosaic/comunidad_valenciana_mosaicado.tif /home/jovyan/work/Dataset_valencia/Dataset_processing/Tiling_withoutgrid/segmentado8235_19215.tif\n",
      "gdal_translate -of GTIFF -srcwin 8235, 21960, 2745, 2745 /home/jovyan/work/Dataset_valencia/Dataset_processing/Mosaic/comunidad_valenciana_mosaicado.tif /home/jovyan/work/Dataset_valencia/Dataset_processing/Tiling_withoutgrid/segmentado8235_21960.tif\n",
      "gdal_translate -of GTIFF -srcwin 8235, 24705, 2745, 2745 /home/jovyan/work/Dataset_valencia/Dataset_processing/Mosaic/comunidad_valenciana_mosaicado.tif /home/jovyan/work/Dataset_valencia/Dataset_processing/Tiling_withoutgrid/segmentado8235_24705.tif\n",
      "gdal_translate -of GTIFF -srcwin 8235, 27450, 2745, 2745 /home/jovyan/work/Dataset_valencia/Dataset_processing/Mosaic/comunidad_valenciana_mosaicado.tif /home/jovyan/work/Dataset_valencia/Dataset_processing/Tiling_withoutgrid/segmentado8235_27450.tif\n",
      "gdal_translate -of GTIFF -srcwin 8235, 30195, 2745, 2745 /home/jovyan/work/Dataset_valencia/Dataset_processing/Mosaic/comunidad_valenciana_mosaicado.tif /home/jovyan/work/Dataset_valencia/Dataset_processing/Tiling_withoutgrid/segmentado8235_30195.tif\n",
      "gdal_translate -of GTIFF -srcwin 8235, 32940, 2745, 2745 /home/jovyan/work/Dataset_valencia/Dataset_processing/Mosaic/comunidad_valenciana_mosaicado.tif /home/jovyan/work/Dataset_valencia/Dataset_processing/Tiling_withoutgrid/segmentado8235_32940.tif\n",
      "gdal_translate -of GTIFF -srcwin 8235, 35685, 2745, 2745 /home/jovyan/work/Dataset_valencia/Dataset_processing/Mosaic/comunidad_valenciana_mosaicado.tif /home/jovyan/work/Dataset_valencia/Dataset_processing/Tiling_withoutgrid/segmentado8235_35685.tif\n",
      "gdal_translate -of GTIFF -srcwin 8235, 38430, 2745, 2745 /home/jovyan/work/Dataset_valencia/Dataset_processing/Mosaic/comunidad_valenciana_mosaicado.tif /home/jovyan/work/Dataset_valencia/Dataset_processing/Tiling_withoutgrid/segmentado8235_38430.tif\n",
      "gdal_translate -of GTIFF -srcwin 10980, 0, 2745, 2745 /home/jovyan/work/Dataset_valencia/Dataset_processing/Mosaic/comunidad_valenciana_mosaicado.tif /home/jovyan/work/Dataset_valencia/Dataset_processing/Tiling_withoutgrid/segmentado10980_0.tif\n",
      "gdal_translate -of GTIFF -srcwin 10980, 2745, 2745, 2745 /home/jovyan/work/Dataset_valencia/Dataset_processing/Mosaic/comunidad_valenciana_mosaicado.tif /home/jovyan/work/Dataset_valencia/Dataset_processing/Tiling_withoutgrid/segmentado10980_2745.tif\n",
      "gdal_translate -of GTIFF -srcwin 10980, 5490, 2745, 2745 /home/jovyan/work/Dataset_valencia/Dataset_processing/Mosaic/comunidad_valenciana_mosaicado.tif /home/jovyan/work/Dataset_valencia/Dataset_processing/Tiling_withoutgrid/segmentado10980_5490.tif\n",
      "gdal_translate -of GTIFF -srcwin 10980, 8235, 2745, 2745 /home/jovyan/work/Dataset_valencia/Dataset_processing/Mosaic/comunidad_valenciana_mosaicado.tif /home/jovyan/work/Dataset_valencia/Dataset_processing/Tiling_withoutgrid/segmentado10980_8235.tif\n",
      "gdal_translate -of GTIFF -srcwin 10980, 10980, 2745, 2745 /home/jovyan/work/Dataset_valencia/Dataset_processing/Mosaic/comunidad_valenciana_mosaicado.tif /home/jovyan/work/Dataset_valencia/Dataset_processing/Tiling_withoutgrid/segmentado10980_10980.tif\n",
      "gdal_translate -of GTIFF -srcwin 10980, 13725, 2745, 2745 /home/jovyan/work/Dataset_valencia/Dataset_processing/Mosaic/comunidad_valenciana_mosaicado.tif /home/jovyan/work/Dataset_valencia/Dataset_processing/Tiling_withoutgrid/segmentado10980_13725.tif\n",
      "gdal_translate -of GTIFF -srcwin 10980, 16470, 2745, 2745 /home/jovyan/work/Dataset_valencia/Dataset_processing/Mosaic/comunidad_valenciana_mosaicado.tif /home/jovyan/work/Dataset_valencia/Dataset_processing/Tiling_withoutgrid/segmentado10980_16470.tif\n"
     ]
    },
    {
     "name": "stdout",
     "output_type": "stream",
     "text": [
      "gdal_translate -of GTIFF -srcwin 10980, 19215, 2745, 2745 /home/jovyan/work/Dataset_valencia/Dataset_processing/Mosaic/comunidad_valenciana_mosaicado.tif /home/jovyan/work/Dataset_valencia/Dataset_processing/Tiling_withoutgrid/segmentado10980_19215.tif\n",
      "gdal_translate -of GTIFF -srcwin 10980, 21960, 2745, 2745 /home/jovyan/work/Dataset_valencia/Dataset_processing/Mosaic/comunidad_valenciana_mosaicado.tif /home/jovyan/work/Dataset_valencia/Dataset_processing/Tiling_withoutgrid/segmentado10980_21960.tif\n",
      "gdal_translate -of GTIFF -srcwin 10980, 24705, 2745, 2745 /home/jovyan/work/Dataset_valencia/Dataset_processing/Mosaic/comunidad_valenciana_mosaicado.tif /home/jovyan/work/Dataset_valencia/Dataset_processing/Tiling_withoutgrid/segmentado10980_24705.tif\n",
      "gdal_translate -of GTIFF -srcwin 10980, 27450, 2745, 2745 /home/jovyan/work/Dataset_valencia/Dataset_processing/Mosaic/comunidad_valenciana_mosaicado.tif /home/jovyan/work/Dataset_valencia/Dataset_processing/Tiling_withoutgrid/segmentado10980_27450.tif\n",
      "gdal_translate -of GTIFF -srcwin 10980, 30195, 2745, 2745 /home/jovyan/work/Dataset_valencia/Dataset_processing/Mosaic/comunidad_valenciana_mosaicado.tif /home/jovyan/work/Dataset_valencia/Dataset_processing/Tiling_withoutgrid/segmentado10980_30195.tif\n",
      "gdal_translate -of GTIFF -srcwin 10980, 32940, 2745, 2745 /home/jovyan/work/Dataset_valencia/Dataset_processing/Mosaic/comunidad_valenciana_mosaicado.tif /home/jovyan/work/Dataset_valencia/Dataset_processing/Tiling_withoutgrid/segmentado10980_32940.tif\n",
      "gdal_translate -of GTIFF -srcwin 10980, 35685, 2745, 2745 /home/jovyan/work/Dataset_valencia/Dataset_processing/Mosaic/comunidad_valenciana_mosaicado.tif /home/jovyan/work/Dataset_valencia/Dataset_processing/Tiling_withoutgrid/segmentado10980_35685.tif\n",
      "gdal_translate -of GTIFF -srcwin 10980, 38430, 2745, 2745 /home/jovyan/work/Dataset_valencia/Dataset_processing/Mosaic/comunidad_valenciana_mosaicado.tif /home/jovyan/work/Dataset_valencia/Dataset_processing/Tiling_withoutgrid/segmentado10980_38430.tif\n",
      "gdal_translate -of GTIFF -srcwin 13725, 0, 2745, 2745 /home/jovyan/work/Dataset_valencia/Dataset_processing/Mosaic/comunidad_valenciana_mosaicado.tif /home/jovyan/work/Dataset_valencia/Dataset_processing/Tiling_withoutgrid/segmentado13725_0.tif\n",
      "gdal_translate -of GTIFF -srcwin 13725, 2745, 2745, 2745 /home/jovyan/work/Dataset_valencia/Dataset_processing/Mosaic/comunidad_valenciana_mosaicado.tif /home/jovyan/work/Dataset_valencia/Dataset_processing/Tiling_withoutgrid/segmentado13725_2745.tif\n",
      "gdal_translate -of GTIFF -srcwin 13725, 5490, 2745, 2745 /home/jovyan/work/Dataset_valencia/Dataset_processing/Mosaic/comunidad_valenciana_mosaicado.tif /home/jovyan/work/Dataset_valencia/Dataset_processing/Tiling_withoutgrid/segmentado13725_5490.tif\n",
      "gdal_translate -of GTIFF -srcwin 13725, 8235, 2745, 2745 /home/jovyan/work/Dataset_valencia/Dataset_processing/Mosaic/comunidad_valenciana_mosaicado.tif /home/jovyan/work/Dataset_valencia/Dataset_processing/Tiling_withoutgrid/segmentado13725_8235.tif\n",
      "gdal_translate -of GTIFF -srcwin 13725, 10980, 2745, 2745 /home/jovyan/work/Dataset_valencia/Dataset_processing/Mosaic/comunidad_valenciana_mosaicado.tif /home/jovyan/work/Dataset_valencia/Dataset_processing/Tiling_withoutgrid/segmentado13725_10980.tif\n",
      "gdal_translate -of GTIFF -srcwin 13725, 13725, 2745, 2745 /home/jovyan/work/Dataset_valencia/Dataset_processing/Mosaic/comunidad_valenciana_mosaicado.tif /home/jovyan/work/Dataset_valencia/Dataset_processing/Tiling_withoutgrid/segmentado13725_13725.tif\n",
      "gdal_translate -of GTIFF -srcwin 13725, 16470, 2745, 2745 /home/jovyan/work/Dataset_valencia/Dataset_processing/Mosaic/comunidad_valenciana_mosaicado.tif /home/jovyan/work/Dataset_valencia/Dataset_processing/Tiling_withoutgrid/segmentado13725_16470.tif\n",
      "gdal_translate -of GTIFF -srcwin 13725, 19215, 2745, 2745 /home/jovyan/work/Dataset_valencia/Dataset_processing/Mosaic/comunidad_valenciana_mosaicado.tif /home/jovyan/work/Dataset_valencia/Dataset_processing/Tiling_withoutgrid/segmentado13725_19215.tif\n",
      "gdal_translate -of GTIFF -srcwin 13725, 21960, 2745, 2745 /home/jovyan/work/Dataset_valencia/Dataset_processing/Mosaic/comunidad_valenciana_mosaicado.tif /home/jovyan/work/Dataset_valencia/Dataset_processing/Tiling_withoutgrid/segmentado13725_21960.tif\n",
      "gdal_translate -of GTIFF -srcwin 13725, 24705, 2745, 2745 /home/jovyan/work/Dataset_valencia/Dataset_processing/Mosaic/comunidad_valenciana_mosaicado.tif /home/jovyan/work/Dataset_valencia/Dataset_processing/Tiling_withoutgrid/segmentado13725_24705.tif\n",
      "gdal_translate -of GTIFF -srcwin 13725, 27450, 2745, 2745 /home/jovyan/work/Dataset_valencia/Dataset_processing/Mosaic/comunidad_valenciana_mosaicado.tif /home/jovyan/work/Dataset_valencia/Dataset_processing/Tiling_withoutgrid/segmentado13725_27450.tif\n",
      "gdal_translate -of GTIFF -srcwin 13725, 30195, 2745, 2745 /home/jovyan/work/Dataset_valencia/Dataset_processing/Mosaic/comunidad_valenciana_mosaicado.tif /home/jovyan/work/Dataset_valencia/Dataset_processing/Tiling_withoutgrid/segmentado13725_30195.tif\n",
      "gdal_translate -of GTIFF -srcwin 13725, 32940, 2745, 2745 /home/jovyan/work/Dataset_valencia/Dataset_processing/Mosaic/comunidad_valenciana_mosaicado.tif /home/jovyan/work/Dataset_valencia/Dataset_processing/Tiling_withoutgrid/segmentado13725_32940.tif\n",
      "gdal_translate -of GTIFF -srcwin 13725, 35685, 2745, 2745 /home/jovyan/work/Dataset_valencia/Dataset_processing/Mosaic/comunidad_valenciana_mosaicado.tif /home/jovyan/work/Dataset_valencia/Dataset_processing/Tiling_withoutgrid/segmentado13725_35685.tif\n",
      "gdal_translate -of GTIFF -srcwin 13725, 38430, 2745, 2745 /home/jovyan/work/Dataset_valencia/Dataset_processing/Mosaic/comunidad_valenciana_mosaicado.tif /home/jovyan/work/Dataset_valencia/Dataset_processing/Tiling_withoutgrid/segmentado13725_38430.tif\n",
      "gdal_translate -of GTIFF -srcwin 16470, 0, 2745, 2745 /home/jovyan/work/Dataset_valencia/Dataset_processing/Mosaic/comunidad_valenciana_mosaicado.tif /home/jovyan/work/Dataset_valencia/Dataset_processing/Tiling_withoutgrid/segmentado16470_0.tif\n",
      "gdal_translate -of GTIFF -srcwin 16470, 2745, 2745, 2745 /home/jovyan/work/Dataset_valencia/Dataset_processing/Mosaic/comunidad_valenciana_mosaicado.tif /home/jovyan/work/Dataset_valencia/Dataset_processing/Tiling_withoutgrid/segmentado16470_2745.tif\n",
      "gdal_translate -of GTIFF -srcwin 16470, 5490, 2745, 2745 /home/jovyan/work/Dataset_valencia/Dataset_processing/Mosaic/comunidad_valenciana_mosaicado.tif /home/jovyan/work/Dataset_valencia/Dataset_processing/Tiling_withoutgrid/segmentado16470_5490.tif\n",
      "gdal_translate -of GTIFF -srcwin 16470, 8235, 2745, 2745 /home/jovyan/work/Dataset_valencia/Dataset_processing/Mosaic/comunidad_valenciana_mosaicado.tif /home/jovyan/work/Dataset_valencia/Dataset_processing/Tiling_withoutgrid/segmentado16470_8235.tif\n",
      "gdal_translate -of GTIFF -srcwin 16470, 10980, 2745, 2745 /home/jovyan/work/Dataset_valencia/Dataset_processing/Mosaic/comunidad_valenciana_mosaicado.tif /home/jovyan/work/Dataset_valencia/Dataset_processing/Tiling_withoutgrid/segmentado16470_10980.tif\n",
      "gdal_translate -of GTIFF -srcwin 16470, 13725, 2745, 2745 /home/jovyan/work/Dataset_valencia/Dataset_processing/Mosaic/comunidad_valenciana_mosaicado.tif /home/jovyan/work/Dataset_valencia/Dataset_processing/Tiling_withoutgrid/segmentado16470_13725.tif\n",
      "gdal_translate -of GTIFF -srcwin 16470, 16470, 2745, 2745 /home/jovyan/work/Dataset_valencia/Dataset_processing/Mosaic/comunidad_valenciana_mosaicado.tif /home/jovyan/work/Dataset_valencia/Dataset_processing/Tiling_withoutgrid/segmentado16470_16470.tif\n",
      "gdal_translate -of GTIFF -srcwin 16470, 19215, 2745, 2745 /home/jovyan/work/Dataset_valencia/Dataset_processing/Mosaic/comunidad_valenciana_mosaicado.tif /home/jovyan/work/Dataset_valencia/Dataset_processing/Tiling_withoutgrid/segmentado16470_19215.tif\n",
      "gdal_translate -of GTIFF -srcwin 16470, 21960, 2745, 2745 /home/jovyan/work/Dataset_valencia/Dataset_processing/Mosaic/comunidad_valenciana_mosaicado.tif /home/jovyan/work/Dataset_valencia/Dataset_processing/Tiling_withoutgrid/segmentado16470_21960.tif\n",
      "gdal_translate -of GTIFF -srcwin 16470, 24705, 2745, 2745 /home/jovyan/work/Dataset_valencia/Dataset_processing/Mosaic/comunidad_valenciana_mosaicado.tif /home/jovyan/work/Dataset_valencia/Dataset_processing/Tiling_withoutgrid/segmentado16470_24705.tif\n"
     ]
    },
    {
     "name": "stdout",
     "output_type": "stream",
     "text": [
      "gdal_translate -of GTIFF -srcwin 16470, 27450, 2745, 2745 /home/jovyan/work/Dataset_valencia/Dataset_processing/Mosaic/comunidad_valenciana_mosaicado.tif /home/jovyan/work/Dataset_valencia/Dataset_processing/Tiling_withoutgrid/segmentado16470_27450.tif\n",
      "gdal_translate -of GTIFF -srcwin 16470, 30195, 2745, 2745 /home/jovyan/work/Dataset_valencia/Dataset_processing/Mosaic/comunidad_valenciana_mosaicado.tif /home/jovyan/work/Dataset_valencia/Dataset_processing/Tiling_withoutgrid/segmentado16470_30195.tif\n",
      "gdal_translate -of GTIFF -srcwin 16470, 32940, 2745, 2745 /home/jovyan/work/Dataset_valencia/Dataset_processing/Mosaic/comunidad_valenciana_mosaicado.tif /home/jovyan/work/Dataset_valencia/Dataset_processing/Tiling_withoutgrid/segmentado16470_32940.tif\n",
      "gdal_translate -of GTIFF -srcwin 16470, 35685, 2745, 2745 /home/jovyan/work/Dataset_valencia/Dataset_processing/Mosaic/comunidad_valenciana_mosaicado.tif /home/jovyan/work/Dataset_valencia/Dataset_processing/Tiling_withoutgrid/segmentado16470_35685.tif\n",
      "gdal_translate -of GTIFF -srcwin 16470, 38430, 2745, 2745 /home/jovyan/work/Dataset_valencia/Dataset_processing/Mosaic/comunidad_valenciana_mosaicado.tif /home/jovyan/work/Dataset_valencia/Dataset_processing/Tiling_withoutgrid/segmentado16470_38430.tif\n",
      "gdal_translate -of GTIFF -srcwin 19215, 0, 2745, 2745 /home/jovyan/work/Dataset_valencia/Dataset_processing/Mosaic/comunidad_valenciana_mosaicado.tif /home/jovyan/work/Dataset_valencia/Dataset_processing/Tiling_withoutgrid/segmentado19215_0.tif\n",
      "gdal_translate -of GTIFF -srcwin 19215, 2745, 2745, 2745 /home/jovyan/work/Dataset_valencia/Dataset_processing/Mosaic/comunidad_valenciana_mosaicado.tif /home/jovyan/work/Dataset_valencia/Dataset_processing/Tiling_withoutgrid/segmentado19215_2745.tif\n",
      "gdal_translate -of GTIFF -srcwin 19215, 5490, 2745, 2745 /home/jovyan/work/Dataset_valencia/Dataset_processing/Mosaic/comunidad_valenciana_mosaicado.tif /home/jovyan/work/Dataset_valencia/Dataset_processing/Tiling_withoutgrid/segmentado19215_5490.tif\n",
      "gdal_translate -of GTIFF -srcwin 19215, 8235, 2745, 2745 /home/jovyan/work/Dataset_valencia/Dataset_processing/Mosaic/comunidad_valenciana_mosaicado.tif /home/jovyan/work/Dataset_valencia/Dataset_processing/Tiling_withoutgrid/segmentado19215_8235.tif\n",
      "gdal_translate -of GTIFF -srcwin 19215, 10980, 2745, 2745 /home/jovyan/work/Dataset_valencia/Dataset_processing/Mosaic/comunidad_valenciana_mosaicado.tif /home/jovyan/work/Dataset_valencia/Dataset_processing/Tiling_withoutgrid/segmentado19215_10980.tif\n",
      "gdal_translate -of GTIFF -srcwin 19215, 13725, 2745, 2745 /home/jovyan/work/Dataset_valencia/Dataset_processing/Mosaic/comunidad_valenciana_mosaicado.tif /home/jovyan/work/Dataset_valencia/Dataset_processing/Tiling_withoutgrid/segmentado19215_13725.tif\n",
      "gdal_translate -of GTIFF -srcwin 19215, 16470, 2745, 2745 /home/jovyan/work/Dataset_valencia/Dataset_processing/Mosaic/comunidad_valenciana_mosaicado.tif /home/jovyan/work/Dataset_valencia/Dataset_processing/Tiling_withoutgrid/segmentado19215_16470.tif\n",
      "gdal_translate -of GTIFF -srcwin 19215, 19215, 2745, 2745 /home/jovyan/work/Dataset_valencia/Dataset_processing/Mosaic/comunidad_valenciana_mosaicado.tif /home/jovyan/work/Dataset_valencia/Dataset_processing/Tiling_withoutgrid/segmentado19215_19215.tif\n",
      "gdal_translate -of GTIFF -srcwin 19215, 21960, 2745, 2745 /home/jovyan/work/Dataset_valencia/Dataset_processing/Mosaic/comunidad_valenciana_mosaicado.tif /home/jovyan/work/Dataset_valencia/Dataset_processing/Tiling_withoutgrid/segmentado19215_21960.tif\n",
      "gdal_translate -of GTIFF -srcwin 19215, 24705, 2745, 2745 /home/jovyan/work/Dataset_valencia/Dataset_processing/Mosaic/comunidad_valenciana_mosaicado.tif /home/jovyan/work/Dataset_valencia/Dataset_processing/Tiling_withoutgrid/segmentado19215_24705.tif\n",
      "gdal_translate -of GTIFF -srcwin 19215, 27450, 2745, 2745 /home/jovyan/work/Dataset_valencia/Dataset_processing/Mosaic/comunidad_valenciana_mosaicado.tif /home/jovyan/work/Dataset_valencia/Dataset_processing/Tiling_withoutgrid/segmentado19215_27450.tif\n",
      "gdal_translate -of GTIFF -srcwin 19215, 30195, 2745, 2745 /home/jovyan/work/Dataset_valencia/Dataset_processing/Mosaic/comunidad_valenciana_mosaicado.tif /home/jovyan/work/Dataset_valencia/Dataset_processing/Tiling_withoutgrid/segmentado19215_30195.tif\n",
      "gdal_translate -of GTIFF -srcwin 19215, 32940, 2745, 2745 /home/jovyan/work/Dataset_valencia/Dataset_processing/Mosaic/comunidad_valenciana_mosaicado.tif /home/jovyan/work/Dataset_valencia/Dataset_processing/Tiling_withoutgrid/segmentado19215_32940.tif\n",
      "gdal_translate -of GTIFF -srcwin 19215, 35685, 2745, 2745 /home/jovyan/work/Dataset_valencia/Dataset_processing/Mosaic/comunidad_valenciana_mosaicado.tif /home/jovyan/work/Dataset_valencia/Dataset_processing/Tiling_withoutgrid/segmentado19215_35685.tif\n",
      "gdal_translate -of GTIFF -srcwin 19215, 38430, 2745, 2745 /home/jovyan/work/Dataset_valencia/Dataset_processing/Mosaic/comunidad_valenciana_mosaicado.tif /home/jovyan/work/Dataset_valencia/Dataset_processing/Tiling_withoutgrid/segmentado19215_38430.tif\n"
     ]
    }
   ],
   "source": [
    "for i in range(0, xsize, tile_size_x):\n",
    "    for j in range(0, ysize, tile_size_y):\n",
    "        com_str = \"gdal_translate -of GTIFF -srcwin \" + str(i)+ \", \" + str(j) + \", \" + str(tile_size_x) + \", \" + str(tile_size_y) + \" \" + str(in_path) + str(input_filename) + \" \" + str(out_path) + str(output_filename) + str(i) + \"_\" + str(j) + \".tif\"\n",
    "        print(com_str)\n",
    "        os.system(com_str)"
   ]
  }
 ],
 "metadata": {
  "kernelspec": {
   "display_name": "Python 3",
   "language": "python",
   "name": "python3"
  },
  "language_info": {
   "codemirror_mode": {
    "name": "ipython",
    "version": 3
   },
   "file_extension": ".py",
   "mimetype": "text/x-python",
   "name": "python",
   "nbconvert_exporter": "python",
   "pygments_lexer": "ipython3",
   "version": "3.8.6"
  }
 },
 "nbformat": 4,
 "nbformat_minor": 4
}
