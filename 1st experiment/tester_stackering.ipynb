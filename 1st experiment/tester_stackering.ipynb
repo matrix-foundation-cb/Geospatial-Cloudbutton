{
 "cells": [
  {
   "cell_type": "code",
   "execution_count": 1,
   "metadata": {},
   "outputs": [],
   "source": [
    "import json\n",
    "config_path = open(\"/home/jovyan/work/config.txt\")\n",
    "config_read = config_path.read()\n",
    "config = json.loads(config_read)"
   ]
  },
  {
   "cell_type": "code",
   "execution_count": 2,
   "metadata": {},
   "outputs": [],
   "source": [
    "import io\n",
    "import rasterio\n",
    "from rasterio.plot import reshape_as_image\n",
    "import joblib\n",
    "import numpy as np\n",
    "import warnings\n",
    "import matplotlib.pyplot as plt\n",
    "import numpy as np\n",
    "import lithops\n",
    "import pickle\n",
    "import os\n",
    "import rasterio\n",
    "from rasterio.plot import reshape_as_image\n",
    "from rasterio.plot import show\n",
    "from datetime import datetime"
   ]
  },
  {
   "cell_type": "markdown",
   "metadata": {},
   "source": [
    "Cuando lo hago con with...as si funciona"
   ]
  },
  {
   "cell_type": "markdown",
   "metadata": {},
   "source": [
    "# Doubt ibm_cos.get_object "
   ]
  },
  {
   "cell_type": "code",
   "execution_count": 139,
   "metadata": {},
   "outputs": [],
   "source": [
    "iterdata  = [('cos://testing-stackering/rastersmall_B3.tif',\n",
    "             'cos://testing-stackering/rastersmall_B4.tif',\n",
    "             'cos://testing-stackering/rastersmall_B8.tif'),\n",
    "            ('cos://testing-stackering/rastersmall_B3.tif',\n",
    "             'cos://testing-stackering/rastersmall_B4.tif',\n",
    "             'cos://testing-stackering/rastersmall_B8.tif')]"
   ]
  },
  {
   "cell_type": "code",
   "execution_count": 140,
   "metadata": {},
   "outputs": [],
   "source": [
    "def map_stackering(id, b1, b2, b3, ibm_cos):\n",
    "    \n",
    "    raster1 = ibm_cos.get_object(Bucket='testing-stackering', Key='rastersmall_B3.tif')['Body']\n",
    "\n",
    "    with rasterio.open(raster1) as raster:\n",
    "        m=raster.shape\n",
    "\n",
    "    \n",
    "    return m"
   ]
  },
  {
   "cell_type": "code",
   "execution_count": 142,
   "metadata": {},
   "outputs": [],
   "source": [
    "def map_stackering(id, b1, b2, b3, ibm_cos):\n",
    "    \n",
    "    raster1 = ibm_cos.get_object(Bucket='testing-stackering', Key='rastersmall_B3.tif')['Body']\n",
    "\n",
    "    raster= rasterio.open(raster1) \n",
    "    m=raster.shape\n",
    "\n",
    "    \n",
    "    return m"
   ]
  },
  {
   "cell_type": "code",
   "execution_count": 143,
   "metadata": {},
   "outputs": [
    {
     "name": "stdout",
     "output_type": "stream",
     "text": [
      "Lithops v2.2.5 init for IBM Cloud Functions - Namespace: new-us-east - Region: us_east\n",
      "ExecutorID 52d0c1-51 | JobID M000 - Selected Runtime: mavsonnen/jdsampe:nogdal - 2048MB \n",
      "ExecutorID 52d0c1-51 | JobID M000 - Uploading function and data - Total: 1.1KiB\n",
      "ExecutorID 52d0c1-51 | JobID M000 - Starting function invocation: map_stackering() - Total: 2 activations\n",
      "ExecutorID 52d0c1-51 - Getting results...\n"
     ]
    },
    {
     "data": {
      "application/vnd.jupyter.widget-view+json": {
       "model_id": "2bc94e4905324ec7986953f7b894f758",
       "version_major": 2,
       "version_minor": 0
      },
      "text/plain": [
       "HBox(children=(HTML(value=''), FloatProgress(value=0.0, max=2.0), HTML(value='')))"
      ]
     },
     "metadata": {},
     "output_type": "display_data"
    },
    {
     "name": "stdout",
     "output_type": "stream",
     "text": [
      "\n"
     ]
    },
    {
     "ename": "AttributeError",
     "evalue": "'_GeneratorContextManager' object has no attribute 'shape'",
     "output_type": "error",
     "traceback": [
      "\u001b[0;31m---------------------------------------------------------------------------\u001b[0m",
      "\u001b[0;31mAttributeError\u001b[0m                            Traceback (most recent call last)",
      "\u001b[0;32m<ipython-input-143-5cfc1f02b51a>\u001b[0m in \u001b[0;36m<module>\u001b[0;34m\u001b[0m\n\u001b[1;32m      3\u001b[0m     \u001b[0mfexec\u001b[0m \u001b[0;34m=\u001b[0m \u001b[0mlithops\u001b[0m\u001b[0;34m.\u001b[0m\u001b[0mFunctionExecutor\u001b[0m\u001b[0;34m(\u001b[0m\u001b[0mconfig\u001b[0m\u001b[0;34m=\u001b[0m\u001b[0mconfig\u001b[0m\u001b[0;34m,\u001b[0m\u001b[0mruntime\u001b[0m\u001b[0;34m=\u001b[0m\u001b[0;34m'mavsonnen/jdsampe:nogdal'\u001b[0m\u001b[0;34m,\u001b[0m \u001b[0mruntime_memory\u001b[0m\u001b[0;34m=\u001b[0m\u001b[0;36m2048\u001b[0m\u001b[0;34m)\u001b[0m\u001b[0;34m\u001b[0m\u001b[0;34m\u001b[0m\u001b[0m\n\u001b[1;32m      4\u001b[0m     \u001b[0mfexec\u001b[0m\u001b[0;34m.\u001b[0m\u001b[0mmap\u001b[0m\u001b[0;34m(\u001b[0m\u001b[0mmap_stackering\u001b[0m\u001b[0;34m,\u001b[0m \u001b[0miterdata\u001b[0m\u001b[0;34m)\u001b[0m\u001b[0;34m\u001b[0m\u001b[0;34m\u001b[0m\u001b[0m\n\u001b[0;32m----> 5\u001b[0;31m     \u001b[0mresults\u001b[0m \u001b[0;34m=\u001b[0m \u001b[0mfexec\u001b[0m\u001b[0;34m.\u001b[0m\u001b[0mget_result\u001b[0m\u001b[0;34m(\u001b[0m\u001b[0;34m)\u001b[0m\u001b[0;34m\u001b[0m\u001b[0;34m\u001b[0m\u001b[0m\n\u001b[0m",
      "\u001b[0;32m/opt/conda/lib/python3.8/site-packages/lithops/executors.py\u001b[0m in \u001b[0;36mget_result\u001b[0;34m(self, fs, throw_except, timeout, THREADPOOL_SIZE, WAIT_DUR_SEC)\u001b[0m\n\u001b[1;32m    460\u001b[0m         \u001b[0;34m:\u001b[0m\u001b[0;32mreturn\u001b[0m\u001b[0;34m:\u001b[0m \u001b[0mThe\u001b[0m \u001b[0mresult\u001b[0m \u001b[0mof\u001b[0m \u001b[0mthe\u001b[0m \u001b[0mfuture\u001b[0m\u001b[0;34m/\u001b[0m\u001b[0ms\u001b[0m\u001b[0;34m\u001b[0m\u001b[0;34m\u001b[0m\u001b[0m\n\u001b[1;32m    461\u001b[0m         \"\"\"\n\u001b[0;32m--> 462\u001b[0;31m         fs_done, _ = self.wait(fs=fs, throw_except=throw_except,\n\u001b[0m\u001b[1;32m    463\u001b[0m                                \u001b[0mtimeout\u001b[0m\u001b[0;34m=\u001b[0m\u001b[0mtimeout\u001b[0m\u001b[0;34m,\u001b[0m \u001b[0mdownload_results\u001b[0m\u001b[0;34m=\u001b[0m\u001b[0;32mTrue\u001b[0m\u001b[0;34m,\u001b[0m\u001b[0;34m\u001b[0m\u001b[0;34m\u001b[0m\u001b[0m\n\u001b[1;32m    464\u001b[0m                                \u001b[0mTHREADPOOL_SIZE\u001b[0m\u001b[0;34m=\u001b[0m\u001b[0mTHREADPOOL_SIZE\u001b[0m\u001b[0;34m,\u001b[0m\u001b[0;34m\u001b[0m\u001b[0;34m\u001b[0m\u001b[0m\n",
      "\u001b[0;32m/opt/conda/lib/python3.8/site-packages/lithops/executors.py\u001b[0m in \u001b[0;36mwait\u001b[0;34m(self, fs, throw_except, return_when, download_results, timeout, THREADPOOL_SIZE, WAIT_DUR_SEC)\u001b[0m\n\u001b[1;32m    422\u001b[0m         \u001b[0;32mexcept\u001b[0m \u001b[0mException\u001b[0m \u001b[0;32mas\u001b[0m \u001b[0me\u001b[0m\u001b[0;34m:\u001b[0m\u001b[0;34m\u001b[0m\u001b[0;34m\u001b[0m\u001b[0m\n\u001b[1;32m    423\u001b[0m             \u001b[0merror\u001b[0m \u001b[0;34m=\u001b[0m \u001b[0;32mTrue\u001b[0m\u001b[0;34m\u001b[0m\u001b[0;34m\u001b[0m\u001b[0m\n\u001b[0;32m--> 424\u001b[0;31m             \u001b[0;32mraise\u001b[0m \u001b[0me\u001b[0m\u001b[0;34m\u001b[0m\u001b[0;34m\u001b[0m\u001b[0m\n\u001b[0m\u001b[1;32m    425\u001b[0m \u001b[0;34m\u001b[0m\u001b[0m\n\u001b[1;32m    426\u001b[0m         \u001b[0;32mfinally\u001b[0m\u001b[0;34m:\u001b[0m\u001b[0;34m\u001b[0m\u001b[0;34m\u001b[0m\u001b[0m\n",
      "\u001b[0;32m/opt/conda/lib/python3.8/site-packages/lithops/executors.py\u001b[0m in \u001b[0;36mwait\u001b[0;34m(self, fs, throw_except, return_when, download_results, timeout, THREADPOOL_SIZE, WAIT_DUR_SEC)\u001b[0m\n\u001b[1;32m    400\u001b[0m                               pbar=pbar, return_when=return_when, THREADPOOL_SIZE=THREADPOOL_SIZE)\n\u001b[1;32m    401\u001b[0m             \u001b[0;32melse\u001b[0m\u001b[0;34m:\u001b[0m\u001b[0;34m\u001b[0m\u001b[0;34m\u001b[0m\u001b[0m\n\u001b[0;32m--> 402\u001b[0;31m                 wait_storage(futures, self.internal_storage, download_results=download_results,\n\u001b[0m\u001b[1;32m    403\u001b[0m                              \u001b[0mthrow_except\u001b[0m\u001b[0;34m=\u001b[0m\u001b[0mthrow_except\u001b[0m\u001b[0;34m,\u001b[0m \u001b[0mreturn_when\u001b[0m\u001b[0;34m=\u001b[0m\u001b[0mreturn_when\u001b[0m\u001b[0;34m,\u001b[0m \u001b[0mpbar\u001b[0m\u001b[0;34m=\u001b[0m\u001b[0mpbar\u001b[0m\u001b[0;34m,\u001b[0m\u001b[0;34m\u001b[0m\u001b[0;34m\u001b[0m\u001b[0m\n\u001b[1;32m    404\u001b[0m                              THREADPOOL_SIZE=THREADPOOL_SIZE, WAIT_DUR_SEC=WAIT_DUR_SEC)\n",
      "\u001b[0;32m/opt/conda/lib/python3.8/site-packages/lithops/wait/wait_storage.py\u001b[0m in \u001b[0;36mwait_storage\u001b[0;34m(fs, internal_storage, download_results, throw_except, pbar, return_when, THREADPOOL_SIZE, WAIT_DUR_SEC)\u001b[0m\n\u001b[1;32m     77\u001b[0m \u001b[0;34m\u001b[0m\u001b[0m\n\u001b[1;32m     78\u001b[0m         \u001b[0;32mwhile\u001b[0m \u001b[0mresult_count\u001b[0m \u001b[0;34m<\u001b[0m \u001b[0mN\u001b[0m\u001b[0;34m:\u001b[0m\u001b[0;34m\u001b[0m\u001b[0;34m\u001b[0m\u001b[0m\n\u001b[0;32m---> 79\u001b[0;31m             fs_dones, fs_notdones = _wait_storage(fs,\n\u001b[0m\u001b[1;32m     80\u001b[0m                                                   \u001b[0mrunning_futures\u001b[0m\u001b[0;34m,\u001b[0m\u001b[0;34m\u001b[0m\u001b[0;34m\u001b[0m\u001b[0m\n\u001b[1;32m     81\u001b[0m                                                   \u001b[0minternal_storage\u001b[0m\u001b[0;34m,\u001b[0m\u001b[0;34m\u001b[0m\u001b[0;34m\u001b[0m\u001b[0m\n",
      "\u001b[0;32m/opt/conda/lib/python3.8/site-packages/lithops/wait/wait_storage.py\u001b[0m in \u001b[0;36m_wait_storage\u001b[0;34m(fs, running_futures, internal_storage, download_results, throw_except, return_early_n, max_direct_query_n, pbar, random_query, THREADPOOL_SIZE)\u001b[0m\n\u001b[1;32m    242\u001b[0m \u001b[0;34m\u001b[0m\u001b[0m\n\u001b[1;32m    243\u001b[0m     \u001b[0;32mif\u001b[0m \u001b[0mdownload_results\u001b[0m\u001b[0;34m:\u001b[0m\u001b[0;34m\u001b[0m\u001b[0;34m\u001b[0m\u001b[0m\n\u001b[0;32m--> 244\u001b[0;31m         \u001b[0mlist\u001b[0m\u001b[0;34m(\u001b[0m\u001b[0mpool\u001b[0m\u001b[0;34m.\u001b[0m\u001b[0mmap\u001b[0m\u001b[0;34m(\u001b[0m\u001b[0mget_result\u001b[0m\u001b[0;34m,\u001b[0m \u001b[0mfs_to_wait_on\u001b[0m\u001b[0;34m)\u001b[0m\u001b[0;34m)\u001b[0m\u001b[0;34m\u001b[0m\u001b[0;34m\u001b[0m\u001b[0m\n\u001b[0m\u001b[1;32m    245\u001b[0m     \u001b[0;32melse\u001b[0m\u001b[0;34m:\u001b[0m\u001b[0;34m\u001b[0m\u001b[0;34m\u001b[0m\u001b[0m\n\u001b[1;32m    246\u001b[0m         \u001b[0mlist\u001b[0m\u001b[0;34m(\u001b[0m\u001b[0mpool\u001b[0m\u001b[0;34m.\u001b[0m\u001b[0mmap\u001b[0m\u001b[0;34m(\u001b[0m\u001b[0mget_status\u001b[0m\u001b[0;34m,\u001b[0m \u001b[0mfs_to_wait_on\u001b[0m\u001b[0;34m)\u001b[0m\u001b[0;34m)\u001b[0m\u001b[0;34m\u001b[0m\u001b[0;34m\u001b[0m\u001b[0m\n",
      "\u001b[0;32m/opt/conda/lib/python3.8/concurrent/futures/_base.py\u001b[0m in \u001b[0;36mresult_iterator\u001b[0;34m()\u001b[0m\n\u001b[1;32m    609\u001b[0m                     \u001b[0;31m# Careful not to keep a reference to the popped future\u001b[0m\u001b[0;34m\u001b[0m\u001b[0;34m\u001b[0m\u001b[0;34m\u001b[0m\u001b[0m\n\u001b[1;32m    610\u001b[0m                     \u001b[0;32mif\u001b[0m \u001b[0mtimeout\u001b[0m \u001b[0;32mis\u001b[0m \u001b[0;32mNone\u001b[0m\u001b[0;34m:\u001b[0m\u001b[0;34m\u001b[0m\u001b[0;34m\u001b[0m\u001b[0m\n\u001b[0;32m--> 611\u001b[0;31m                         \u001b[0;32myield\u001b[0m \u001b[0mfs\u001b[0m\u001b[0;34m.\u001b[0m\u001b[0mpop\u001b[0m\u001b[0;34m(\u001b[0m\u001b[0;34m)\u001b[0m\u001b[0;34m.\u001b[0m\u001b[0mresult\u001b[0m\u001b[0;34m(\u001b[0m\u001b[0;34m)\u001b[0m\u001b[0;34m\u001b[0m\u001b[0;34m\u001b[0m\u001b[0m\n\u001b[0m\u001b[1;32m    612\u001b[0m                     \u001b[0;32melse\u001b[0m\u001b[0;34m:\u001b[0m\u001b[0;34m\u001b[0m\u001b[0;34m\u001b[0m\u001b[0m\n\u001b[1;32m    613\u001b[0m                         \u001b[0;32myield\u001b[0m \u001b[0mfs\u001b[0m\u001b[0;34m.\u001b[0m\u001b[0mpop\u001b[0m\u001b[0;34m(\u001b[0m\u001b[0;34m)\u001b[0m\u001b[0;34m.\u001b[0m\u001b[0mresult\u001b[0m\u001b[0;34m(\u001b[0m\u001b[0mend_time\u001b[0m \u001b[0;34m-\u001b[0m \u001b[0mtime\u001b[0m\u001b[0;34m.\u001b[0m\u001b[0mmonotonic\u001b[0m\u001b[0;34m(\u001b[0m\u001b[0;34m)\u001b[0m\u001b[0;34m)\u001b[0m\u001b[0;34m\u001b[0m\u001b[0;34m\u001b[0m\u001b[0m\n",
      "\u001b[0;32m/opt/conda/lib/python3.8/concurrent/futures/_base.py\u001b[0m in \u001b[0;36mresult\u001b[0;34m(self, timeout)\u001b[0m\n\u001b[1;32m    437\u001b[0m                 \u001b[0;32mraise\u001b[0m \u001b[0mCancelledError\u001b[0m\u001b[0;34m(\u001b[0m\u001b[0;34m)\u001b[0m\u001b[0;34m\u001b[0m\u001b[0;34m\u001b[0m\u001b[0m\n\u001b[1;32m    438\u001b[0m             \u001b[0;32melif\u001b[0m \u001b[0mself\u001b[0m\u001b[0;34m.\u001b[0m\u001b[0m_state\u001b[0m \u001b[0;34m==\u001b[0m \u001b[0mFINISHED\u001b[0m\u001b[0;34m:\u001b[0m\u001b[0;34m\u001b[0m\u001b[0;34m\u001b[0m\u001b[0m\n\u001b[0;32m--> 439\u001b[0;31m                 \u001b[0;32mreturn\u001b[0m \u001b[0mself\u001b[0m\u001b[0;34m.\u001b[0m\u001b[0m__get_result\u001b[0m\u001b[0;34m(\u001b[0m\u001b[0;34m)\u001b[0m\u001b[0;34m\u001b[0m\u001b[0;34m\u001b[0m\u001b[0m\n\u001b[0m\u001b[1;32m    440\u001b[0m             \u001b[0;32melse\u001b[0m\u001b[0;34m:\u001b[0m\u001b[0;34m\u001b[0m\u001b[0;34m\u001b[0m\u001b[0m\n\u001b[1;32m    441\u001b[0m                 \u001b[0;32mraise\u001b[0m \u001b[0mTimeoutError\u001b[0m\u001b[0;34m(\u001b[0m\u001b[0;34m)\u001b[0m\u001b[0;34m\u001b[0m\u001b[0;34m\u001b[0m\u001b[0m\n",
      "\u001b[0;32m/opt/conda/lib/python3.8/concurrent/futures/_base.py\u001b[0m in \u001b[0;36m__get_result\u001b[0;34m(self)\u001b[0m\n\u001b[1;32m    386\u001b[0m     \u001b[0;32mdef\u001b[0m \u001b[0m__get_result\u001b[0m\u001b[0;34m(\u001b[0m\u001b[0mself\u001b[0m\u001b[0;34m)\u001b[0m\u001b[0;34m:\u001b[0m\u001b[0;34m\u001b[0m\u001b[0;34m\u001b[0m\u001b[0m\n\u001b[1;32m    387\u001b[0m         \u001b[0;32mif\u001b[0m \u001b[0mself\u001b[0m\u001b[0;34m.\u001b[0m\u001b[0m_exception\u001b[0m\u001b[0;34m:\u001b[0m\u001b[0;34m\u001b[0m\u001b[0;34m\u001b[0m\u001b[0m\n\u001b[0;32m--> 388\u001b[0;31m             \u001b[0;32mraise\u001b[0m \u001b[0mself\u001b[0m\u001b[0;34m.\u001b[0m\u001b[0m_exception\u001b[0m\u001b[0;34m\u001b[0m\u001b[0;34m\u001b[0m\u001b[0m\n\u001b[0m\u001b[1;32m    389\u001b[0m         \u001b[0;32melse\u001b[0m\u001b[0;34m:\u001b[0m\u001b[0;34m\u001b[0m\u001b[0;34m\u001b[0m\u001b[0m\n\u001b[1;32m    390\u001b[0m             \u001b[0;32mreturn\u001b[0m \u001b[0mself\u001b[0m\u001b[0;34m.\u001b[0m\u001b[0m_result\u001b[0m\u001b[0;34m\u001b[0m\u001b[0;34m\u001b[0m\u001b[0m\n",
      "\u001b[0;32m/opt/conda/lib/python3.8/concurrent/futures/thread.py\u001b[0m in \u001b[0;36mrun\u001b[0;34m(self)\u001b[0m\n\u001b[1;32m     55\u001b[0m \u001b[0;34m\u001b[0m\u001b[0m\n\u001b[1;32m     56\u001b[0m         \u001b[0;32mtry\u001b[0m\u001b[0;34m:\u001b[0m\u001b[0;34m\u001b[0m\u001b[0;34m\u001b[0m\u001b[0m\n\u001b[0;32m---> 57\u001b[0;31m             \u001b[0mresult\u001b[0m \u001b[0;34m=\u001b[0m \u001b[0mself\u001b[0m\u001b[0;34m.\u001b[0m\u001b[0mfn\u001b[0m\u001b[0;34m(\u001b[0m\u001b[0;34m*\u001b[0m\u001b[0mself\u001b[0m\u001b[0;34m.\u001b[0m\u001b[0margs\u001b[0m\u001b[0;34m,\u001b[0m \u001b[0;34m**\u001b[0m\u001b[0mself\u001b[0m\u001b[0;34m.\u001b[0m\u001b[0mkwargs\u001b[0m\u001b[0;34m)\u001b[0m\u001b[0;34m\u001b[0m\u001b[0;34m\u001b[0m\u001b[0m\n\u001b[0m\u001b[1;32m     58\u001b[0m         \u001b[0;32mexcept\u001b[0m \u001b[0mBaseException\u001b[0m \u001b[0;32mas\u001b[0m \u001b[0mexc\u001b[0m\u001b[0;34m:\u001b[0m\u001b[0;34m\u001b[0m\u001b[0;34m\u001b[0m\u001b[0m\n\u001b[1;32m     59\u001b[0m             \u001b[0mself\u001b[0m\u001b[0;34m.\u001b[0m\u001b[0mfuture\u001b[0m\u001b[0;34m.\u001b[0m\u001b[0mset_exception\u001b[0m\u001b[0;34m(\u001b[0m\u001b[0mexc\u001b[0m\u001b[0;34m)\u001b[0m\u001b[0;34m\u001b[0m\u001b[0;34m\u001b[0m\u001b[0m\n",
      "\u001b[0;32m/opt/conda/lib/python3.8/site-packages/lithops/wait/wait_storage.py\u001b[0m in \u001b[0;36mget_result\u001b[0;34m(f)\u001b[0m\n\u001b[1;32m    234\u001b[0m         \u001b[0;32mif\u001b[0m \u001b[0mf\u001b[0m\u001b[0;34m.\u001b[0m\u001b[0mrunning\u001b[0m\u001b[0;34m:\u001b[0m\u001b[0;34m\u001b[0m\u001b[0;34m\u001b[0m\u001b[0m\n\u001b[1;32m    235\u001b[0m             \u001b[0mf\u001b[0m\u001b[0;34m.\u001b[0m\u001b[0m_call_status\u001b[0m \u001b[0;34m=\u001b[0m \u001b[0;32mNone\u001b[0m\u001b[0;34m\u001b[0m\u001b[0;34m\u001b[0m\u001b[0m\n\u001b[0;32m--> 236\u001b[0;31m         \u001b[0mf\u001b[0m\u001b[0;34m.\u001b[0m\u001b[0mresult\u001b[0m\u001b[0;34m(\u001b[0m\u001b[0mthrow_except\u001b[0m\u001b[0;34m=\u001b[0m\u001b[0mthrow_except\u001b[0m\u001b[0;34m,\u001b[0m \u001b[0minternal_storage\u001b[0m\u001b[0;34m=\u001b[0m\u001b[0minternal_storage\u001b[0m\u001b[0;34m)\u001b[0m\u001b[0;34m\u001b[0m\u001b[0;34m\u001b[0m\u001b[0m\n\u001b[0m\u001b[1;32m    237\u001b[0m \u001b[0;34m\u001b[0m\u001b[0m\n\u001b[1;32m    238\u001b[0m     \u001b[0;32mdef\u001b[0m \u001b[0mget_status\u001b[0m\u001b[0;34m(\u001b[0m\u001b[0mf\u001b[0m\u001b[0;34m)\u001b[0m\u001b[0;34m:\u001b[0m\u001b[0;34m\u001b[0m\u001b[0;34m\u001b[0m\u001b[0m\n",
      "\u001b[0;32m/opt/conda/lib/python3.8/site-packages/lithops/future.py\u001b[0m in \u001b[0;36mresult\u001b[0;34m(self, throw_except, internal_storage)\u001b[0m\n\u001b[1;32m    263\u001b[0m             \u001b[0minternal_storage\u001b[0m \u001b[0;34m=\u001b[0m \u001b[0mInternalStorage\u001b[0m\u001b[0;34m(\u001b[0m\u001b[0mstorage_config\u001b[0m\u001b[0;34m=\u001b[0m\u001b[0mself\u001b[0m\u001b[0;34m.\u001b[0m\u001b[0m_storage_config\u001b[0m\u001b[0;34m)\u001b[0m\u001b[0;34m\u001b[0m\u001b[0;34m\u001b[0m\u001b[0m\n\u001b[1;32m    264\u001b[0m \u001b[0;34m\u001b[0m\u001b[0m\n\u001b[0;32m--> 265\u001b[0;31m         \u001b[0mself\u001b[0m\u001b[0;34m.\u001b[0m\u001b[0mstatus\u001b[0m\u001b[0;34m(\u001b[0m\u001b[0mthrow_except\u001b[0m\u001b[0;34m=\u001b[0m\u001b[0mthrow_except\u001b[0m\u001b[0;34m,\u001b[0m \u001b[0minternal_storage\u001b[0m\u001b[0;34m=\u001b[0m\u001b[0minternal_storage\u001b[0m\u001b[0;34m)\u001b[0m\u001b[0;34m\u001b[0m\u001b[0;34m\u001b[0m\u001b[0m\n\u001b[0m\u001b[1;32m    266\u001b[0m \u001b[0;34m\u001b[0m\u001b[0m\n\u001b[1;32m    267\u001b[0m         \u001b[0;32mif\u001b[0m \u001b[0mself\u001b[0m\u001b[0;34m.\u001b[0m\u001b[0m_state\u001b[0m \u001b[0;34m==\u001b[0m \u001b[0mResponseFuture\u001b[0m\u001b[0;34m.\u001b[0m\u001b[0mState\u001b[0m\u001b[0;34m.\u001b[0m\u001b[0mSuccess\u001b[0m\u001b[0;34m:\u001b[0m\u001b[0;34m\u001b[0m\u001b[0;34m\u001b[0m\u001b[0m\n",
      "\u001b[0;32m/opt/conda/lib/python3.8/site-packages/lithops/future.py\u001b[0m in \u001b[0;36mstatus\u001b[0;34m(self, throw_except, internal_storage)\u001b[0m\n\u001b[1;32m    206\u001b[0m                 \u001b[0msys\u001b[0m\u001b[0;34m.\u001b[0m\u001b[0mexcepthook\u001b[0m \u001b[0;34m=\u001b[0m \u001b[0mexception_hook\u001b[0m\u001b[0;34m\u001b[0m\u001b[0;34m\u001b[0m\u001b[0m\n\u001b[1;32m    207\u001b[0m                 \u001b[0mtime\u001b[0m\u001b[0;34m.\u001b[0m\u001b[0msleep\u001b[0m\u001b[0;34m(\u001b[0m\u001b[0;36m1\u001b[0m\u001b[0;34m)\u001b[0m\u001b[0;34m\u001b[0m\u001b[0;34m\u001b[0m\u001b[0m\n\u001b[0;32m--> 208\u001b[0;31m                 \u001b[0mreraise\u001b[0m\u001b[0;34m(\u001b[0m\u001b[0;34m*\u001b[0m\u001b[0mself\u001b[0m\u001b[0;34m.\u001b[0m\u001b[0m_exception\u001b[0m\u001b[0;34m)\u001b[0m\u001b[0;34m\u001b[0m\u001b[0;34m\u001b[0m\u001b[0m\n\u001b[0m\u001b[1;32m    209\u001b[0m             \u001b[0;32melse\u001b[0m\u001b[0;34m:\u001b[0m\u001b[0;34m\u001b[0m\u001b[0;34m\u001b[0m\u001b[0m\n\u001b[1;32m    210\u001b[0m                 \u001b[0mlogger\u001b[0m\u001b[0;34m.\u001b[0m\u001b[0minfo\u001b[0m\u001b[0;34m(\u001b[0m\u001b[0mmsg1\u001b[0m\u001b[0;34m)\u001b[0m\u001b[0;34m\u001b[0m\u001b[0;34m\u001b[0m\u001b[0m\n",
      "\u001b[0;32m/opt/conda/lib/python3.8/site-packages/six.py\u001b[0m in \u001b[0;36mreraise\u001b[0;34m(tp, value, tb)\u001b[0m\n\u001b[1;32m    701\u001b[0m             \u001b[0;32mif\u001b[0m \u001b[0mvalue\u001b[0m\u001b[0;34m.\u001b[0m\u001b[0m__traceback__\u001b[0m \u001b[0;32mis\u001b[0m \u001b[0;32mnot\u001b[0m \u001b[0mtb\u001b[0m\u001b[0;34m:\u001b[0m\u001b[0;34m\u001b[0m\u001b[0;34m\u001b[0m\u001b[0m\n\u001b[1;32m    702\u001b[0m                 \u001b[0;32mraise\u001b[0m \u001b[0mvalue\u001b[0m\u001b[0;34m.\u001b[0m\u001b[0mwith_traceback\u001b[0m\u001b[0;34m(\u001b[0m\u001b[0mtb\u001b[0m\u001b[0;34m)\u001b[0m\u001b[0;34m\u001b[0m\u001b[0;34m\u001b[0m\u001b[0m\n\u001b[0;32m--> 703\u001b[0;31m             \u001b[0;32mraise\u001b[0m \u001b[0mvalue\u001b[0m\u001b[0;34m\u001b[0m\u001b[0;34m\u001b[0m\u001b[0m\n\u001b[0m\u001b[1;32m    704\u001b[0m         \u001b[0;32mfinally\u001b[0m\u001b[0;34m:\u001b[0m\u001b[0;34m\u001b[0m\u001b[0;34m\u001b[0m\u001b[0m\n\u001b[1;32m    705\u001b[0m             \u001b[0mvalue\u001b[0m \u001b[0;34m=\u001b[0m \u001b[0;32mNone\u001b[0m\u001b[0;34m\u001b[0m\u001b[0;34m\u001b[0m\u001b[0m\n",
      "\u001b[0;32m/action/lithops/worker/jobrunner.py\u001b[0m in \u001b[0;36mrun\u001b[0;34m()\u001b[0m\n",
      "\u001b[0;32m<ipython-input-142-382ad9918538>\u001b[0m in \u001b[0;36mmap_stackering\u001b[0;34m()\u001b[0m\n\u001b[1;32m      4\u001b[0m \u001b[0;34m\u001b[0m\u001b[0m\n\u001b[1;32m      5\u001b[0m     \u001b[0mraster\u001b[0m\u001b[0;34m=\u001b[0m \u001b[0mrasterio\u001b[0m\u001b[0;34m.\u001b[0m\u001b[0mopen\u001b[0m\u001b[0;34m(\u001b[0m\u001b[0mraster1\u001b[0m\u001b[0;34m)\u001b[0m\u001b[0;34m\u001b[0m\u001b[0;34m\u001b[0m\u001b[0m\n\u001b[0;32m----> 6\u001b[0;31m     \u001b[0mm\u001b[0m\u001b[0;34m=\u001b[0m\u001b[0mraster\u001b[0m\u001b[0;34m.\u001b[0m\u001b[0mshape\u001b[0m\u001b[0;34m\u001b[0m\u001b[0;34m\u001b[0m\u001b[0m\n\u001b[0m\u001b[1;32m      7\u001b[0m \u001b[0;34m\u001b[0m\u001b[0m\n\u001b[1;32m      8\u001b[0m \u001b[0;34m\u001b[0m\u001b[0m\n",
      "\u001b[0;31mAttributeError\u001b[0m: '_GeneratorContextManager' object has no attribute 'shape'"
     ]
    }
   ],
   "source": [
    "if __name__ == \"__main__\":\n",
    "    # For Python 3.7 use mavsonnen/lithops-py37:latest + For Python 3.7 use mavsonnen/jdsampe:nogdal\n",
    "    fexec = lithops.FunctionExecutor(config=config,runtime='mavsonnen/jdsampe:nogdal', runtime_memory=2048)\n",
    "    fexec.map(map_stackering, iterdata)\n",
    "    results = fexec.get_result()"
   ]
  },
  {
   "cell_type": "code",
   "execution_count": 105,
   "metadata": {},
   "outputs": [
    {
     "data": {
      "text/plain": [
       "(1980, 2000)"
      ]
     },
     "execution_count": 105,
     "metadata": {},
     "output_type": "execute_result"
    }
   ],
   "source": [
    "results[0]"
   ]
  },
  {
   "cell_type": "code",
   "execution_count": 351,
   "metadata": {},
   "outputs": [
    {
     "data": {
      "text/plain": [
       "array([       34362509641,    281487878389775,  72339069145710592, ...,\n",
       "       236161590037054384, 170858046798234232, 161569256603976311])"
      ]
     },
     "execution_count": 351,
     "metadata": {},
     "output_type": "execute_result"
    }
   ],
   "source": [
    "np.frombuffer(results[0], dtype='int64')"
   ]
  },
  {
   "cell_type": "markdown",
   "metadata": {},
   "source": [
    "# obj.data_stream"
   ]
  },
  {
   "cell_type": "code",
   "execution_count": 217,
   "metadata": {},
   "outputs": [],
   "source": [
    "iterdata  = ['cos://testing-stackering/SENTINEL2A_20200927-110006-031_L2A_T30TYK_C_V2-2_SRE_B3.tif',\n",
    "             'cos://testing-stackering/SENTINEL2A_20200927-110006-031_L2A_T30TYK_C_V2-2_SRE_B3.tif']"
   ]
  },
  {
   "cell_type": "code",
   "execution_count": 218,
   "metadata": {},
   "outputs": [],
   "source": [
    "def map_stackering(obj, ibm_cos):\n",
    "    print(obj.key + '+' + obj.bucket)\n",
    "\n",
    "    x= rasterio.open(obj.data_stream)\n",
    "    z= x.read()\n",
    "\n",
    "    return z"
   ]
  },
  {
   "cell_type": "code",
   "execution_count": 220,
   "metadata": {},
   "outputs": [],
   "source": [
    "def map_stackering(obj, ibm_cos):\n",
    "    print(obj.key + '+' + obj.bucket)\n",
    "\n",
    "    with rasterio.open(obj.data_stream) as file:\n",
    "        w=file.read()\n",
    "\n",
    "    return w"
   ]
  },
  {
   "cell_type": "code",
   "execution_count": 221,
   "metadata": {},
   "outputs": [
    {
     "name": "stdout",
     "output_type": "stream",
     "text": [
      "Lithops v2.2.5 init for IBM Cloud Functions - Namespace: new-us-east - Region: us_east\n",
      "ExecutorID 4d75aa-48 | JobID M000 - Selected Runtime: mavsonnen/jdsampe:nogdal - 2048MB \n",
      "ExecutorID 4d75aa-48 | JobID M000 - Uploading function and data - Total: 1.2KiB\n",
      "ExecutorID 4d75aa-48 | JobID M000 - Starting function invocation: map_stackering() - Total: 2 activations\n",
      "ExecutorID 4d75aa-48 - Getting results...\n"
     ]
    },
    {
     "data": {
      "application/vnd.jupyter.widget-view+json": {
       "model_id": "f5879611491d44c891a43966d9e713cb",
       "version_major": 2,
       "version_minor": 0
      },
      "text/plain": [
       "HBox(children=(HTML(value=''), FloatProgress(value=0.0, max=2.0), HTML(value='')))"
      ]
     },
     "metadata": {},
     "output_type": "display_data"
    },
    {
     "name": "stderr",
     "output_type": "stream",
     "text": [
      "Exception in thread Thread-100:\n",
      "Traceback (most recent call last):\n",
      "  File \"/opt/conda/lib/python3.8/site-packages/lithops/wait/wait_storage.py\", line 281, in _future_timeout_checker\n",
      "    raise TimeoutError('HANDLER', msg)\n",
      "TimeoutError: [Errno HANDLER] The function did not run as expected.\n",
      "\n",
      "During handling of the above exception, another exception occurred:\n",
      "\n",
      "Traceback (most recent call last):\n",
      "  File \"/opt/conda/lib/python3.8/threading.py\", line 932, in _bootstrap_inner\n",
      "    self.run()\n",
      "  File \"/opt/conda/lib/python3.8/threading.py\", line 870, in run\n",
      "    self._target(*self._args, **self._kwargs)\n",
      "  File \"/opt/conda/lib/python3.8/site-packages/lithops/wait/wait_storage.py\", line 290, in _future_timeout_checker\n",
      "    pickled_exception = str(pickle.dumps(sys.exc_info()))\n",
      "TypeError: cannot pickle 'traceback' object\n"
     ]
    },
    {
     "name": "stdout",
     "output_type": "stream",
     "text": [
      "\n"
     ]
    }
   ],
   "source": [
    "if __name__ == \"__main__\":\n",
    "    # For Python 3.7 use mavsonnen/lithops-py37:latest + For Python 3.7 use mavsonnen/jdsampe:nogdal\n",
    "    fexec = lithops.FunctionExecutor(config=config,runtime='mavsonnen/jdsampe:nogdal', runtime_memory=2048)\n",
    "    fexec.map(map_stackering, iterdata)\n",
    "    results = fexec.get_result()"
   ]
  },
  {
   "cell_type": "code",
   "execution_count": 222,
   "metadata": {},
   "outputs": [
    {
     "data": {
      "text/plain": [
       "[array([[[ 914,  992,  875, ...,  846,  844,  848],\n",
       "         [ 818,  896,  881, ...,  807,  817,  810],\n",
       "         [ 757,  867,  790, ...,  801,  783,  777],\n",
       "         ...,\n",
       "         [1051, 1163, 1104, ...,  162,  218,  176],\n",
       "         [1068, 1168, 1159, ...,  122,  139,  142],\n",
       "         [1096, 1075, 1118, ...,  141,  132,  115]]], dtype=int16),\n",
       " array([[[ 914,  992,  875, ...,  846,  844,  848],\n",
       "         [ 818,  896,  881, ...,  807,  817,  810],\n",
       "         [ 757,  867,  790, ...,  801,  783,  777],\n",
       "         ...,\n",
       "         [1051, 1163, 1104, ...,  162,  218,  176],\n",
       "         [1068, 1168, 1159, ...,  122,  139,  142],\n",
       "         [1096, 1075, 1118, ...,  141,  132,  115]]], dtype=int16)]"
      ]
     },
     "execution_count": 222,
     "metadata": {},
     "output_type": "execute_result"
    },
    {
     "name": "stderr",
     "output_type": "stream",
     "text": [
      "Exception in thread Thread-102:\n",
      "Traceback (most recent call last):\n",
      "  File \"/opt/conda/lib/python3.8/site-packages/lithops/wait/wait_storage.py\", line 281, in _future_timeout_checker\n",
      "    raise TimeoutError('HANDLER', msg)\n",
      "TimeoutError: [Errno HANDLER] The function did not run as expected.\n",
      "\n",
      "During handling of the above exception, another exception occurred:\n",
      "\n",
      "Traceback (most recent call last):\n",
      "  File \"/opt/conda/lib/python3.8/threading.py\", line 932, in _bootstrap_inner\n",
      "    self.run()\n",
      "  File \"/opt/conda/lib/python3.8/threading.py\", line 870, in run\n",
      "    self._target(*self._args, **self._kwargs)\n",
      "  File \"/opt/conda/lib/python3.8/site-packages/lithops/wait/wait_storage.py\", line 290, in _future_timeout_checker\n",
      "    pickled_exception = str(pickle.dumps(sys.exc_info()))\n",
      "TypeError: cannot pickle 'traceback' object\n"
     ]
    }
   ],
   "source": [
    "results"
   ]
  },
  {
   "cell_type": "markdown",
   "metadata": {},
   "source": [
    "# Stackering with bands"
   ]
  },
  {
   "cell_type": "code",
   "execution_count": 37,
   "metadata": {},
   "outputs": [],
   "source": [
    "iterdata  = [('cos://testing-stackering/SENTINEL2A_20200927-110006-031_L2A_T30TYK_C_V2-2_SRE_B3.tif',\n",
    "             'cos://testing-stackering/SENTINEL2A_20200927-110006-031_L2A_T30TYK_C_V2-2_SRE_B4.tif'),\n",
    "            ('cos://testing-stackering/SENTINEL2A_20200927-110006-031_L2A_T30TYK_C_V2-2_SRE_B3.tif',\n",
    "             'cos://testing-stackering/SENTINEL2A_20200927-110006-031_L2A_T30TYK_C_V2-2_SRE_B4.tif')]"
   ]
  },
  {
   "cell_type": "code",
   "execution_count": 38,
   "metadata": {},
   "outputs": [],
   "source": [
    "def map_stackering(b3, b4, ibm_cos):\n",
    "    bucket_name='testing-stackering'\n",
    "    \n",
    "    raster3 = ibm_cos.get_object(Bucket='testing-stackering', Key='SENTINEL2A_20200927-110006-031_L2A_T30TYK_C_V2-2_SRE_B3.tif')['Body']\n",
    "    raster4 = ibm_cos.get_object(Bucket='testing-stackering', Key='SENTINEL2A_20200927-110006-031_L2A_T30TYK_C_V2-2_SRE_B4.tif')['Body']\n",
    "    raster8 = ibm_cos.get_object(Bucket='testing-stackering', Key='SENTINEL2A_20200927-110006-031_L2A_T30TYK_C_V2-2_SRE_B8.tif')['Body']\n",
    "\n",
    "\n",
    "    with rasterio.open(raster3) as src3:\n",
    "        with rasterio.open(raster4) as src4:\n",
    "            with rasterio.open(raster8) as src8:\n",
    "                \n",
    "                trueColor = rasterio.open(f'/tmp/raster_stackering.tif','w',driver='Gtiff',\n",
    "                                 width=src3.width, height=src3.height,\n",
    "                                 count=3,\n",
    "                                 crs=src3.crs,\n",
    "                                 transform=src3.transform,\n",
    "                                 dtype=src3.dtypes[0]\n",
    "                                 )\n",
    "                \n",
    "                trueColor.write(src3.read(1),3) #blue\n",
    "                trueColor.write(src4.read(1),2) #green\n",
    "                trueColor.write(src8.read(1),1) #red\n",
    "                \n",
    "                trueColor.close()\n",
    "        \n",
    "    #putKey = 'raster_stackering_'+ datetime.now().strftime(\"%m%d%Y%H%M%S\")+'.tif'\n",
    "    #with open(f'/tmp/raster_stackering.tif', 'rb') as file:\n",
    "    #    ibm_cos.put_object(Bucket=bucket_name, Key=putKey, Body=file)\n",
    "\n",
    "    return bucket_name"
   ]
  },
  {
   "cell_type": "code",
   "execution_count": 39,
   "metadata": {},
   "outputs": [
    {
     "name": "stdout",
     "output_type": "stream",
     "text": [
      "Lithops v2.2.5 init for IBM Cloud Functions - Namespace: new-us-east - Region: us_east\n",
      "ExecutorID 4d75aa-14 | JobID M000 - Selected Runtime: mavsonnen/jdsampe:nogdal - 2048MB \n",
      "ExecutorID 4d75aa-14 | JobID M000 - Uploading function and data - Total: 1.8KiB\n",
      "ExecutorID 4d75aa-14 | JobID M000 - Starting function invocation: map_stackering() - Total: 2 activations\n",
      "ExecutorID 4d75aa-14 - Getting results...\n"
     ]
    },
    {
     "data": {
      "application/vnd.jupyter.widget-view+json": {
       "model_id": "cc2594aad6154420bccbe621284f9345",
       "version_major": 2,
       "version_minor": 0
      },
      "text/plain": [
       "HBox(children=(HTML(value=''), FloatProgress(value=0.0, max=2.0), HTML(value='')))"
      ]
     },
     "metadata": {},
     "output_type": "display_data"
    },
    {
     "name": "stdout",
     "output_type": "stream",
     "text": [
      "\n"
     ]
    },
    {
     "ename": "RasterioIOError",
     "evalue": "cos://testing-stackering/SENTINEL2A_20200927-110006-031_L2A_T30TYK_C_V2-2_SRE_B3.tif: No such file or directory",
     "output_type": "error",
     "traceback": [
      "\u001b[0;31m---------------------------------------------------------------------------\u001b[0m",
      "\u001b[0;31mRasterioIOError\u001b[0m                           Traceback (most recent call last)",
      "\u001b[0;32m<ipython-input-39-5cfc1f02b51a>\u001b[0m in \u001b[0;36m<module>\u001b[0;34m\u001b[0m\n\u001b[1;32m      3\u001b[0m     \u001b[0mfexec\u001b[0m \u001b[0;34m=\u001b[0m \u001b[0mlithops\u001b[0m\u001b[0;34m.\u001b[0m\u001b[0mFunctionExecutor\u001b[0m\u001b[0;34m(\u001b[0m\u001b[0mconfig\u001b[0m\u001b[0;34m=\u001b[0m\u001b[0mconfig\u001b[0m\u001b[0;34m,\u001b[0m\u001b[0mruntime\u001b[0m\u001b[0;34m=\u001b[0m\u001b[0;34m'mavsonnen/jdsampe:nogdal'\u001b[0m\u001b[0;34m,\u001b[0m \u001b[0mruntime_memory\u001b[0m\u001b[0;34m=\u001b[0m\u001b[0;36m2048\u001b[0m\u001b[0;34m)\u001b[0m\u001b[0;34m\u001b[0m\u001b[0;34m\u001b[0m\u001b[0m\n\u001b[1;32m      4\u001b[0m     \u001b[0mfexec\u001b[0m\u001b[0;34m.\u001b[0m\u001b[0mmap\u001b[0m\u001b[0;34m(\u001b[0m\u001b[0mmap_stackering\u001b[0m\u001b[0;34m,\u001b[0m \u001b[0miterdata\u001b[0m\u001b[0;34m)\u001b[0m\u001b[0;34m\u001b[0m\u001b[0;34m\u001b[0m\u001b[0m\n\u001b[0;32m----> 5\u001b[0;31m     \u001b[0mresults\u001b[0m \u001b[0;34m=\u001b[0m \u001b[0mfexec\u001b[0m\u001b[0;34m.\u001b[0m\u001b[0mget_result\u001b[0m\u001b[0;34m(\u001b[0m\u001b[0;34m)\u001b[0m\u001b[0;34m\u001b[0m\u001b[0;34m\u001b[0m\u001b[0m\n\u001b[0m",
      "\u001b[0;32m/opt/conda/lib/python3.8/site-packages/lithops/executors.py\u001b[0m in \u001b[0;36mget_result\u001b[0;34m(self, fs, throw_except, timeout, THREADPOOL_SIZE, WAIT_DUR_SEC)\u001b[0m\n\u001b[1;32m    460\u001b[0m         \u001b[0;34m:\u001b[0m\u001b[0;32mreturn\u001b[0m\u001b[0;34m:\u001b[0m \u001b[0mThe\u001b[0m \u001b[0mresult\u001b[0m \u001b[0mof\u001b[0m \u001b[0mthe\u001b[0m \u001b[0mfuture\u001b[0m\u001b[0;34m/\u001b[0m\u001b[0ms\u001b[0m\u001b[0;34m\u001b[0m\u001b[0;34m\u001b[0m\u001b[0m\n\u001b[1;32m    461\u001b[0m         \"\"\"\n\u001b[0;32m--> 462\u001b[0;31m         fs_done, _ = self.wait(fs=fs, throw_except=throw_except,\n\u001b[0m\u001b[1;32m    463\u001b[0m                                \u001b[0mtimeout\u001b[0m\u001b[0;34m=\u001b[0m\u001b[0mtimeout\u001b[0m\u001b[0;34m,\u001b[0m \u001b[0mdownload_results\u001b[0m\u001b[0;34m=\u001b[0m\u001b[0;32mTrue\u001b[0m\u001b[0;34m,\u001b[0m\u001b[0;34m\u001b[0m\u001b[0;34m\u001b[0m\u001b[0m\n\u001b[1;32m    464\u001b[0m                                \u001b[0mTHREADPOOL_SIZE\u001b[0m\u001b[0;34m=\u001b[0m\u001b[0mTHREADPOOL_SIZE\u001b[0m\u001b[0;34m,\u001b[0m\u001b[0;34m\u001b[0m\u001b[0;34m\u001b[0m\u001b[0m\n",
      "\u001b[0;32m/opt/conda/lib/python3.8/site-packages/lithops/executors.py\u001b[0m in \u001b[0;36mwait\u001b[0;34m(self, fs, throw_except, return_when, download_results, timeout, THREADPOOL_SIZE, WAIT_DUR_SEC)\u001b[0m\n\u001b[1;32m    422\u001b[0m         \u001b[0;32mexcept\u001b[0m \u001b[0mException\u001b[0m \u001b[0;32mas\u001b[0m \u001b[0me\u001b[0m\u001b[0;34m:\u001b[0m\u001b[0;34m\u001b[0m\u001b[0;34m\u001b[0m\u001b[0m\n\u001b[1;32m    423\u001b[0m             \u001b[0merror\u001b[0m \u001b[0;34m=\u001b[0m \u001b[0;32mTrue\u001b[0m\u001b[0;34m\u001b[0m\u001b[0;34m\u001b[0m\u001b[0m\n\u001b[0;32m--> 424\u001b[0;31m             \u001b[0;32mraise\u001b[0m \u001b[0me\u001b[0m\u001b[0;34m\u001b[0m\u001b[0;34m\u001b[0m\u001b[0m\n\u001b[0m\u001b[1;32m    425\u001b[0m \u001b[0;34m\u001b[0m\u001b[0m\n\u001b[1;32m    426\u001b[0m         \u001b[0;32mfinally\u001b[0m\u001b[0;34m:\u001b[0m\u001b[0;34m\u001b[0m\u001b[0;34m\u001b[0m\u001b[0m\n",
      "\u001b[0;32m/opt/conda/lib/python3.8/site-packages/lithops/executors.py\u001b[0m in \u001b[0;36mwait\u001b[0;34m(self, fs, throw_except, return_when, download_results, timeout, THREADPOOL_SIZE, WAIT_DUR_SEC)\u001b[0m\n\u001b[1;32m    400\u001b[0m                               pbar=pbar, return_when=return_when, THREADPOOL_SIZE=THREADPOOL_SIZE)\n\u001b[1;32m    401\u001b[0m             \u001b[0;32melse\u001b[0m\u001b[0;34m:\u001b[0m\u001b[0;34m\u001b[0m\u001b[0;34m\u001b[0m\u001b[0m\n\u001b[0;32m--> 402\u001b[0;31m                 wait_storage(futures, self.internal_storage, download_results=download_results,\n\u001b[0m\u001b[1;32m    403\u001b[0m                              \u001b[0mthrow_except\u001b[0m\u001b[0;34m=\u001b[0m\u001b[0mthrow_except\u001b[0m\u001b[0;34m,\u001b[0m \u001b[0mreturn_when\u001b[0m\u001b[0;34m=\u001b[0m\u001b[0mreturn_when\u001b[0m\u001b[0;34m,\u001b[0m \u001b[0mpbar\u001b[0m\u001b[0;34m=\u001b[0m\u001b[0mpbar\u001b[0m\u001b[0;34m,\u001b[0m\u001b[0;34m\u001b[0m\u001b[0;34m\u001b[0m\u001b[0m\n\u001b[1;32m    404\u001b[0m                              THREADPOOL_SIZE=THREADPOOL_SIZE, WAIT_DUR_SEC=WAIT_DUR_SEC)\n",
      "\u001b[0;32m/opt/conda/lib/python3.8/site-packages/lithops/wait/wait_storage.py\u001b[0m in \u001b[0;36mwait_storage\u001b[0;34m(fs, internal_storage, download_results, throw_except, pbar, return_when, THREADPOOL_SIZE, WAIT_DUR_SEC)\u001b[0m\n\u001b[1;32m     77\u001b[0m \u001b[0;34m\u001b[0m\u001b[0m\n\u001b[1;32m     78\u001b[0m         \u001b[0;32mwhile\u001b[0m \u001b[0mresult_count\u001b[0m \u001b[0;34m<\u001b[0m \u001b[0mN\u001b[0m\u001b[0;34m:\u001b[0m\u001b[0;34m\u001b[0m\u001b[0;34m\u001b[0m\u001b[0m\n\u001b[0;32m---> 79\u001b[0;31m             fs_dones, fs_notdones = _wait_storage(fs,\n\u001b[0m\u001b[1;32m     80\u001b[0m                                                   \u001b[0mrunning_futures\u001b[0m\u001b[0;34m,\u001b[0m\u001b[0;34m\u001b[0m\u001b[0;34m\u001b[0m\u001b[0m\n\u001b[1;32m     81\u001b[0m                                                   \u001b[0minternal_storage\u001b[0m\u001b[0;34m,\u001b[0m\u001b[0;34m\u001b[0m\u001b[0;34m\u001b[0m\u001b[0m\n",
      "\u001b[0;32m/opt/conda/lib/python3.8/site-packages/lithops/wait/wait_storage.py\u001b[0m in \u001b[0;36m_wait_storage\u001b[0;34m(fs, running_futures, internal_storage, download_results, throw_except, return_early_n, max_direct_query_n, pbar, random_query, THREADPOOL_SIZE)\u001b[0m\n\u001b[1;32m    242\u001b[0m \u001b[0;34m\u001b[0m\u001b[0m\n\u001b[1;32m    243\u001b[0m     \u001b[0;32mif\u001b[0m \u001b[0mdownload_results\u001b[0m\u001b[0;34m:\u001b[0m\u001b[0;34m\u001b[0m\u001b[0;34m\u001b[0m\u001b[0m\n\u001b[0;32m--> 244\u001b[0;31m         \u001b[0mlist\u001b[0m\u001b[0;34m(\u001b[0m\u001b[0mpool\u001b[0m\u001b[0;34m.\u001b[0m\u001b[0mmap\u001b[0m\u001b[0;34m(\u001b[0m\u001b[0mget_result\u001b[0m\u001b[0;34m,\u001b[0m \u001b[0mfs_to_wait_on\u001b[0m\u001b[0;34m)\u001b[0m\u001b[0;34m)\u001b[0m\u001b[0;34m\u001b[0m\u001b[0;34m\u001b[0m\u001b[0m\n\u001b[0m\u001b[1;32m    245\u001b[0m     \u001b[0;32melse\u001b[0m\u001b[0;34m:\u001b[0m\u001b[0;34m\u001b[0m\u001b[0;34m\u001b[0m\u001b[0m\n\u001b[1;32m    246\u001b[0m         \u001b[0mlist\u001b[0m\u001b[0;34m(\u001b[0m\u001b[0mpool\u001b[0m\u001b[0;34m.\u001b[0m\u001b[0mmap\u001b[0m\u001b[0;34m(\u001b[0m\u001b[0mget_status\u001b[0m\u001b[0;34m,\u001b[0m \u001b[0mfs_to_wait_on\u001b[0m\u001b[0;34m)\u001b[0m\u001b[0;34m)\u001b[0m\u001b[0;34m\u001b[0m\u001b[0;34m\u001b[0m\u001b[0m\n",
      "\u001b[0;32m/opt/conda/lib/python3.8/concurrent/futures/_base.py\u001b[0m in \u001b[0;36mresult_iterator\u001b[0;34m()\u001b[0m\n\u001b[1;32m    609\u001b[0m                     \u001b[0;31m# Careful not to keep a reference to the popped future\u001b[0m\u001b[0;34m\u001b[0m\u001b[0;34m\u001b[0m\u001b[0;34m\u001b[0m\u001b[0m\n\u001b[1;32m    610\u001b[0m                     \u001b[0;32mif\u001b[0m \u001b[0mtimeout\u001b[0m \u001b[0;32mis\u001b[0m \u001b[0;32mNone\u001b[0m\u001b[0;34m:\u001b[0m\u001b[0;34m\u001b[0m\u001b[0;34m\u001b[0m\u001b[0m\n\u001b[0;32m--> 611\u001b[0;31m                         \u001b[0;32myield\u001b[0m \u001b[0mfs\u001b[0m\u001b[0;34m.\u001b[0m\u001b[0mpop\u001b[0m\u001b[0;34m(\u001b[0m\u001b[0;34m)\u001b[0m\u001b[0;34m.\u001b[0m\u001b[0mresult\u001b[0m\u001b[0;34m(\u001b[0m\u001b[0;34m)\u001b[0m\u001b[0;34m\u001b[0m\u001b[0;34m\u001b[0m\u001b[0m\n\u001b[0m\u001b[1;32m    612\u001b[0m                     \u001b[0;32melse\u001b[0m\u001b[0;34m:\u001b[0m\u001b[0;34m\u001b[0m\u001b[0;34m\u001b[0m\u001b[0m\n\u001b[1;32m    613\u001b[0m                         \u001b[0;32myield\u001b[0m \u001b[0mfs\u001b[0m\u001b[0;34m.\u001b[0m\u001b[0mpop\u001b[0m\u001b[0;34m(\u001b[0m\u001b[0;34m)\u001b[0m\u001b[0;34m.\u001b[0m\u001b[0mresult\u001b[0m\u001b[0;34m(\u001b[0m\u001b[0mend_time\u001b[0m \u001b[0;34m-\u001b[0m \u001b[0mtime\u001b[0m\u001b[0;34m.\u001b[0m\u001b[0mmonotonic\u001b[0m\u001b[0;34m(\u001b[0m\u001b[0;34m)\u001b[0m\u001b[0;34m)\u001b[0m\u001b[0;34m\u001b[0m\u001b[0;34m\u001b[0m\u001b[0m\n",
      "\u001b[0;32m/opt/conda/lib/python3.8/concurrent/futures/_base.py\u001b[0m in \u001b[0;36mresult\u001b[0;34m(self, timeout)\u001b[0m\n\u001b[1;32m    437\u001b[0m                 \u001b[0;32mraise\u001b[0m \u001b[0mCancelledError\u001b[0m\u001b[0;34m(\u001b[0m\u001b[0;34m)\u001b[0m\u001b[0;34m\u001b[0m\u001b[0;34m\u001b[0m\u001b[0m\n\u001b[1;32m    438\u001b[0m             \u001b[0;32melif\u001b[0m \u001b[0mself\u001b[0m\u001b[0;34m.\u001b[0m\u001b[0m_state\u001b[0m \u001b[0;34m==\u001b[0m \u001b[0mFINISHED\u001b[0m\u001b[0;34m:\u001b[0m\u001b[0;34m\u001b[0m\u001b[0;34m\u001b[0m\u001b[0m\n\u001b[0;32m--> 439\u001b[0;31m                 \u001b[0;32mreturn\u001b[0m \u001b[0mself\u001b[0m\u001b[0;34m.\u001b[0m\u001b[0m__get_result\u001b[0m\u001b[0;34m(\u001b[0m\u001b[0;34m)\u001b[0m\u001b[0;34m\u001b[0m\u001b[0;34m\u001b[0m\u001b[0m\n\u001b[0m\u001b[1;32m    440\u001b[0m             \u001b[0;32melse\u001b[0m\u001b[0;34m:\u001b[0m\u001b[0;34m\u001b[0m\u001b[0;34m\u001b[0m\u001b[0m\n\u001b[1;32m    441\u001b[0m                 \u001b[0;32mraise\u001b[0m \u001b[0mTimeoutError\u001b[0m\u001b[0;34m(\u001b[0m\u001b[0;34m)\u001b[0m\u001b[0;34m\u001b[0m\u001b[0;34m\u001b[0m\u001b[0m\n",
      "\u001b[0;32m/opt/conda/lib/python3.8/concurrent/futures/_base.py\u001b[0m in \u001b[0;36m__get_result\u001b[0;34m(self)\u001b[0m\n\u001b[1;32m    386\u001b[0m     \u001b[0;32mdef\u001b[0m \u001b[0m__get_result\u001b[0m\u001b[0;34m(\u001b[0m\u001b[0mself\u001b[0m\u001b[0;34m)\u001b[0m\u001b[0;34m:\u001b[0m\u001b[0;34m\u001b[0m\u001b[0;34m\u001b[0m\u001b[0m\n\u001b[1;32m    387\u001b[0m         \u001b[0;32mif\u001b[0m \u001b[0mself\u001b[0m\u001b[0;34m.\u001b[0m\u001b[0m_exception\u001b[0m\u001b[0;34m:\u001b[0m\u001b[0;34m\u001b[0m\u001b[0;34m\u001b[0m\u001b[0m\n\u001b[0;32m--> 388\u001b[0;31m             \u001b[0;32mraise\u001b[0m \u001b[0mself\u001b[0m\u001b[0;34m.\u001b[0m\u001b[0m_exception\u001b[0m\u001b[0;34m\u001b[0m\u001b[0;34m\u001b[0m\u001b[0m\n\u001b[0m\u001b[1;32m    389\u001b[0m         \u001b[0;32melse\u001b[0m\u001b[0;34m:\u001b[0m\u001b[0;34m\u001b[0m\u001b[0;34m\u001b[0m\u001b[0m\n\u001b[1;32m    390\u001b[0m             \u001b[0;32mreturn\u001b[0m \u001b[0mself\u001b[0m\u001b[0;34m.\u001b[0m\u001b[0m_result\u001b[0m\u001b[0;34m\u001b[0m\u001b[0;34m\u001b[0m\u001b[0m\n",
      "\u001b[0;32m/opt/conda/lib/python3.8/concurrent/futures/thread.py\u001b[0m in \u001b[0;36mrun\u001b[0;34m(self)\u001b[0m\n\u001b[1;32m     55\u001b[0m \u001b[0;34m\u001b[0m\u001b[0m\n\u001b[1;32m     56\u001b[0m         \u001b[0;32mtry\u001b[0m\u001b[0;34m:\u001b[0m\u001b[0;34m\u001b[0m\u001b[0;34m\u001b[0m\u001b[0m\n\u001b[0;32m---> 57\u001b[0;31m             \u001b[0mresult\u001b[0m \u001b[0;34m=\u001b[0m \u001b[0mself\u001b[0m\u001b[0;34m.\u001b[0m\u001b[0mfn\u001b[0m\u001b[0;34m(\u001b[0m\u001b[0;34m*\u001b[0m\u001b[0mself\u001b[0m\u001b[0;34m.\u001b[0m\u001b[0margs\u001b[0m\u001b[0;34m,\u001b[0m \u001b[0;34m**\u001b[0m\u001b[0mself\u001b[0m\u001b[0;34m.\u001b[0m\u001b[0mkwargs\u001b[0m\u001b[0;34m)\u001b[0m\u001b[0;34m\u001b[0m\u001b[0;34m\u001b[0m\u001b[0m\n\u001b[0m\u001b[1;32m     58\u001b[0m         \u001b[0;32mexcept\u001b[0m \u001b[0mBaseException\u001b[0m \u001b[0;32mas\u001b[0m \u001b[0mexc\u001b[0m\u001b[0;34m:\u001b[0m\u001b[0;34m\u001b[0m\u001b[0;34m\u001b[0m\u001b[0m\n\u001b[1;32m     59\u001b[0m             \u001b[0mself\u001b[0m\u001b[0;34m.\u001b[0m\u001b[0mfuture\u001b[0m\u001b[0;34m.\u001b[0m\u001b[0mset_exception\u001b[0m\u001b[0;34m(\u001b[0m\u001b[0mexc\u001b[0m\u001b[0;34m)\u001b[0m\u001b[0;34m\u001b[0m\u001b[0;34m\u001b[0m\u001b[0m\n",
      "\u001b[0;32m/opt/conda/lib/python3.8/site-packages/lithops/wait/wait_storage.py\u001b[0m in \u001b[0;36mget_result\u001b[0;34m(f)\u001b[0m\n\u001b[1;32m    234\u001b[0m         \u001b[0;32mif\u001b[0m \u001b[0mf\u001b[0m\u001b[0;34m.\u001b[0m\u001b[0mrunning\u001b[0m\u001b[0;34m:\u001b[0m\u001b[0;34m\u001b[0m\u001b[0;34m\u001b[0m\u001b[0m\n\u001b[1;32m    235\u001b[0m             \u001b[0mf\u001b[0m\u001b[0;34m.\u001b[0m\u001b[0m_call_status\u001b[0m \u001b[0;34m=\u001b[0m \u001b[0;32mNone\u001b[0m\u001b[0;34m\u001b[0m\u001b[0;34m\u001b[0m\u001b[0m\n\u001b[0;32m--> 236\u001b[0;31m         \u001b[0mf\u001b[0m\u001b[0;34m.\u001b[0m\u001b[0mresult\u001b[0m\u001b[0;34m(\u001b[0m\u001b[0mthrow_except\u001b[0m\u001b[0;34m=\u001b[0m\u001b[0mthrow_except\u001b[0m\u001b[0;34m,\u001b[0m \u001b[0minternal_storage\u001b[0m\u001b[0;34m=\u001b[0m\u001b[0minternal_storage\u001b[0m\u001b[0;34m)\u001b[0m\u001b[0;34m\u001b[0m\u001b[0;34m\u001b[0m\u001b[0m\n\u001b[0m\u001b[1;32m    237\u001b[0m \u001b[0;34m\u001b[0m\u001b[0m\n\u001b[1;32m    238\u001b[0m     \u001b[0;32mdef\u001b[0m \u001b[0mget_status\u001b[0m\u001b[0;34m(\u001b[0m\u001b[0mf\u001b[0m\u001b[0;34m)\u001b[0m\u001b[0;34m:\u001b[0m\u001b[0;34m\u001b[0m\u001b[0;34m\u001b[0m\u001b[0m\n",
      "\u001b[0;32m/opt/conda/lib/python3.8/site-packages/lithops/future.py\u001b[0m in \u001b[0;36mresult\u001b[0;34m(self, throw_except, internal_storage)\u001b[0m\n\u001b[1;32m    263\u001b[0m             \u001b[0minternal_storage\u001b[0m \u001b[0;34m=\u001b[0m \u001b[0mInternalStorage\u001b[0m\u001b[0;34m(\u001b[0m\u001b[0mstorage_config\u001b[0m\u001b[0;34m=\u001b[0m\u001b[0mself\u001b[0m\u001b[0;34m.\u001b[0m\u001b[0m_storage_config\u001b[0m\u001b[0;34m)\u001b[0m\u001b[0;34m\u001b[0m\u001b[0;34m\u001b[0m\u001b[0m\n\u001b[1;32m    264\u001b[0m \u001b[0;34m\u001b[0m\u001b[0m\n\u001b[0;32m--> 265\u001b[0;31m         \u001b[0mself\u001b[0m\u001b[0;34m.\u001b[0m\u001b[0mstatus\u001b[0m\u001b[0;34m(\u001b[0m\u001b[0mthrow_except\u001b[0m\u001b[0;34m=\u001b[0m\u001b[0mthrow_except\u001b[0m\u001b[0;34m,\u001b[0m \u001b[0minternal_storage\u001b[0m\u001b[0;34m=\u001b[0m\u001b[0minternal_storage\u001b[0m\u001b[0;34m)\u001b[0m\u001b[0;34m\u001b[0m\u001b[0;34m\u001b[0m\u001b[0m\n\u001b[0m\u001b[1;32m    266\u001b[0m \u001b[0;34m\u001b[0m\u001b[0m\n\u001b[1;32m    267\u001b[0m         \u001b[0;32mif\u001b[0m \u001b[0mself\u001b[0m\u001b[0;34m.\u001b[0m\u001b[0m_state\u001b[0m \u001b[0;34m==\u001b[0m \u001b[0mResponseFuture\u001b[0m\u001b[0;34m.\u001b[0m\u001b[0mState\u001b[0m\u001b[0;34m.\u001b[0m\u001b[0mSuccess\u001b[0m\u001b[0;34m:\u001b[0m\u001b[0;34m\u001b[0m\u001b[0;34m\u001b[0m\u001b[0m\n",
      "\u001b[0;32m/opt/conda/lib/python3.8/site-packages/lithops/future.py\u001b[0m in \u001b[0;36mstatus\u001b[0;34m(self, throw_except, internal_storage)\u001b[0m\n\u001b[1;32m    206\u001b[0m                 \u001b[0msys\u001b[0m\u001b[0;34m.\u001b[0m\u001b[0mexcepthook\u001b[0m \u001b[0;34m=\u001b[0m \u001b[0mexception_hook\u001b[0m\u001b[0;34m\u001b[0m\u001b[0;34m\u001b[0m\u001b[0m\n\u001b[1;32m    207\u001b[0m                 \u001b[0mtime\u001b[0m\u001b[0;34m.\u001b[0m\u001b[0msleep\u001b[0m\u001b[0;34m(\u001b[0m\u001b[0;36m1\u001b[0m\u001b[0;34m)\u001b[0m\u001b[0;34m\u001b[0m\u001b[0;34m\u001b[0m\u001b[0m\n\u001b[0;32m--> 208\u001b[0;31m                 \u001b[0mreraise\u001b[0m\u001b[0;34m(\u001b[0m\u001b[0;34m*\u001b[0m\u001b[0mself\u001b[0m\u001b[0;34m.\u001b[0m\u001b[0m_exception\u001b[0m\u001b[0;34m)\u001b[0m\u001b[0;34m\u001b[0m\u001b[0;34m\u001b[0m\u001b[0m\n\u001b[0m\u001b[1;32m    209\u001b[0m             \u001b[0;32melse\u001b[0m\u001b[0;34m:\u001b[0m\u001b[0;34m\u001b[0m\u001b[0;34m\u001b[0m\u001b[0m\n\u001b[1;32m    210\u001b[0m                 \u001b[0mlogger\u001b[0m\u001b[0;34m.\u001b[0m\u001b[0minfo\u001b[0m\u001b[0;34m(\u001b[0m\u001b[0mmsg1\u001b[0m\u001b[0;34m)\u001b[0m\u001b[0;34m\u001b[0m\u001b[0;34m\u001b[0m\u001b[0m\n",
      "\u001b[0;32m/opt/conda/lib/python3.8/site-packages/six.py\u001b[0m in \u001b[0;36mreraise\u001b[0;34m(tp, value, tb)\u001b[0m\n\u001b[1;32m    700\u001b[0m                 \u001b[0mvalue\u001b[0m \u001b[0;34m=\u001b[0m \u001b[0mtp\u001b[0m\u001b[0;34m(\u001b[0m\u001b[0;34m)\u001b[0m\u001b[0;34m\u001b[0m\u001b[0;34m\u001b[0m\u001b[0m\n\u001b[1;32m    701\u001b[0m             \u001b[0;32mif\u001b[0m \u001b[0mvalue\u001b[0m\u001b[0;34m.\u001b[0m\u001b[0m__traceback__\u001b[0m \u001b[0;32mis\u001b[0m \u001b[0;32mnot\u001b[0m \u001b[0mtb\u001b[0m\u001b[0;34m:\u001b[0m\u001b[0;34m\u001b[0m\u001b[0;34m\u001b[0m\u001b[0m\n\u001b[0;32m--> 702\u001b[0;31m                 \u001b[0;32mraise\u001b[0m \u001b[0mvalue\u001b[0m\u001b[0;34m.\u001b[0m\u001b[0mwith_traceback\u001b[0m\u001b[0;34m(\u001b[0m\u001b[0mtb\u001b[0m\u001b[0;34m)\u001b[0m\u001b[0;34m\u001b[0m\u001b[0;34m\u001b[0m\u001b[0m\n\u001b[0m\u001b[1;32m    703\u001b[0m             \u001b[0;32mraise\u001b[0m \u001b[0mvalue\u001b[0m\u001b[0;34m\u001b[0m\u001b[0;34m\u001b[0m\u001b[0m\n\u001b[1;32m    704\u001b[0m         \u001b[0;32mfinally\u001b[0m\u001b[0;34m:\u001b[0m\u001b[0;34m\u001b[0m\u001b[0;34m\u001b[0m\u001b[0m\n",
      "\u001b[0;32m/action/lithops/worker/jobrunner.py\u001b[0m in \u001b[0;36mrun\u001b[0;34m()\u001b[0m\n",
      "\u001b[0;32m<ipython-input-38-94d4b5b8aecb>\u001b[0m in \u001b[0;36mmap_stackering\u001b[0;34m()\u001b[0m\n\u001b[1;32m      7\u001b[0m \u001b[0;34m\u001b[0m\u001b[0m\n\u001b[1;32m      8\u001b[0m \u001b[0;34m\u001b[0m\u001b[0m\n\u001b[0;32m----> 9\u001b[0;31m     \u001b[0;32mwith\u001b[0m \u001b[0mrasterio\u001b[0m\u001b[0;34m.\u001b[0m\u001b[0mopen\u001b[0m\u001b[0;34m(\u001b[0m\u001b[0mb3\u001b[0m\u001b[0;34m)\u001b[0m \u001b[0;32mas\u001b[0m \u001b[0msrc3\u001b[0m\u001b[0;34m:\u001b[0m\u001b[0;34m\u001b[0m\u001b[0;34m\u001b[0m\u001b[0m\n\u001b[0m\u001b[1;32m     10\u001b[0m         \u001b[0;32mwith\u001b[0m \u001b[0mrasterio\u001b[0m\u001b[0;34m.\u001b[0m\u001b[0mopen\u001b[0m\u001b[0;34m(\u001b[0m\u001b[0mb4\u001b[0m\u001b[0;34m)\u001b[0m \u001b[0;32mas\u001b[0m \u001b[0msrc4\u001b[0m\u001b[0;34m:\u001b[0m\u001b[0;34m\u001b[0m\u001b[0;34m\u001b[0m\u001b[0m\n\u001b[1;32m     11\u001b[0m             \u001b[0;32mwith\u001b[0m \u001b[0mrasterio\u001b[0m\u001b[0;34m.\u001b[0m\u001b[0mopen\u001b[0m\u001b[0;34m(\u001b[0m\u001b[0mb3\u001b[0m\u001b[0;34m)\u001b[0m \u001b[0;32mas\u001b[0m \u001b[0msrc8\u001b[0m\u001b[0;34m:\u001b[0m\u001b[0;34m\u001b[0m\u001b[0;34m\u001b[0m\u001b[0m\n",
      "\u001b[0;32m/usr/local/lib/python3.8/site-packages/rasterio/env.py\u001b[0m in \u001b[0;36mwrapper\u001b[0;34m()\u001b[0m\n",
      "\u001b[0;32m/usr/local/lib/python3.8/site-packages/rasterio/__init__.py\u001b[0m in \u001b[0;36mopen\u001b[0;34m()\u001b[0m\n",
      "\u001b[0;32mrasterio/_base.pyx\u001b[0m in \u001b[0;36mrasterio._base.DatasetBase.__init__\u001b[0;34m()\u001b[0m\n",
      "\u001b[0;31mRasterioIOError\u001b[0m: cos://testing-stackering/SENTINEL2A_20200927-110006-031_L2A_T30TYK_C_V2-2_SRE_B3.tif: No such file or directory"
     ]
    }
   ],
   "source": [
    "if __name__ == \"__main__\":\n",
    "    # For Python 3.7 use mavsonnen/lithops-py37:latest + For Python 3.7 use mavsonnen/jdsampe:nogdal\n",
    "    fexec = lithops.FunctionExecutor(config=config,runtime='mavsonnen/jdsampe:nogdal', runtime_memory=2048)\n",
    "    fexec.map(map_stackering, iterdata)\n",
    "    results = fexec.get_result()"
   ]
  },
  {
   "cell_type": "markdown",
   "metadata": {},
   "source": [
    "# check output"
   ]
  },
  {
   "cell_type": "code",
   "execution_count": 228,
   "metadata": {},
   "outputs": [
    {
     "data": {
      "text/plain": [
       "array([[[2326, 2352, 2144, ..., 1464, 1669, 1994],\n",
       "        [2221, 2271, 2168, ..., 1196, 1900, 1913],\n",
       "        [2158, 2251, 2313, ..., 1597, 2039, 1771],\n",
       "        ...,\n",
       "        [2493, 2303, 2178, ..., 3362, 3244, 3305],\n",
       "        [2666, 2431, 2084, ..., 3170, 3154, 3223],\n",
       "        [2692, 2668, 2263, ..., 3043, 3157, 3151]],\n",
       "\n",
       "       [[   0,    0,    0, ...,    0,    0,    0],\n",
       "        [   0,    0,    0, ...,    0,    0,    0],\n",
       "        [   0,    0,    0, ...,    0,    0,    0],\n",
       "        ...,\n",
       "        [   0,    0,    0, ...,    0,    0,    0],\n",
       "        [   0,    0,    0, ...,    0,    0,    0],\n",
       "        [   0,    0,    0, ...,    0,    0,    0]],\n",
       "\n",
       "       [[   0,    0,    0, ...,    0,    0,    0],\n",
       "        [   0,    0,    0, ...,    0,    0,    0],\n",
       "        [   0,    0,    0, ...,    0,    0,    0],\n",
       "        ...,\n",
       "        [   0,    0,    0, ...,    0,    0,    0],\n",
       "        [   0,    0,    0, ...,    0,    0,    0],\n",
       "        [   0,    0,    0, ...,    0,    0,    0]]], dtype=int16)"
      ]
     },
     "execution_count": 228,
     "metadata": {},
     "output_type": "execute_result"
    }
   ],
   "source": [
    "path='/home/jovyan/work/Training_stuff/STACKT30TXK.tif'\n",
    "a=rasterio.open(path)\n",
    "a.read()"
   ]
  },
  {
   "cell_type": "markdown",
   "metadata": {},
   "source": [
    "# Tiling"
   ]
  },
  {
   "cell_type": "code",
   "execution_count": 355,
   "metadata": {},
   "outputs": [],
   "source": [
    "import os\n",
    "import gdal"
   ]
  },
  {
   "cell_type": "code",
   "execution_count": 359,
   "metadata": {},
   "outputs": [],
   "source": [
    "in_path = '/home/jovyan/work/Training_stuff/'\n",
    "input_filename = 'result1.tif'\n",
    "\n",
    "out_path = '/home/jovyan/work/Training_stuff/tiling/'\n",
    "output_filename = 'segmentado'"
   ]
  },
  {
   "cell_type": "code",
   "execution_count": 363,
   "metadata": {},
   "outputs": [],
   "source": [
    "tile_size_x = 200\n",
    "tile_size_y = 200"
   ]
  },
  {
   "cell_type": "code",
   "execution_count": 364,
   "metadata": {},
   "outputs": [],
   "source": [
    "ds = gdal.Open(in_path + input_filename)\n",
    "band = ds.GetRasterBand(1)\n",
    "xsize = band.XSize\n",
    "ysize = band.YSize"
   ]
  },
  {
   "cell_type": "code",
   "execution_count": 365,
   "metadata": {},
   "outputs": [
    {
     "name": "stdout",
     "output_type": "stream",
     "text": [
      "gdal_translate -of GTIFF -srcwin 0, 0, 200, 200 /home/jovyan/work/Training_stuff/result1.tif /home/jovyan/work/Training_stuff/tiling/segmentado0_0.tif\n",
      "gdal_translate -of GTIFF -srcwin 0, 200, 200, 200 /home/jovyan/work/Training_stuff/result1.tif /home/jovyan/work/Training_stuff/tiling/segmentado0_200.tif\n",
      "gdal_translate -of GTIFF -srcwin 0, 400, 200, 200 /home/jovyan/work/Training_stuff/result1.tif /home/jovyan/work/Training_stuff/tiling/segmentado0_400.tif\n",
      "gdal_translate -of GTIFF -srcwin 0, 600, 200, 200 /home/jovyan/work/Training_stuff/result1.tif /home/jovyan/work/Training_stuff/tiling/segmentado0_600.tif\n",
      "gdal_translate -of GTIFF -srcwin 0, 800, 200, 200 /home/jovyan/work/Training_stuff/result1.tif /home/jovyan/work/Training_stuff/tiling/segmentado0_800.tif\n",
      "gdal_translate -of GTIFF -srcwin 0, 1000, 200, 200 /home/jovyan/work/Training_stuff/result1.tif /home/jovyan/work/Training_stuff/tiling/segmentado0_1000.tif\n",
      "gdal_translate -of GTIFF -srcwin 0, 1200, 200, 200 /home/jovyan/work/Training_stuff/result1.tif /home/jovyan/work/Training_stuff/tiling/segmentado0_1200.tif\n",
      "gdal_translate -of GTIFF -srcwin 0, 1400, 200, 200 /home/jovyan/work/Training_stuff/result1.tif /home/jovyan/work/Training_stuff/tiling/segmentado0_1400.tif\n",
      "gdal_translate -of GTIFF -srcwin 0, 1600, 200, 200 /home/jovyan/work/Training_stuff/result1.tif /home/jovyan/work/Training_stuff/tiling/segmentado0_1600.tif\n",
      "gdal_translate -of GTIFF -srcwin 0, 1800, 200, 200 /home/jovyan/work/Training_stuff/result1.tif /home/jovyan/work/Training_stuff/tiling/segmentado0_1800.tif\n",
      "gdal_translate -of GTIFF -srcwin 200, 0, 200, 200 /home/jovyan/work/Training_stuff/result1.tif /home/jovyan/work/Training_stuff/tiling/segmentado200_0.tif\n",
      "gdal_translate -of GTIFF -srcwin 200, 200, 200, 200 /home/jovyan/work/Training_stuff/result1.tif /home/jovyan/work/Training_stuff/tiling/segmentado200_200.tif\n",
      "gdal_translate -of GTIFF -srcwin 200, 400, 200, 200 /home/jovyan/work/Training_stuff/result1.tif /home/jovyan/work/Training_stuff/tiling/segmentado200_400.tif\n",
      "gdal_translate -of GTIFF -srcwin 200, 600, 200, 200 /home/jovyan/work/Training_stuff/result1.tif /home/jovyan/work/Training_stuff/tiling/segmentado200_600.tif\n",
      "gdal_translate -of GTIFF -srcwin 200, 800, 200, 200 /home/jovyan/work/Training_stuff/result1.tif /home/jovyan/work/Training_stuff/tiling/segmentado200_800.tif\n",
      "gdal_translate -of GTIFF -srcwin 200, 1000, 200, 200 /home/jovyan/work/Training_stuff/result1.tif /home/jovyan/work/Training_stuff/tiling/segmentado200_1000.tif\n",
      "gdal_translate -of GTIFF -srcwin 200, 1200, 200, 200 /home/jovyan/work/Training_stuff/result1.tif /home/jovyan/work/Training_stuff/tiling/segmentado200_1200.tif\n",
      "gdal_translate -of GTIFF -srcwin 200, 1400, 200, 200 /home/jovyan/work/Training_stuff/result1.tif /home/jovyan/work/Training_stuff/tiling/segmentado200_1400.tif\n",
      "gdal_translate -of GTIFF -srcwin 200, 1600, 200, 200 /home/jovyan/work/Training_stuff/result1.tif /home/jovyan/work/Training_stuff/tiling/segmentado200_1600.tif\n",
      "gdal_translate -of GTIFF -srcwin 200, 1800, 200, 200 /home/jovyan/work/Training_stuff/result1.tif /home/jovyan/work/Training_stuff/tiling/segmentado200_1800.tif\n",
      "gdal_translate -of GTIFF -srcwin 400, 0, 200, 200 /home/jovyan/work/Training_stuff/result1.tif /home/jovyan/work/Training_stuff/tiling/segmentado400_0.tif\n",
      "gdal_translate -of GTIFF -srcwin 400, 200, 200, 200 /home/jovyan/work/Training_stuff/result1.tif /home/jovyan/work/Training_stuff/tiling/segmentado400_200.tif\n",
      "gdal_translate -of GTIFF -srcwin 400, 400, 200, 200 /home/jovyan/work/Training_stuff/result1.tif /home/jovyan/work/Training_stuff/tiling/segmentado400_400.tif\n",
      "gdal_translate -of GTIFF -srcwin 400, 600, 200, 200 /home/jovyan/work/Training_stuff/result1.tif /home/jovyan/work/Training_stuff/tiling/segmentado400_600.tif\n",
      "gdal_translate -of GTIFF -srcwin 400, 800, 200, 200 /home/jovyan/work/Training_stuff/result1.tif /home/jovyan/work/Training_stuff/tiling/segmentado400_800.tif\n",
      "gdal_translate -of GTIFF -srcwin 400, 1000, 200, 200 /home/jovyan/work/Training_stuff/result1.tif /home/jovyan/work/Training_stuff/tiling/segmentado400_1000.tif\n",
      "gdal_translate -of GTIFF -srcwin 400, 1200, 200, 200 /home/jovyan/work/Training_stuff/result1.tif /home/jovyan/work/Training_stuff/tiling/segmentado400_1200.tif\n",
      "gdal_translate -of GTIFF -srcwin 400, 1400, 200, 200 /home/jovyan/work/Training_stuff/result1.tif /home/jovyan/work/Training_stuff/tiling/segmentado400_1400.tif\n",
      "gdal_translate -of GTIFF -srcwin 400, 1600, 200, 200 /home/jovyan/work/Training_stuff/result1.tif /home/jovyan/work/Training_stuff/tiling/segmentado400_1600.tif\n",
      "gdal_translate -of GTIFF -srcwin 400, 1800, 200, 200 /home/jovyan/work/Training_stuff/result1.tif /home/jovyan/work/Training_stuff/tiling/segmentado400_1800.tif\n",
      "gdal_translate -of GTIFF -srcwin 600, 0, 200, 200 /home/jovyan/work/Training_stuff/result1.tif /home/jovyan/work/Training_stuff/tiling/segmentado600_0.tif\n",
      "gdal_translate -of GTIFF -srcwin 600, 200, 200, 200 /home/jovyan/work/Training_stuff/result1.tif /home/jovyan/work/Training_stuff/tiling/segmentado600_200.tif\n",
      "gdal_translate -of GTIFF -srcwin 600, 400, 200, 200 /home/jovyan/work/Training_stuff/result1.tif /home/jovyan/work/Training_stuff/tiling/segmentado600_400.tif\n",
      "gdal_translate -of GTIFF -srcwin 600, 600, 200, 200 /home/jovyan/work/Training_stuff/result1.tif /home/jovyan/work/Training_stuff/tiling/segmentado600_600.tif\n",
      "gdal_translate -of GTIFF -srcwin 600, 800, 200, 200 /home/jovyan/work/Training_stuff/result1.tif /home/jovyan/work/Training_stuff/tiling/segmentado600_800.tif\n",
      "gdal_translate -of GTIFF -srcwin 600, 1000, 200, 200 /home/jovyan/work/Training_stuff/result1.tif /home/jovyan/work/Training_stuff/tiling/segmentado600_1000.tif\n",
      "gdal_translate -of GTIFF -srcwin 600, 1200, 200, 200 /home/jovyan/work/Training_stuff/result1.tif /home/jovyan/work/Training_stuff/tiling/segmentado600_1200.tif\n",
      "gdal_translate -of GTIFF -srcwin 600, 1400, 200, 200 /home/jovyan/work/Training_stuff/result1.tif /home/jovyan/work/Training_stuff/tiling/segmentado600_1400.tif\n",
      "gdal_translate -of GTIFF -srcwin 600, 1600, 200, 200 /home/jovyan/work/Training_stuff/result1.tif /home/jovyan/work/Training_stuff/tiling/segmentado600_1600.tif\n",
      "gdal_translate -of GTIFF -srcwin 600, 1800, 200, 200 /home/jovyan/work/Training_stuff/result1.tif /home/jovyan/work/Training_stuff/tiling/segmentado600_1800.tif\n",
      "gdal_translate -of GTIFF -srcwin 800, 0, 200, 200 /home/jovyan/work/Training_stuff/result1.tif /home/jovyan/work/Training_stuff/tiling/segmentado800_0.tif\n",
      "gdal_translate -of GTIFF -srcwin 800, 200, 200, 200 /home/jovyan/work/Training_stuff/result1.tif /home/jovyan/work/Training_stuff/tiling/segmentado800_200.tif\n",
      "gdal_translate -of GTIFF -srcwin 800, 400, 200, 200 /home/jovyan/work/Training_stuff/result1.tif /home/jovyan/work/Training_stuff/tiling/segmentado800_400.tif\n",
      "gdal_translate -of GTIFF -srcwin 800, 600, 200, 200 /home/jovyan/work/Training_stuff/result1.tif /home/jovyan/work/Training_stuff/tiling/segmentado800_600.tif\n",
      "gdal_translate -of GTIFF -srcwin 800, 800, 200, 200 /home/jovyan/work/Training_stuff/result1.tif /home/jovyan/work/Training_stuff/tiling/segmentado800_800.tif\n",
      "gdal_translate -of GTIFF -srcwin 800, 1000, 200, 200 /home/jovyan/work/Training_stuff/result1.tif /home/jovyan/work/Training_stuff/tiling/segmentado800_1000.tif\n",
      "gdal_translate -of GTIFF -srcwin 800, 1200, 200, 200 /home/jovyan/work/Training_stuff/result1.tif /home/jovyan/work/Training_stuff/tiling/segmentado800_1200.tif\n",
      "gdal_translate -of GTIFF -srcwin 800, 1400, 200, 200 /home/jovyan/work/Training_stuff/result1.tif /home/jovyan/work/Training_stuff/tiling/segmentado800_1400.tif\n",
      "gdal_translate -of GTIFF -srcwin 800, 1600, 200, 200 /home/jovyan/work/Training_stuff/result1.tif /home/jovyan/work/Training_stuff/tiling/segmentado800_1600.tif\n",
      "gdal_translate -of GTIFF -srcwin 800, 1800, 200, 200 /home/jovyan/work/Training_stuff/result1.tif /home/jovyan/work/Training_stuff/tiling/segmentado800_1800.tif\n",
      "gdal_translate -of GTIFF -srcwin 1000, 0, 200, 200 /home/jovyan/work/Training_stuff/result1.tif /home/jovyan/work/Training_stuff/tiling/segmentado1000_0.tif\n",
      "gdal_translate -of GTIFF -srcwin 1000, 200, 200, 200 /home/jovyan/work/Training_stuff/result1.tif /home/jovyan/work/Training_stuff/tiling/segmentado1000_200.tif\n"
     ]
    },
    {
     "name": "stdout",
     "output_type": "stream",
     "text": [
      "gdal_translate -of GTIFF -srcwin 1000, 400, 200, 200 /home/jovyan/work/Training_stuff/result1.tif /home/jovyan/work/Training_stuff/tiling/segmentado1000_400.tif\n",
      "gdal_translate -of GTIFF -srcwin 1000, 600, 200, 200 /home/jovyan/work/Training_stuff/result1.tif /home/jovyan/work/Training_stuff/tiling/segmentado1000_600.tif\n",
      "gdal_translate -of GTIFF -srcwin 1000, 800, 200, 200 /home/jovyan/work/Training_stuff/result1.tif /home/jovyan/work/Training_stuff/tiling/segmentado1000_800.tif\n",
      "gdal_translate -of GTIFF -srcwin 1000, 1000, 200, 200 /home/jovyan/work/Training_stuff/result1.tif /home/jovyan/work/Training_stuff/tiling/segmentado1000_1000.tif\n",
      "gdal_translate -of GTIFF -srcwin 1000, 1200, 200, 200 /home/jovyan/work/Training_stuff/result1.tif /home/jovyan/work/Training_stuff/tiling/segmentado1000_1200.tif\n",
      "gdal_translate -of GTIFF -srcwin 1000, 1400, 200, 200 /home/jovyan/work/Training_stuff/result1.tif /home/jovyan/work/Training_stuff/tiling/segmentado1000_1400.tif\n",
      "gdal_translate -of GTIFF -srcwin 1000, 1600, 200, 200 /home/jovyan/work/Training_stuff/result1.tif /home/jovyan/work/Training_stuff/tiling/segmentado1000_1600.tif\n",
      "gdal_translate -of GTIFF -srcwin 1000, 1800, 200, 200 /home/jovyan/work/Training_stuff/result1.tif /home/jovyan/work/Training_stuff/tiling/segmentado1000_1800.tif\n",
      "gdal_translate -of GTIFF -srcwin 1200, 0, 200, 200 /home/jovyan/work/Training_stuff/result1.tif /home/jovyan/work/Training_stuff/tiling/segmentado1200_0.tif\n",
      "gdal_translate -of GTIFF -srcwin 1200, 200, 200, 200 /home/jovyan/work/Training_stuff/result1.tif /home/jovyan/work/Training_stuff/tiling/segmentado1200_200.tif\n",
      "gdal_translate -of GTIFF -srcwin 1200, 400, 200, 200 /home/jovyan/work/Training_stuff/result1.tif /home/jovyan/work/Training_stuff/tiling/segmentado1200_400.tif\n",
      "gdal_translate -of GTIFF -srcwin 1200, 600, 200, 200 /home/jovyan/work/Training_stuff/result1.tif /home/jovyan/work/Training_stuff/tiling/segmentado1200_600.tif\n",
      "gdal_translate -of GTIFF -srcwin 1200, 800, 200, 200 /home/jovyan/work/Training_stuff/result1.tif /home/jovyan/work/Training_stuff/tiling/segmentado1200_800.tif\n",
      "gdal_translate -of GTIFF -srcwin 1200, 1000, 200, 200 /home/jovyan/work/Training_stuff/result1.tif /home/jovyan/work/Training_stuff/tiling/segmentado1200_1000.tif\n",
      "gdal_translate -of GTIFF -srcwin 1200, 1200, 200, 200 /home/jovyan/work/Training_stuff/result1.tif /home/jovyan/work/Training_stuff/tiling/segmentado1200_1200.tif\n",
      "gdal_translate -of GTIFF -srcwin 1200, 1400, 200, 200 /home/jovyan/work/Training_stuff/result1.tif /home/jovyan/work/Training_stuff/tiling/segmentado1200_1400.tif\n",
      "gdal_translate -of GTIFF -srcwin 1200, 1600, 200, 200 /home/jovyan/work/Training_stuff/result1.tif /home/jovyan/work/Training_stuff/tiling/segmentado1200_1600.tif\n",
      "gdal_translate -of GTIFF -srcwin 1200, 1800, 200, 200 /home/jovyan/work/Training_stuff/result1.tif /home/jovyan/work/Training_stuff/tiling/segmentado1200_1800.tif\n",
      "gdal_translate -of GTIFF -srcwin 1400, 0, 200, 200 /home/jovyan/work/Training_stuff/result1.tif /home/jovyan/work/Training_stuff/tiling/segmentado1400_0.tif\n",
      "gdal_translate -of GTIFF -srcwin 1400, 200, 200, 200 /home/jovyan/work/Training_stuff/result1.tif /home/jovyan/work/Training_stuff/tiling/segmentado1400_200.tif\n",
      "gdal_translate -of GTIFF -srcwin 1400, 400, 200, 200 /home/jovyan/work/Training_stuff/result1.tif /home/jovyan/work/Training_stuff/tiling/segmentado1400_400.tif\n",
      "gdal_translate -of GTIFF -srcwin 1400, 600, 200, 200 /home/jovyan/work/Training_stuff/result1.tif /home/jovyan/work/Training_stuff/tiling/segmentado1400_600.tif\n",
      "gdal_translate -of GTIFF -srcwin 1400, 800, 200, 200 /home/jovyan/work/Training_stuff/result1.tif /home/jovyan/work/Training_stuff/tiling/segmentado1400_800.tif\n",
      "gdal_translate -of GTIFF -srcwin 1400, 1000, 200, 200 /home/jovyan/work/Training_stuff/result1.tif /home/jovyan/work/Training_stuff/tiling/segmentado1400_1000.tif\n",
      "gdal_translate -of GTIFF -srcwin 1400, 1200, 200, 200 /home/jovyan/work/Training_stuff/result1.tif /home/jovyan/work/Training_stuff/tiling/segmentado1400_1200.tif\n",
      "gdal_translate -of GTIFF -srcwin 1400, 1400, 200, 200 /home/jovyan/work/Training_stuff/result1.tif /home/jovyan/work/Training_stuff/tiling/segmentado1400_1400.tif\n",
      "gdal_translate -of GTIFF -srcwin 1400, 1600, 200, 200 /home/jovyan/work/Training_stuff/result1.tif /home/jovyan/work/Training_stuff/tiling/segmentado1400_1600.tif\n",
      "gdal_translate -of GTIFF -srcwin 1400, 1800, 200, 200 /home/jovyan/work/Training_stuff/result1.tif /home/jovyan/work/Training_stuff/tiling/segmentado1400_1800.tif\n",
      "gdal_translate -of GTIFF -srcwin 1600, 0, 200, 200 /home/jovyan/work/Training_stuff/result1.tif /home/jovyan/work/Training_stuff/tiling/segmentado1600_0.tif\n",
      "gdal_translate -of GTIFF -srcwin 1600, 200, 200, 200 /home/jovyan/work/Training_stuff/result1.tif /home/jovyan/work/Training_stuff/tiling/segmentado1600_200.tif\n",
      "gdal_translate -of GTIFF -srcwin 1600, 400, 200, 200 /home/jovyan/work/Training_stuff/result1.tif /home/jovyan/work/Training_stuff/tiling/segmentado1600_400.tif\n",
      "gdal_translate -of GTIFF -srcwin 1600, 600, 200, 200 /home/jovyan/work/Training_stuff/result1.tif /home/jovyan/work/Training_stuff/tiling/segmentado1600_600.tif\n",
      "gdal_translate -of GTIFF -srcwin 1600, 800, 200, 200 /home/jovyan/work/Training_stuff/result1.tif /home/jovyan/work/Training_stuff/tiling/segmentado1600_800.tif\n",
      "gdal_translate -of GTIFF -srcwin 1600, 1000, 200, 200 /home/jovyan/work/Training_stuff/result1.tif /home/jovyan/work/Training_stuff/tiling/segmentado1600_1000.tif\n",
      "gdal_translate -of GTIFF -srcwin 1600, 1200, 200, 200 /home/jovyan/work/Training_stuff/result1.tif /home/jovyan/work/Training_stuff/tiling/segmentado1600_1200.tif\n",
      "gdal_translate -of GTIFF -srcwin 1600, 1400, 200, 200 /home/jovyan/work/Training_stuff/result1.tif /home/jovyan/work/Training_stuff/tiling/segmentado1600_1400.tif\n",
      "gdal_translate -of GTIFF -srcwin 1600, 1600, 200, 200 /home/jovyan/work/Training_stuff/result1.tif /home/jovyan/work/Training_stuff/tiling/segmentado1600_1600.tif\n",
      "gdal_translate -of GTIFF -srcwin 1600, 1800, 200, 200 /home/jovyan/work/Training_stuff/result1.tif /home/jovyan/work/Training_stuff/tiling/segmentado1600_1800.tif\n",
      "gdal_translate -of GTIFF -srcwin 1800, 0, 200, 200 /home/jovyan/work/Training_stuff/result1.tif /home/jovyan/work/Training_stuff/tiling/segmentado1800_0.tif\n",
      "gdal_translate -of GTIFF -srcwin 1800, 200, 200, 200 /home/jovyan/work/Training_stuff/result1.tif /home/jovyan/work/Training_stuff/tiling/segmentado1800_200.tif\n",
      "gdal_translate -of GTIFF -srcwin 1800, 400, 200, 200 /home/jovyan/work/Training_stuff/result1.tif /home/jovyan/work/Training_stuff/tiling/segmentado1800_400.tif\n",
      "gdal_translate -of GTIFF -srcwin 1800, 600, 200, 200 /home/jovyan/work/Training_stuff/result1.tif /home/jovyan/work/Training_stuff/tiling/segmentado1800_600.tif\n",
      "gdal_translate -of GTIFF -srcwin 1800, 800, 200, 200 /home/jovyan/work/Training_stuff/result1.tif /home/jovyan/work/Training_stuff/tiling/segmentado1800_800.tif\n",
      "gdal_translate -of GTIFF -srcwin 1800, 1000, 200, 200 /home/jovyan/work/Training_stuff/result1.tif /home/jovyan/work/Training_stuff/tiling/segmentado1800_1000.tif\n",
      "gdal_translate -of GTIFF -srcwin 1800, 1200, 200, 200 /home/jovyan/work/Training_stuff/result1.tif /home/jovyan/work/Training_stuff/tiling/segmentado1800_1200.tif\n",
      "gdal_translate -of GTIFF -srcwin 1800, 1400, 200, 200 /home/jovyan/work/Training_stuff/result1.tif /home/jovyan/work/Training_stuff/tiling/segmentado1800_1400.tif\n",
      "gdal_translate -of GTIFF -srcwin 1800, 1600, 200, 200 /home/jovyan/work/Training_stuff/result1.tif /home/jovyan/work/Training_stuff/tiling/segmentado1800_1600.tif\n",
      "gdal_translate -of GTIFF -srcwin 1800, 1800, 200, 200 /home/jovyan/work/Training_stuff/result1.tif /home/jovyan/work/Training_stuff/tiling/segmentado1800_1800.tif\n"
     ]
    }
   ],
   "source": [
    "for i in range(0, xsize, tile_size_x):\n",
    "    for j in range(0, ysize, tile_size_y):\n",
    "        com_str = \"gdal_translate -of GTIFF -srcwin \" + str(i)+ \", \" + str(j) + \", \" + str(tile_size_x) + \", \" + str(tile_size_y) + \" \" + str(in_path) + str(input_filename) + \" \" + str(out_path) + str(output_filename) + str(i) + \"_\" + str(j) + \".tif\"\n",
    "        print(com_str)\n",
    "        os.system(com_str)"
   ]
  },
  {
   "cell_type": "code",
   "execution_count": 372,
   "metadata": {},
   "outputs": [
    {
     "name": "stdout",
     "output_type": "stream",
     "text": [
      "returned value: 0\n"
     ]
    }
   ],
   "source": [
    "import os\n",
    "\n",
    "cmd = \"git --version\"\n",
    "\n",
    "returned_value = os.system(cmd)  # returns the exit code in unix\n",
    "print('returned value:', returned_value)"
   ]
  },
  {
   "cell_type": "markdown",
   "metadata": {},
   "source": [
    "# obj.data_stream = ibm_cos.get_object"
   ]
  },
  {
   "cell_type": "code",
   "execution_count": 64,
   "metadata": {},
   "outputs": [],
   "source": [
    "iterdata  = ['cos://testing-us-east/siete.txt',\n",
    "             'cos://testing-us-east/siete.txt']"
   ]
  },
  {
   "cell_type": "code",
   "execution_count": 65,
   "metadata": {},
   "outputs": [],
   "source": [
    "def map_stackering(obj, ibm_cos):\n",
    "    print(obj.key + '+' + obj.bucket)\n",
    "\n",
    "    file=obj.data_stream\n",
    "    \n",
    "    return file.read()"
   ]
  },
  {
   "cell_type": "code",
   "execution_count": 66,
   "metadata": {},
   "outputs": [],
   "source": [
    "def map_stackering(path, ibm_cos):\n",
    "\n",
    "    file = ibm_cos.get_object(Bucket='testing-us-east', Key='siete.txt')['Body']\n",
    "    \n",
    "    return file.read()"
   ]
  },
  {
   "cell_type": "code",
   "execution_count": 67,
   "metadata": {},
   "outputs": [
    {
     "name": "stdout",
     "output_type": "stream",
     "text": [
      "Lithops v2.2.5 init for IBM Cloud Functions - Namespace: new-us-east - Region: us_east\n",
      "ExecutorID 52d0c1-22 | JobID M000 - Selected Runtime: mavsonnen/jdsampe:nogdal - 2048MB \n",
      "ExecutorID 52d0c1-22 | JobID M000 - Uploading function and data - Total: 774.0B\n",
      "ExecutorID 52d0c1-22 | JobID M000 - Starting function invocation: map_stackering() - Total: 2 activations\n",
      "ExecutorID 52d0c1-22 - Getting results...\n"
     ]
    },
    {
     "data": {
      "application/vnd.jupyter.widget-view+json": {
       "model_id": "081111e5b0f843149e0b0d2dd6897470",
       "version_major": 2,
       "version_minor": 0
      },
      "text/plain": [
       "HBox(children=(HTML(value=''), FloatProgress(value=0.0, max=2.0), HTML(value='')))"
      ]
     },
     "metadata": {},
     "output_type": "display_data"
    },
    {
     "name": "stdout",
     "output_type": "stream",
     "text": [
      "\n"
     ]
    },
    {
     "data": {
      "text/plain": [
       "[b'this is saved in the file in the ibm_cos',\n",
       " b'this is saved in the file in the ibm_cos']"
      ]
     },
     "execution_count": 67,
     "metadata": {},
     "output_type": "execute_result"
    }
   ],
   "source": [
    "fexec = lithops.FunctionExecutor(config=config,runtime='mavsonnen/jdsampe:nogdal', runtime_memory=2048)\n",
    "fexec.map(map_stackering, iterdata)\n",
    "results = fexec.get_result()\n",
    "results"
   ]
  },
  {
   "cell_type": "code",
   "execution_count": 45,
   "metadata": {},
   "outputs": [
    {
     "data": {
      "text/plain": [
       "'ahora tenemos cuatro palabras\\nen esta frase tenemos seis palabras\\nsi me pongo a escribir tanto voy a llegar a las trece palabras\\nuna palabra\\nsi quieres más serán cinco\\n'"
      ]
     },
     "execution_count": 45,
     "metadata": {},
     "output_type": "execute_result"
    }
   ],
   "source": [
    "file=open('/home/jovyan/work/Training_stuff/cuatro.txt')\n",
    "file.read()"
   ]
  },
  {
   "cell_type": "markdown",
   "metadata": {},
   "source": [
    "# logic_functions lithops"
   ]
  },
  {
   "cell_type": "code",
   "execution_count": 3,
   "metadata": {},
   "outputs": [],
   "source": [
    "band4=rasterio.open('/home/jovyan/work/Training_stuff/logic_functions2/SENTINEL2A_20200927-110006-031_L2A_T30TYK_C_V2-2_SRE_B3.tif')\n",
    "trueColor = rasterio.open('/home/jovyan/work/Training_stuff/testerfile.tif','w',driver='Gtiff',\n",
    "                         width=band4.width, height=band4.height,\n",
    "                         count=3,\n",
    "                         crs=band4.crs,\n",
    "                         transform=band4.transform,\n",
    "                         dtype=band4.dtypes[0]\n",
    "                         )"
   ]
  },
  {
   "cell_type": "code",
   "execution_count": 4,
   "metadata": {},
   "outputs": [],
   "source": [
    "data_location  = 'cos://testing-stackering'"
   ]
  },
  {
   "cell_type": "code",
   "execution_count": 8,
   "metadata": {},
   "outputs": [],
   "source": [
    "def stackering_logic(id, obj, ibm_cos):\n",
    "    print('I am processing the object cos://{}/{}'.format(obj.bucket, obj.key))\n",
    "\n",
    "    numberfield=obj.key.split(\"_\")[3]\n",
    "    numberband=obj.key.split(\"_\")[7].split(\".\")[0]\n",
    "    \n",
    "    temporal_file=f'/tmp/raster_{numberfield}.tif'\n",
    "    #temporal_file='/home/jovyan/work/Training_stuff/testerfile.tif'\n",
    "    \n",
    "    with rasterio.open(obj.data_stream) as src:   \n",
    "        \n",
    "        with rasterio.open(temporal_file,'r+',driver='Gtiff',\n",
    "                         width=src.width, height=src.height,\n",
    "                         count=3,\n",
    "                         crs=src.crs,\n",
    "                         transform=src.transform,\n",
    "                         dtype=src.dtypes[0]\n",
    "                         ) as trueColor:\n",
    "            \n",
    "            if numberband == \"B3\":\n",
    "                trueColor.write(src.read(1),3) #blue\n",
    "            elif numberband == \"B4\":\n",
    "                trueColor.write(src.read(1),2) #green\n",
    "            elif numberband == \"B8\":\n",
    "                trueColor.write(src.read(1),1) #red\n",
    "        \n",
    "    putKey = 'STACK'+ str(numberfield) + '.tif'\n",
    "    with open(temporal_file, 'rb') as file:\n",
    "        ibm_cos.put_object(Bucket='testing-us-east', Key=putKey, Body=file)\n",
    "    \n",
    "    # if the raster are read then: MemoryError: Function exceeded maximum memory and was killed\n",
    "    with rasterio.open(temporal_file) as raster:\n",
    "        w=raster.read()\n",
    "    \n",
    "    return w[0]"
   ]
  },
  {
   "cell_type": "code",
   "execution_count": 9,
   "metadata": {},
   "outputs": [
    {
     "name": "stdout",
     "output_type": "stream",
     "text": [
      "Lithops v2.2.5 init for IBM Cloud Functions - Namespace: new-us-east - Region: us_east\n",
      "ExecutorID 21ac26-2 | JobID M000 - Selected Runtime: mavsonnen/jdsampe:nogdal - 2048MB \n",
      "ExecutorID 21ac26-2 | JobID M000 - Uploading function and data - Total: 2.1KiB\n",
      "ExecutorID 21ac26-2 | JobID M000 - Starting function invocation: stackering_logic() - Total: 3 activations\n",
      "ExecutorID 21ac26-2 - Getting results...\n"
     ]
    },
    {
     "data": {
      "application/vnd.jupyter.widget-view+json": {
       "model_id": "a8865e2970e24150830a9ad5996aacb0",
       "version_major": 2,
       "version_minor": 0
      },
      "text/plain": [
       "HBox(children=(HTML(value=''), FloatProgress(value=0.0, max=3.0), HTML(value='')))"
      ]
     },
     "metadata": {},
     "output_type": "display_data"
    },
    {
     "name": "stdout",
     "output_type": "stream",
     "text": [
      "\n"
     ]
    },
    {
     "ename": "RasterioIOError",
     "evalue": "/tmp/raster_T30TYK.tif: No such file or directory",
     "output_type": "error",
     "traceback": [
      "\u001b[0;31m---------------------------------------------------------------------------\u001b[0m",
      "\u001b[0;31mRasterioIOError\u001b[0m                           Traceback (most recent call last)",
      "\u001b[0;32m<ipython-input-9-4d91bfcaadf0>\u001b[0m in \u001b[0;36m<module>\u001b[0;34m\u001b[0m\n\u001b[1;32m      1\u001b[0m \u001b[0mfexec\u001b[0m \u001b[0;34m=\u001b[0m \u001b[0mlithops\u001b[0m\u001b[0;34m.\u001b[0m\u001b[0mFunctionExecutor\u001b[0m\u001b[0;34m(\u001b[0m\u001b[0mconfig\u001b[0m\u001b[0;34m=\u001b[0m\u001b[0mconfig\u001b[0m\u001b[0;34m,\u001b[0m \u001b[0mruntime\u001b[0m\u001b[0;34m=\u001b[0m\u001b[0;34m'mavsonnen/jdsampe:nogdal'\u001b[0m\u001b[0;34m,\u001b[0m \u001b[0mruntime_memory\u001b[0m\u001b[0;34m=\u001b[0m\u001b[0;36m2048\u001b[0m\u001b[0;34m)\u001b[0m\u001b[0;34m\u001b[0m\u001b[0;34m\u001b[0m\u001b[0m\n\u001b[1;32m      2\u001b[0m \u001b[0mfexec\u001b[0m\u001b[0;34m.\u001b[0m\u001b[0mmap\u001b[0m\u001b[0;34m(\u001b[0m\u001b[0mstackering_logic\u001b[0m\u001b[0;34m,\u001b[0m \u001b[0mdata_location\u001b[0m\u001b[0;34m)\u001b[0m\u001b[0;34m\u001b[0m\u001b[0;34m\u001b[0m\u001b[0m\n\u001b[0;32m----> 3\u001b[0;31m \u001b[0mresults\u001b[0m \u001b[0;34m=\u001b[0m \u001b[0mfexec\u001b[0m\u001b[0;34m.\u001b[0m\u001b[0mget_result\u001b[0m\u001b[0;34m(\u001b[0m\u001b[0;34m)\u001b[0m\u001b[0;34m\u001b[0m\u001b[0;34m\u001b[0m\u001b[0m\n\u001b[0m\u001b[1;32m      4\u001b[0m \u001b[0mresults\u001b[0m\u001b[0;34m\u001b[0m\u001b[0;34m\u001b[0m\u001b[0m\n",
      "\u001b[0;32m/opt/conda/lib/python3.8/site-packages/lithops/executors.py\u001b[0m in \u001b[0;36mget_result\u001b[0;34m(self, fs, throw_except, timeout, THREADPOOL_SIZE, WAIT_DUR_SEC)\u001b[0m\n\u001b[1;32m    460\u001b[0m         \u001b[0;34m:\u001b[0m\u001b[0;32mreturn\u001b[0m\u001b[0;34m:\u001b[0m \u001b[0mThe\u001b[0m \u001b[0mresult\u001b[0m \u001b[0mof\u001b[0m \u001b[0mthe\u001b[0m \u001b[0mfuture\u001b[0m\u001b[0;34m/\u001b[0m\u001b[0ms\u001b[0m\u001b[0;34m\u001b[0m\u001b[0;34m\u001b[0m\u001b[0m\n\u001b[1;32m    461\u001b[0m         \"\"\"\n\u001b[0;32m--> 462\u001b[0;31m         fs_done, _ = self.wait(fs=fs, throw_except=throw_except,\n\u001b[0m\u001b[1;32m    463\u001b[0m                                \u001b[0mtimeout\u001b[0m\u001b[0;34m=\u001b[0m\u001b[0mtimeout\u001b[0m\u001b[0;34m,\u001b[0m \u001b[0mdownload_results\u001b[0m\u001b[0;34m=\u001b[0m\u001b[0;32mTrue\u001b[0m\u001b[0;34m,\u001b[0m\u001b[0;34m\u001b[0m\u001b[0;34m\u001b[0m\u001b[0m\n\u001b[1;32m    464\u001b[0m                                \u001b[0mTHREADPOOL_SIZE\u001b[0m\u001b[0;34m=\u001b[0m\u001b[0mTHREADPOOL_SIZE\u001b[0m\u001b[0;34m,\u001b[0m\u001b[0;34m\u001b[0m\u001b[0;34m\u001b[0m\u001b[0m\n",
      "\u001b[0;32m/opt/conda/lib/python3.8/site-packages/lithops/executors.py\u001b[0m in \u001b[0;36mwait\u001b[0;34m(self, fs, throw_except, return_when, download_results, timeout, THREADPOOL_SIZE, WAIT_DUR_SEC)\u001b[0m\n\u001b[1;32m    422\u001b[0m         \u001b[0;32mexcept\u001b[0m \u001b[0mException\u001b[0m \u001b[0;32mas\u001b[0m \u001b[0me\u001b[0m\u001b[0;34m:\u001b[0m\u001b[0;34m\u001b[0m\u001b[0;34m\u001b[0m\u001b[0m\n\u001b[1;32m    423\u001b[0m             \u001b[0merror\u001b[0m \u001b[0;34m=\u001b[0m \u001b[0;32mTrue\u001b[0m\u001b[0;34m\u001b[0m\u001b[0;34m\u001b[0m\u001b[0m\n\u001b[0;32m--> 424\u001b[0;31m             \u001b[0;32mraise\u001b[0m \u001b[0me\u001b[0m\u001b[0;34m\u001b[0m\u001b[0;34m\u001b[0m\u001b[0m\n\u001b[0m\u001b[1;32m    425\u001b[0m \u001b[0;34m\u001b[0m\u001b[0m\n\u001b[1;32m    426\u001b[0m         \u001b[0;32mfinally\u001b[0m\u001b[0;34m:\u001b[0m\u001b[0;34m\u001b[0m\u001b[0;34m\u001b[0m\u001b[0m\n",
      "\u001b[0;32m/opt/conda/lib/python3.8/site-packages/lithops/executors.py\u001b[0m in \u001b[0;36mwait\u001b[0;34m(self, fs, throw_except, return_when, download_results, timeout, THREADPOOL_SIZE, WAIT_DUR_SEC)\u001b[0m\n\u001b[1;32m    400\u001b[0m                               pbar=pbar, return_when=return_when, THREADPOOL_SIZE=THREADPOOL_SIZE)\n\u001b[1;32m    401\u001b[0m             \u001b[0;32melse\u001b[0m\u001b[0;34m:\u001b[0m\u001b[0;34m\u001b[0m\u001b[0;34m\u001b[0m\u001b[0m\n\u001b[0;32m--> 402\u001b[0;31m                 wait_storage(futures, self.internal_storage, download_results=download_results,\n\u001b[0m\u001b[1;32m    403\u001b[0m                              \u001b[0mthrow_except\u001b[0m\u001b[0;34m=\u001b[0m\u001b[0mthrow_except\u001b[0m\u001b[0;34m,\u001b[0m \u001b[0mreturn_when\u001b[0m\u001b[0;34m=\u001b[0m\u001b[0mreturn_when\u001b[0m\u001b[0;34m,\u001b[0m \u001b[0mpbar\u001b[0m\u001b[0;34m=\u001b[0m\u001b[0mpbar\u001b[0m\u001b[0;34m,\u001b[0m\u001b[0;34m\u001b[0m\u001b[0;34m\u001b[0m\u001b[0m\n\u001b[1;32m    404\u001b[0m                              THREADPOOL_SIZE=THREADPOOL_SIZE, WAIT_DUR_SEC=WAIT_DUR_SEC)\n",
      "\u001b[0;32m/opt/conda/lib/python3.8/site-packages/lithops/wait/wait_storage.py\u001b[0m in \u001b[0;36mwait_storage\u001b[0;34m(fs, internal_storage, download_results, throw_except, pbar, return_when, THREADPOOL_SIZE, WAIT_DUR_SEC)\u001b[0m\n\u001b[1;32m     77\u001b[0m \u001b[0;34m\u001b[0m\u001b[0m\n\u001b[1;32m     78\u001b[0m         \u001b[0;32mwhile\u001b[0m \u001b[0mresult_count\u001b[0m \u001b[0;34m<\u001b[0m \u001b[0mN\u001b[0m\u001b[0;34m:\u001b[0m\u001b[0;34m\u001b[0m\u001b[0;34m\u001b[0m\u001b[0m\n\u001b[0;32m---> 79\u001b[0;31m             fs_dones, fs_notdones = _wait_storage(fs,\n\u001b[0m\u001b[1;32m     80\u001b[0m                                                   \u001b[0mrunning_futures\u001b[0m\u001b[0;34m,\u001b[0m\u001b[0;34m\u001b[0m\u001b[0;34m\u001b[0m\u001b[0m\n\u001b[1;32m     81\u001b[0m                                                   \u001b[0minternal_storage\u001b[0m\u001b[0;34m,\u001b[0m\u001b[0;34m\u001b[0m\u001b[0;34m\u001b[0m\u001b[0m\n",
      "\u001b[0;32m/opt/conda/lib/python3.8/site-packages/lithops/wait/wait_storage.py\u001b[0m in \u001b[0;36m_wait_storage\u001b[0;34m(fs, running_futures, internal_storage, download_results, throw_except, return_early_n, max_direct_query_n, pbar, random_query, THREADPOOL_SIZE)\u001b[0m\n\u001b[1;32m    242\u001b[0m \u001b[0;34m\u001b[0m\u001b[0m\n\u001b[1;32m    243\u001b[0m     \u001b[0;32mif\u001b[0m \u001b[0mdownload_results\u001b[0m\u001b[0;34m:\u001b[0m\u001b[0;34m\u001b[0m\u001b[0;34m\u001b[0m\u001b[0m\n\u001b[0;32m--> 244\u001b[0;31m         \u001b[0mlist\u001b[0m\u001b[0;34m(\u001b[0m\u001b[0mpool\u001b[0m\u001b[0;34m.\u001b[0m\u001b[0mmap\u001b[0m\u001b[0;34m(\u001b[0m\u001b[0mget_result\u001b[0m\u001b[0;34m,\u001b[0m \u001b[0mfs_to_wait_on\u001b[0m\u001b[0;34m)\u001b[0m\u001b[0;34m)\u001b[0m\u001b[0;34m\u001b[0m\u001b[0;34m\u001b[0m\u001b[0m\n\u001b[0m\u001b[1;32m    245\u001b[0m     \u001b[0;32melse\u001b[0m\u001b[0;34m:\u001b[0m\u001b[0;34m\u001b[0m\u001b[0;34m\u001b[0m\u001b[0m\n\u001b[1;32m    246\u001b[0m         \u001b[0mlist\u001b[0m\u001b[0;34m(\u001b[0m\u001b[0mpool\u001b[0m\u001b[0;34m.\u001b[0m\u001b[0mmap\u001b[0m\u001b[0;34m(\u001b[0m\u001b[0mget_status\u001b[0m\u001b[0;34m,\u001b[0m \u001b[0mfs_to_wait_on\u001b[0m\u001b[0;34m)\u001b[0m\u001b[0;34m)\u001b[0m\u001b[0;34m\u001b[0m\u001b[0;34m\u001b[0m\u001b[0m\n",
      "\u001b[0;32m/opt/conda/lib/python3.8/concurrent/futures/_base.py\u001b[0m in \u001b[0;36mresult_iterator\u001b[0;34m()\u001b[0m\n\u001b[1;32m    609\u001b[0m                     \u001b[0;31m# Careful not to keep a reference to the popped future\u001b[0m\u001b[0;34m\u001b[0m\u001b[0;34m\u001b[0m\u001b[0;34m\u001b[0m\u001b[0m\n\u001b[1;32m    610\u001b[0m                     \u001b[0;32mif\u001b[0m \u001b[0mtimeout\u001b[0m \u001b[0;32mis\u001b[0m \u001b[0;32mNone\u001b[0m\u001b[0;34m:\u001b[0m\u001b[0;34m\u001b[0m\u001b[0;34m\u001b[0m\u001b[0m\n\u001b[0;32m--> 611\u001b[0;31m                         \u001b[0;32myield\u001b[0m \u001b[0mfs\u001b[0m\u001b[0;34m.\u001b[0m\u001b[0mpop\u001b[0m\u001b[0;34m(\u001b[0m\u001b[0;34m)\u001b[0m\u001b[0;34m.\u001b[0m\u001b[0mresult\u001b[0m\u001b[0;34m(\u001b[0m\u001b[0;34m)\u001b[0m\u001b[0;34m\u001b[0m\u001b[0;34m\u001b[0m\u001b[0m\n\u001b[0m\u001b[1;32m    612\u001b[0m                     \u001b[0;32melse\u001b[0m\u001b[0;34m:\u001b[0m\u001b[0;34m\u001b[0m\u001b[0;34m\u001b[0m\u001b[0m\n\u001b[1;32m    613\u001b[0m                         \u001b[0;32myield\u001b[0m \u001b[0mfs\u001b[0m\u001b[0;34m.\u001b[0m\u001b[0mpop\u001b[0m\u001b[0;34m(\u001b[0m\u001b[0;34m)\u001b[0m\u001b[0;34m.\u001b[0m\u001b[0mresult\u001b[0m\u001b[0;34m(\u001b[0m\u001b[0mend_time\u001b[0m \u001b[0;34m-\u001b[0m \u001b[0mtime\u001b[0m\u001b[0;34m.\u001b[0m\u001b[0mmonotonic\u001b[0m\u001b[0;34m(\u001b[0m\u001b[0;34m)\u001b[0m\u001b[0;34m)\u001b[0m\u001b[0;34m\u001b[0m\u001b[0;34m\u001b[0m\u001b[0m\n",
      "\u001b[0;32m/opt/conda/lib/python3.8/concurrent/futures/_base.py\u001b[0m in \u001b[0;36mresult\u001b[0;34m(self, timeout)\u001b[0m\n\u001b[1;32m    437\u001b[0m                 \u001b[0;32mraise\u001b[0m \u001b[0mCancelledError\u001b[0m\u001b[0;34m(\u001b[0m\u001b[0;34m)\u001b[0m\u001b[0;34m\u001b[0m\u001b[0;34m\u001b[0m\u001b[0m\n\u001b[1;32m    438\u001b[0m             \u001b[0;32melif\u001b[0m \u001b[0mself\u001b[0m\u001b[0;34m.\u001b[0m\u001b[0m_state\u001b[0m \u001b[0;34m==\u001b[0m \u001b[0mFINISHED\u001b[0m\u001b[0;34m:\u001b[0m\u001b[0;34m\u001b[0m\u001b[0;34m\u001b[0m\u001b[0m\n\u001b[0;32m--> 439\u001b[0;31m                 \u001b[0;32mreturn\u001b[0m \u001b[0mself\u001b[0m\u001b[0;34m.\u001b[0m\u001b[0m__get_result\u001b[0m\u001b[0;34m(\u001b[0m\u001b[0;34m)\u001b[0m\u001b[0;34m\u001b[0m\u001b[0;34m\u001b[0m\u001b[0m\n\u001b[0m\u001b[1;32m    440\u001b[0m             \u001b[0;32melse\u001b[0m\u001b[0;34m:\u001b[0m\u001b[0;34m\u001b[0m\u001b[0;34m\u001b[0m\u001b[0m\n\u001b[1;32m    441\u001b[0m                 \u001b[0;32mraise\u001b[0m \u001b[0mTimeoutError\u001b[0m\u001b[0;34m(\u001b[0m\u001b[0;34m)\u001b[0m\u001b[0;34m\u001b[0m\u001b[0;34m\u001b[0m\u001b[0m\n",
      "\u001b[0;32m/opt/conda/lib/python3.8/concurrent/futures/_base.py\u001b[0m in \u001b[0;36m__get_result\u001b[0;34m(self)\u001b[0m\n\u001b[1;32m    386\u001b[0m     \u001b[0;32mdef\u001b[0m \u001b[0m__get_result\u001b[0m\u001b[0;34m(\u001b[0m\u001b[0mself\u001b[0m\u001b[0;34m)\u001b[0m\u001b[0;34m:\u001b[0m\u001b[0;34m\u001b[0m\u001b[0;34m\u001b[0m\u001b[0m\n\u001b[1;32m    387\u001b[0m         \u001b[0;32mif\u001b[0m \u001b[0mself\u001b[0m\u001b[0;34m.\u001b[0m\u001b[0m_exception\u001b[0m\u001b[0;34m:\u001b[0m\u001b[0;34m\u001b[0m\u001b[0;34m\u001b[0m\u001b[0m\n\u001b[0;32m--> 388\u001b[0;31m             \u001b[0;32mraise\u001b[0m \u001b[0mself\u001b[0m\u001b[0;34m.\u001b[0m\u001b[0m_exception\u001b[0m\u001b[0;34m\u001b[0m\u001b[0;34m\u001b[0m\u001b[0m\n\u001b[0m\u001b[1;32m    389\u001b[0m         \u001b[0;32melse\u001b[0m\u001b[0;34m:\u001b[0m\u001b[0;34m\u001b[0m\u001b[0;34m\u001b[0m\u001b[0m\n\u001b[1;32m    390\u001b[0m             \u001b[0;32mreturn\u001b[0m \u001b[0mself\u001b[0m\u001b[0;34m.\u001b[0m\u001b[0m_result\u001b[0m\u001b[0;34m\u001b[0m\u001b[0;34m\u001b[0m\u001b[0m\n",
      "\u001b[0;32m/opt/conda/lib/python3.8/concurrent/futures/thread.py\u001b[0m in \u001b[0;36mrun\u001b[0;34m(self)\u001b[0m\n\u001b[1;32m     55\u001b[0m \u001b[0;34m\u001b[0m\u001b[0m\n\u001b[1;32m     56\u001b[0m         \u001b[0;32mtry\u001b[0m\u001b[0;34m:\u001b[0m\u001b[0;34m\u001b[0m\u001b[0;34m\u001b[0m\u001b[0m\n\u001b[0;32m---> 57\u001b[0;31m             \u001b[0mresult\u001b[0m \u001b[0;34m=\u001b[0m \u001b[0mself\u001b[0m\u001b[0;34m.\u001b[0m\u001b[0mfn\u001b[0m\u001b[0;34m(\u001b[0m\u001b[0;34m*\u001b[0m\u001b[0mself\u001b[0m\u001b[0;34m.\u001b[0m\u001b[0margs\u001b[0m\u001b[0;34m,\u001b[0m \u001b[0;34m**\u001b[0m\u001b[0mself\u001b[0m\u001b[0;34m.\u001b[0m\u001b[0mkwargs\u001b[0m\u001b[0;34m)\u001b[0m\u001b[0;34m\u001b[0m\u001b[0;34m\u001b[0m\u001b[0m\n\u001b[0m\u001b[1;32m     58\u001b[0m         \u001b[0;32mexcept\u001b[0m \u001b[0mBaseException\u001b[0m \u001b[0;32mas\u001b[0m \u001b[0mexc\u001b[0m\u001b[0;34m:\u001b[0m\u001b[0;34m\u001b[0m\u001b[0;34m\u001b[0m\u001b[0m\n\u001b[1;32m     59\u001b[0m             \u001b[0mself\u001b[0m\u001b[0;34m.\u001b[0m\u001b[0mfuture\u001b[0m\u001b[0;34m.\u001b[0m\u001b[0mset_exception\u001b[0m\u001b[0;34m(\u001b[0m\u001b[0mexc\u001b[0m\u001b[0;34m)\u001b[0m\u001b[0;34m\u001b[0m\u001b[0;34m\u001b[0m\u001b[0m\n",
      "\u001b[0;32m/opt/conda/lib/python3.8/site-packages/lithops/wait/wait_storage.py\u001b[0m in \u001b[0;36mget_result\u001b[0;34m(f)\u001b[0m\n\u001b[1;32m    234\u001b[0m         \u001b[0;32mif\u001b[0m \u001b[0mf\u001b[0m\u001b[0;34m.\u001b[0m\u001b[0mrunning\u001b[0m\u001b[0;34m:\u001b[0m\u001b[0;34m\u001b[0m\u001b[0;34m\u001b[0m\u001b[0m\n\u001b[1;32m    235\u001b[0m             \u001b[0mf\u001b[0m\u001b[0;34m.\u001b[0m\u001b[0m_call_status\u001b[0m \u001b[0;34m=\u001b[0m \u001b[0;32mNone\u001b[0m\u001b[0;34m\u001b[0m\u001b[0;34m\u001b[0m\u001b[0m\n\u001b[0;32m--> 236\u001b[0;31m         \u001b[0mf\u001b[0m\u001b[0;34m.\u001b[0m\u001b[0mresult\u001b[0m\u001b[0;34m(\u001b[0m\u001b[0mthrow_except\u001b[0m\u001b[0;34m=\u001b[0m\u001b[0mthrow_except\u001b[0m\u001b[0;34m,\u001b[0m \u001b[0minternal_storage\u001b[0m\u001b[0;34m=\u001b[0m\u001b[0minternal_storage\u001b[0m\u001b[0;34m)\u001b[0m\u001b[0;34m\u001b[0m\u001b[0;34m\u001b[0m\u001b[0m\n\u001b[0m\u001b[1;32m    237\u001b[0m \u001b[0;34m\u001b[0m\u001b[0m\n\u001b[1;32m    238\u001b[0m     \u001b[0;32mdef\u001b[0m \u001b[0mget_status\u001b[0m\u001b[0;34m(\u001b[0m\u001b[0mf\u001b[0m\u001b[0;34m)\u001b[0m\u001b[0;34m:\u001b[0m\u001b[0;34m\u001b[0m\u001b[0;34m\u001b[0m\u001b[0m\n",
      "\u001b[0;32m/opt/conda/lib/python3.8/site-packages/lithops/future.py\u001b[0m in \u001b[0;36mresult\u001b[0;34m(self, throw_except, internal_storage)\u001b[0m\n\u001b[1;32m    263\u001b[0m             \u001b[0minternal_storage\u001b[0m \u001b[0;34m=\u001b[0m \u001b[0mInternalStorage\u001b[0m\u001b[0;34m(\u001b[0m\u001b[0mstorage_config\u001b[0m\u001b[0;34m=\u001b[0m\u001b[0mself\u001b[0m\u001b[0;34m.\u001b[0m\u001b[0m_storage_config\u001b[0m\u001b[0;34m)\u001b[0m\u001b[0;34m\u001b[0m\u001b[0;34m\u001b[0m\u001b[0m\n\u001b[1;32m    264\u001b[0m \u001b[0;34m\u001b[0m\u001b[0m\n\u001b[0;32m--> 265\u001b[0;31m         \u001b[0mself\u001b[0m\u001b[0;34m.\u001b[0m\u001b[0mstatus\u001b[0m\u001b[0;34m(\u001b[0m\u001b[0mthrow_except\u001b[0m\u001b[0;34m=\u001b[0m\u001b[0mthrow_except\u001b[0m\u001b[0;34m,\u001b[0m \u001b[0minternal_storage\u001b[0m\u001b[0;34m=\u001b[0m\u001b[0minternal_storage\u001b[0m\u001b[0;34m)\u001b[0m\u001b[0;34m\u001b[0m\u001b[0;34m\u001b[0m\u001b[0m\n\u001b[0m\u001b[1;32m    266\u001b[0m \u001b[0;34m\u001b[0m\u001b[0m\n\u001b[1;32m    267\u001b[0m         \u001b[0;32mif\u001b[0m \u001b[0mself\u001b[0m\u001b[0;34m.\u001b[0m\u001b[0m_state\u001b[0m \u001b[0;34m==\u001b[0m \u001b[0mResponseFuture\u001b[0m\u001b[0;34m.\u001b[0m\u001b[0mState\u001b[0m\u001b[0;34m.\u001b[0m\u001b[0mSuccess\u001b[0m\u001b[0;34m:\u001b[0m\u001b[0;34m\u001b[0m\u001b[0;34m\u001b[0m\u001b[0m\n",
      "\u001b[0;32m/opt/conda/lib/python3.8/site-packages/lithops/future.py\u001b[0m in \u001b[0;36mstatus\u001b[0;34m(self, throw_except, internal_storage)\u001b[0m\n\u001b[1;32m    206\u001b[0m                 \u001b[0msys\u001b[0m\u001b[0;34m.\u001b[0m\u001b[0mexcepthook\u001b[0m \u001b[0;34m=\u001b[0m \u001b[0mexception_hook\u001b[0m\u001b[0;34m\u001b[0m\u001b[0;34m\u001b[0m\u001b[0m\n\u001b[1;32m    207\u001b[0m                 \u001b[0mtime\u001b[0m\u001b[0;34m.\u001b[0m\u001b[0msleep\u001b[0m\u001b[0;34m(\u001b[0m\u001b[0;36m1\u001b[0m\u001b[0;34m)\u001b[0m\u001b[0;34m\u001b[0m\u001b[0;34m\u001b[0m\u001b[0m\n\u001b[0;32m--> 208\u001b[0;31m                 \u001b[0mreraise\u001b[0m\u001b[0;34m(\u001b[0m\u001b[0;34m*\u001b[0m\u001b[0mself\u001b[0m\u001b[0;34m.\u001b[0m\u001b[0m_exception\u001b[0m\u001b[0;34m)\u001b[0m\u001b[0;34m\u001b[0m\u001b[0;34m\u001b[0m\u001b[0m\n\u001b[0m\u001b[1;32m    209\u001b[0m             \u001b[0;32melse\u001b[0m\u001b[0;34m:\u001b[0m\u001b[0;34m\u001b[0m\u001b[0;34m\u001b[0m\u001b[0m\n\u001b[1;32m    210\u001b[0m                 \u001b[0mlogger\u001b[0m\u001b[0;34m.\u001b[0m\u001b[0minfo\u001b[0m\u001b[0;34m(\u001b[0m\u001b[0mmsg1\u001b[0m\u001b[0;34m)\u001b[0m\u001b[0;34m\u001b[0m\u001b[0;34m\u001b[0m\u001b[0m\n",
      "\u001b[0;32m/opt/conda/lib/python3.8/site-packages/six.py\u001b[0m in \u001b[0;36mreraise\u001b[0;34m(tp, value, tb)\u001b[0m\n\u001b[1;32m    700\u001b[0m                 \u001b[0mvalue\u001b[0m \u001b[0;34m=\u001b[0m \u001b[0mtp\u001b[0m\u001b[0;34m(\u001b[0m\u001b[0;34m)\u001b[0m\u001b[0;34m\u001b[0m\u001b[0;34m\u001b[0m\u001b[0m\n\u001b[1;32m    701\u001b[0m             \u001b[0;32mif\u001b[0m \u001b[0mvalue\u001b[0m\u001b[0;34m.\u001b[0m\u001b[0m__traceback__\u001b[0m \u001b[0;32mis\u001b[0m \u001b[0;32mnot\u001b[0m \u001b[0mtb\u001b[0m\u001b[0;34m:\u001b[0m\u001b[0;34m\u001b[0m\u001b[0;34m\u001b[0m\u001b[0m\n\u001b[0;32m--> 702\u001b[0;31m                 \u001b[0;32mraise\u001b[0m \u001b[0mvalue\u001b[0m\u001b[0;34m.\u001b[0m\u001b[0mwith_traceback\u001b[0m\u001b[0;34m(\u001b[0m\u001b[0mtb\u001b[0m\u001b[0;34m)\u001b[0m\u001b[0;34m\u001b[0m\u001b[0;34m\u001b[0m\u001b[0m\n\u001b[0m\u001b[1;32m    703\u001b[0m             \u001b[0;32mraise\u001b[0m \u001b[0mvalue\u001b[0m\u001b[0;34m\u001b[0m\u001b[0;34m\u001b[0m\u001b[0m\n\u001b[1;32m    704\u001b[0m         \u001b[0;32mfinally\u001b[0m\u001b[0;34m:\u001b[0m\u001b[0;34m\u001b[0m\u001b[0;34m\u001b[0m\u001b[0m\n",
      "\u001b[0;32m/action/lithops/worker/jobrunner.py\u001b[0m in \u001b[0;36mrun\u001b[0;34m()\u001b[0m\n",
      "\u001b[0;32m<ipython-input-8-ef6dd46eeec5>\u001b[0m in \u001b[0;36mstackering_logic\u001b[0;34m()\u001b[0m\n\u001b[1;32m     10\u001b[0m     \u001b[0;32mwith\u001b[0m \u001b[0mrasterio\u001b[0m\u001b[0;34m.\u001b[0m\u001b[0mopen\u001b[0m\u001b[0;34m(\u001b[0m\u001b[0mobj\u001b[0m\u001b[0;34m.\u001b[0m\u001b[0mdata_stream\u001b[0m\u001b[0;34m)\u001b[0m \u001b[0;32mas\u001b[0m \u001b[0msrc\u001b[0m\u001b[0;34m:\u001b[0m\u001b[0;34m\u001b[0m\u001b[0;34m\u001b[0m\u001b[0m\n\u001b[1;32m     11\u001b[0m \u001b[0;34m\u001b[0m\u001b[0m\n\u001b[0;32m---> 12\u001b[0;31m         with rasterio.open(temporal_file,'r+',driver='Gtiff',\n\u001b[0m\u001b[1;32m     13\u001b[0m                          \u001b[0mwidth\u001b[0m\u001b[0;34m=\u001b[0m\u001b[0msrc\u001b[0m\u001b[0;34m.\u001b[0m\u001b[0mwidth\u001b[0m\u001b[0;34m,\u001b[0m \u001b[0mheight\u001b[0m\u001b[0;34m=\u001b[0m\u001b[0msrc\u001b[0m\u001b[0;34m.\u001b[0m\u001b[0mheight\u001b[0m\u001b[0;34m,\u001b[0m\u001b[0;34m\u001b[0m\u001b[0;34m\u001b[0m\u001b[0m\n\u001b[1;32m     14\u001b[0m                          \u001b[0mcount\u001b[0m\u001b[0;34m=\u001b[0m\u001b[0;36m3\u001b[0m\u001b[0;34m,\u001b[0m\u001b[0;34m\u001b[0m\u001b[0;34m\u001b[0m\u001b[0m\n",
      "\u001b[0;32m/usr/local/lib/python3.8/site-packages/rasterio/env.py\u001b[0m in \u001b[0;36mwrapper\u001b[0;34m()\u001b[0m\n",
      "\u001b[0;32m/usr/local/lib/python3.8/site-packages/rasterio/__init__.py\u001b[0m in \u001b[0;36mopen\u001b[0;34m()\u001b[0m\n",
      "\u001b[0;32mrasterio/_io.pyx\u001b[0m in \u001b[0;36mrasterio._io.DatasetWriterBase.__init__\u001b[0;34m()\u001b[0m\n",
      "\u001b[0;31mRasterioIOError\u001b[0m: /tmp/raster_T30TYK.tif: No such file or directory"
     ]
    },
    {
     "name": "stderr",
     "output_type": "stream",
     "text": [
      "Exception in thread Thread-8:\n",
      "Traceback (most recent call last):\n",
      "  File \"/opt/conda/lib/python3.8/site-packages/lithops/wait/wait_storage.py\", line 281, in _future_timeout_checker\n",
      "    raise TimeoutError('HANDLER', msg)\n",
      "TimeoutError: [Errno HANDLER] The function did not run as expected.\n",
      "\n",
      "During handling of the above exception, another exception occurred:\n",
      "\n",
      "Traceback (most recent call last):\n",
      "  File \"/opt/conda/lib/python3.8/threading.py\", line 932, in _bootstrap_inner\n",
      "    self.run()\n",
      "  File \"/opt/conda/lib/python3.8/threading.py\", line 870, in run\n",
      "    self._target(*self._args, **self._kwargs)\n",
      "  File \"/opt/conda/lib/python3.8/site-packages/lithops/wait/wait_storage.py\", line 290, in _future_timeout_checker\n",
      "    pickled_exception = str(pickle.dumps(sys.exc_info()))\n",
      "TypeError: cannot pickle 'traceback' object\n",
      "Exception in thread Thread-12:\n",
      "Traceback (most recent call last):\n",
      "  File \"/opt/conda/lib/python3.8/site-packages/lithops/wait/wait_storage.py\", line 281, in _future_timeout_checker\n",
      "    raise TimeoutError('HANDLER', msg)\n",
      "TimeoutError: [Errno HANDLER] The function did not run as expected.\n",
      "\n",
      "During handling of the above exception, another exception occurred:\n",
      "\n",
      "Traceback (most recent call last):\n",
      "  File \"/opt/conda/lib/python3.8/threading.py\", line 932, in _bootstrap_inner\n",
      "    self.run()\n",
      "  File \"/opt/conda/lib/python3.8/threading.py\", line 870, in run\n",
      "    self._target(*self._args, **self._kwargs)\n",
      "  File \"/opt/conda/lib/python3.8/site-packages/lithops/wait/wait_storage.py\", line 290, in _future_timeout_checker\n",
      "    pickled_exception = str(pickle.dumps(sys.exc_info()))\n",
      "TypeError: cannot pickle 'traceback' object\n"
     ]
    }
   ],
   "source": [
    "fexec = lithops.FunctionExecutor(config=config, runtime='mavsonnen/jdsampe:nogdal', runtime_memory=2048)\n",
    "fexec.map(stackering_logic, data_location)\n",
    "results = fexec.get_result()\n",
    "results"
   ]
  },
  {
   "cell_type": "code",
   "execution_count": 153,
   "metadata": {},
   "outputs": [
    {
     "data": {
      "text/plain": [
       "['/home/jovyan/work/Training_stuff/logic_functions2/SENTINEL2A_20200927-110006-031_L2A_T30TYK_C_V2-2_SRE_B3.tif',\n",
       " '/home/jovyan/work/Training_stuff/logic_functions2/SENTINEL2A_20200927-110006-031_L2A_T30TYK_C_V2-2_SRE_B4.tif',\n",
       " '/home/jovyan/work/Training_stuff/logic_functions2/SENTINEL2A_20200927-110006-031_L2A_T30TYK_C_V2-2_SRE_B8.tif',\n",
       " '/home/jovyan/work/Training_stuff/logic_functions2/SENTINEL2A_20200927-110009-082_L2A_T30TXK_C_V2-2_SRE_B3.tif',\n",
       " '/home/jovyan/work/Training_stuff/logic_functions2/SENTINEL2A_20200927-110009-082_L2A_T30TXK_C_V2-2_SRE_B4.tif',\n",
       " '/home/jovyan/work/Training_stuff/logic_functions2/SENTINEL2A_20200927-110009-082_L2A_T30TXK_C_V2-2_SRE_B8.tif']"
      ]
     },
     "execution_count": 153,
     "metadata": {},
     "output_type": "execute_result"
    }
   ],
   "source": [
    "import glob\n",
    "all_files  =  glob.glob(\"/home/jovyan/work/Training_stuff/logic_functions2/SENTINEL*.tif\")\n",
    "all_files"
   ]
  },
  {
   "cell_type": "code",
   "execution_count": 210,
   "metadata": {},
   "outputs": [],
   "source": [
    "for raster_path in all_files:\n",
    "\n",
    "    numberfield=raster_path.split(\"_\")[5]\n",
    "    numberband=raster_path.split(\"_\")[9].split(\".\")[0]\n",
    "    \n",
    "    temporal_file='/home/jovyan/work/Training_stuff/output_stack/stack'+ numberfield +'.tif'     \n",
    "    \n",
    "    with rasterio.open(raster_path) as src:\n",
    "        \n",
    "        with rasterio.open(temporal_file,'r+',driver='Gtiff',\n",
    "                             width=src.width, height=src.height,\n",
    "                             count=3,\n",
    "                             crs=src.crs,\n",
    "                             transform=src.transform,\n",
    "                             dtype=src.dtypes[0]\n",
    "                             ) as trueColor:\n",
    "            \n",
    "            if numberband == \"B3\":\n",
    "                trueColor.write(src.read(1),3) #blue\n",
    "            elif numberband == \"B4\":\n",
    "                trueColor.write(src.read(1),2) #green\n",
    "            elif numberband == \"B8\":\n",
    "                trueColor.write(src.read(1),1) #red"
   ]
  },
  {
   "cell_type": "code",
   "execution_count": 211,
   "metadata": {},
   "outputs": [
    {
     "data": {
      "text/plain": [
       "array([[[2131, 2230, 2085, ...,  319,  334,  339],\n",
       "        [2006, 2083, 2068, ...,  312,  323,  341],\n",
       "        [2012, 2173, 2001, ...,  316,  326,  351],\n",
       "        ...,\n",
       "        [2783, 2768, 2783, ...,  128,  147,  137],\n",
       "        [2764, 2780, 2847, ...,   76,   96,   94],\n",
       "        [2820, 2871, 2945, ...,   75,   71,   66]],\n",
       "\n",
       "       [[1136, 1308, 1079, ...,  598,  598,  606],\n",
       "        [1035, 1136,  975, ...,  575,  594,  602],\n",
       "        [ 960, 1103,  971, ...,  566,  574,  594],\n",
       "        ...,\n",
       "        [1377, 1482, 1476, ...,   82,  107,   99],\n",
       "        [1416, 1488, 1531, ...,   81,   81,   65],\n",
       "        [1393, 1327, 1464, ...,  116,  104,   63]],\n",
       "\n",
       "       [[ 914,  992,  875, ...,  846,  844,  848],\n",
       "        [ 818,  896,  881, ...,  807,  817,  810],\n",
       "        [ 757,  867,  790, ...,  801,  783,  777],\n",
       "        ...,\n",
       "        [1051, 1163, 1104, ...,  162,  218,  176],\n",
       "        [1068, 1168, 1159, ...,  122,  139,  142],\n",
       "        [1096, 1075, 1118, ...,  141,  132,  115]]], dtype=int16)"
      ]
     },
     "execution_count": 211,
     "metadata": {},
     "output_type": "execute_result"
    }
   ],
   "source": [
    "path='/home/jovyan/work/Training_stuff/output_stack/stackT30TYK.tif'\n",
    "a=rasterio.open(path)\n",
    "a.read()"
   ]
  },
  {
   "cell_type": "markdown",
   "metadata": {},
   "source": [
    "# logic functions with file text"
   ]
  },
  {
   "cell_type": "code",
   "execution_count": 189,
   "metadata": {},
   "outputs": [],
   "source": [
    "with open('/tmp/file.txt', 'w') as file:\n",
    "    file.write('Esta es la primera linea \\n y esta la segunda')"
   ]
  },
  {
   "cell_type": "code",
   "execution_count": 190,
   "metadata": {},
   "outputs": [
    {
     "name": "stdout",
     "output_type": "stream",
     "text": [
      "Esta es la primera linea \n",
      " y esta la segunda\n",
      " añadimos esta nueva linea\n"
     ]
    }
   ],
   "source": [
    "with open('/tmp/file.txt','a') as f:\n",
    "    f.write('\\n añadimos esta nueva linea')\n",
    "\n",
    "with open('/tmp/file.txt') as f:\n",
    "    print(f.read())\n"
   ]
  },
  {
   "cell_type": "code",
   "execution_count": 176,
   "metadata": {},
   "outputs": [],
   "source": []
  },
  {
   "cell_type": "code",
   "execution_count": 170,
   "metadata": {},
   "outputs": [
    {
     "ename": "UnsupportedOperation",
     "evalue": "not readable",
     "output_type": "error",
     "traceback": [
      "\u001b[0;31m---------------------------------------------------------------------------\u001b[0m",
      "\u001b[0;31mUnsupportedOperation\u001b[0m                      Traceback (most recent call last)",
      "\u001b[0;32m<ipython-input-170-315c20b774c2>\u001b[0m in \u001b[0;36m<module>\u001b[0;34m\u001b[0m\n\u001b[0;32m----> 1\u001b[0;31m \u001b[0mprint\u001b[0m\u001b[0;34m(\u001b[0m\u001b[0mf\u001b[0m\u001b[0;34m.\u001b[0m\u001b[0mread\u001b[0m\u001b[0;34m(\u001b[0m\u001b[0;34m)\u001b[0m\u001b[0;34m)\u001b[0m\u001b[0;34m\u001b[0m\u001b[0;34m\u001b[0m\u001b[0m\n\u001b[0m",
      "\u001b[0;31mUnsupportedOperation\u001b[0m: not readable"
     ]
    }
   ],
   "source": [
    "print(f.read())"
   ]
  }
 ],
 "metadata": {
  "kernelspec": {
   "display_name": "Python 3",
   "language": "python",
   "name": "python3"
  },
  "language_info": {
   "codemirror_mode": {
    "name": "ipython",
    "version": 3
   },
   "file_extension": ".py",
   "mimetype": "text/x-python",
   "name": "python",
   "nbconvert_exporter": "python",
   "pygments_lexer": "ipython3",
   "version": "3.8.6"
  }
 },
 "nbformat": 4,
 "nbformat_minor": 4
}
