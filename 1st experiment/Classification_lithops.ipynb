{
 "cells": [
  {
   "cell_type": "markdown",
   "metadata": {},
   "source": [
    "# Classification_lithops\n",
    "Based on a train model we make a clasification of raster images thanks to lithops."
   ]
  },
  {
   "cell_type": "markdown",
   "metadata": {},
   "source": [
    "### Import libraries\n",
    "\n",
    "In this section we import the necessary libraries for the realization of our classification"
   ]
  },
  {
   "cell_type": "code",
   "execution_count": 1,
   "metadata": {},
   "outputs": [
    {
     "name": "stdout",
     "output_type": "stream",
     "text": [
      "Libraries imported succesfully\n"
     ]
    }
   ],
   "source": [
    "import rasterio\n",
    "from rasterio.plot import show\n",
    "from rasterio.plot import reshape_as_image\n",
    "import matplotlib.pyplot as plt\n",
    "import numpy as np\n",
    "import lithops\n",
    "import joblib\n",
    "import time\n",
    "import os\n",
    "import io\n",
    "\n",
    "print(\"Libraries imported succesfully\")"
   ]
  },
  {
   "cell_type": "markdown",
   "metadata": {},
   "source": [
    "# Serverless Implementation - Lithops\n",
    "\n",
    "A execution using lithops where a trained model will be applied to a new image to extract the different classes. This will escalate in several ways:\n",
    "\n",
    "- Applying the same model to several images in parallel.\n",
    "- Apply different models to the same image to study which one offers the best results.\n"
   ]
  },
  {
   "cell_type": "markdown",
   "metadata": {},
   "source": [
    "Update the **configuration** of lithops through a json file."
   ]
  },
  {
   "cell_type": "code",
   "execution_count": 2,
   "metadata": {},
   "outputs": [],
   "source": [
    "import json\n",
    "config_path = open(\"/home/jovyan/work/config.txt\")\n",
    "config_read = config_path.read()\n",
    "config = json.loads(config_read)"
   ]
  },
  {
   "cell_type": "markdown",
   "metadata": {},
   "source": [
    "Use **map method** to charge **train model** from IBM_COS and **predict** classification for new raster images."
   ]
  },
  {
   "cell_type": "code",
   "execution_count": 3,
   "metadata": {},
   "outputs": [],
   "source": [
    "def map_model(obj, ibm_cos):\n",
    "    print(obj.key + '+' + obj.bucket)\n",
    "        \n",
    "    with rasterio.open(obj.data_stream) as src:\n",
    "        img = src.read() # [:, 150: 200, 150 : 250] - col_off, row_off, width, height\n",
    "        reshaped_img = reshape_as_image(img)\n",
    "        shapefile = ibm_cos.get_object(Bucket='geospatial-first-experiment', Key='finalized_model_joblib.sav')['Body']\n",
    "        loaded_model = joblib.load(io.BytesIO(shapefile.read())) \n",
    "        prediction = loaded_model.predict(reshaped_img.reshape(-1, 3))  # for each pixel of our we perform a prediction\n",
    "        prediction = prediction.reshape(reshaped_img[:, :, 0].shape)\n",
    "\n",
    "        prediction[prediction == 'superficie_artificial'] = 1\n",
    "        prediction[prediction == 'bosque_de_coniferas'] = 2\n",
    "        prediction[prediction == 'bosque_de_frondosas'] = 3\n",
    "        prediction[prediction == 'zonas_agricolas'] = 4\n",
    "        prediction[prediction == 'vegetacion_esclerofila'] = 5\n",
    "        prediction[prediction == 'pastizales_naturales'] = 6\n",
    "        prediction[prediction == 'matorral_boscoso_de_transicion'] = 7\n",
    "        prediction[prediction == 'zonas_quedamas'] = 8\n",
    "        prediction[prediction == 'zonas_humedas'] = 9\n",
    "        prediction[prediction == 'superficie_agua'] = 10\n",
    "        prediction = (prediction.astype(int))\n",
    "        \n",
    "         # If classified raster images want to be saved in IBM COS: \n",
    "        #ibm_cos.put_object(Bucket='testing-lithops', Key=f'classified_raster_{id}.tif', Body=prediction.tobytes())\n",
    "        \n",
    "    return prediction"
   ]
  },
  {
   "cell_type": "markdown",
   "metadata": {},
   "source": [
    "**Iterdata** have the raster images to be parallel clasified."
   ]
  },
  {
   "cell_type": "code",
   "execution_count": 4,
   "metadata": {},
   "outputs": [],
   "source": [
    "iterdata  = ['cos://large-scale-process/valenciana_624000.0-4192000.0_comunidad_mask.tif',\n",
    "             'cos://large-scale-process/valenciana_624000.0-4192000.0_comunidad_mask.tif']"
   ]
  },
  {
   "cell_type": "code",
   "execution_count": 5,
   "metadata": {},
   "outputs": [
    {
     "name": "stdout",
     "output_type": "stream",
     "text": [
      "Lithops v2.2.5 init for IBM Cloud Functions - Namespace: new-us-east - Region: us_east\n",
      "ExecutorID 018bec-0 | JobID M000 - Selected Runtime: mavsonnen/jdsampe:nogdal - 2048MB \n",
      "ExecutorID 018bec-0 | JobID M000 - Uploading function and data - Total: 1.9KiB\n",
      "ExecutorID 018bec-0 | JobID M000 - Starting function invocation: map_model() - Total: 2 activations\n",
      "ExecutorID 018bec-0 - Getting results...\n"
     ]
    },
    {
     "data": {
      "application/vnd.jupyter.widget-view+json": {
       "model_id": "a681c0549a774897b2b14b29f418ef00",
       "version_major": 2,
       "version_minor": 0
      },
      "text/plain": [
       "HBox(children=(HTML(value=''), FloatProgress(value=0.0, max=2.0), HTML(value='')))"
      ]
     },
     "metadata": {},
     "output_type": "display_data"
    },
    {
     "name": "stdout",
     "output_type": "stream",
     "text": [
      "\n"
     ]
    }
   ],
   "source": [
    "if __name__ == \"__main__\":\n",
    "    # For Python 3.7 use mavsonnen/lithops-py37:latest + For Python 3.7 use mavsonnen/jdsampe:nogdal\n",
    "    \n",
    "    fexec = lithops.FunctionExecutor(config=config,runtime='mavsonnen/jdsampe:nogdal', runtime_memory=2048)\n",
    "    fexec.map(map_model, iterdata)\n",
    "    results = fexec.get_result()"
   ]
  },
  {
   "cell_type": "markdown",
   "metadata": {},
   "source": [
    "Showing parallel classification **results**."
   ]
  },
  {
   "cell_type": "code",
   "execution_count": 6,
   "metadata": {},
   "outputs": [
    {
     "data": {
      "image/png": "[encoded data removed]",
      "text/plain": [
       "<Figure size 432x288 with 1 Axes>"
      ]
     },
     "metadata": {
      "needs_background": "light"
     },
     "output_type": "display_data"
    },
    {
     "data": {
      "image/png": "[encoded data removed]",
      "text/plain": [
       "<Figure size 432x288 with 1 Axes>"
      ]
     },
     "metadata": {
      "needs_background": "light"
     },
     "output_type": "display_data"
    }
   ],
   "source": [
    "for img in results:\n",
    "    show(img, cmap='terrain')"
   ]
  }
 ],
 "metadata": {
  "kernelspec": {
   "display_name": "Python 3",
   "language": "python",
   "name": "python3"
  },
  "language_info": {
   "codemirror_mode": {
    "name": "ipython",
    "version": 3
   },
   "file_extension": ".py",
   "mimetype": "text/x-python",
   "name": "python",
   "nbconvert_exporter": "python",
   "pygments_lexer": "ipython3",
   "version": "3.8.6"
  }
 },
 "nbformat": 4,
 "nbformat_minor": 4
}
