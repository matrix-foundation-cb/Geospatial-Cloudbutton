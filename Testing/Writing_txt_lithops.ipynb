{
 "cells": [
  {
   "cell_type": "markdown",
   "metadata": {},
   "source": [
    "El objetivo es lograr que en temporal_file se guarde el texto de primero.txt, segundo.txt y tercero.txt en dicho orden. Para ello se busca guardar los datos del los .txt en el archivo temporal. Sin embargo, por las pruebas que estoy haciendo entiendo que cada función "
   ]
  },
  {
   "cell_type": "code",
   "execution_count": 79,
   "metadata": {},
   "outputs": [],
   "source": [
    "import json\n",
    "import lithops\n",
    "import os\n",
    "\n",
    "config_path = open(\"/home/jovyan/work/config.txt\")\n",
    "config_read = config_path.read()\n",
    "config = json.loads(config_read)"
   ]
  },
  {
   "cell_type": "code",
   "execution_count": 139,
   "metadata": {},
   "outputs": [],
   "source": [
    "def map_model(id,obj):\n",
    "    print('Bucket: {}'.format(obj.bucket))\n",
    "    print('Key: {}'.format(obj.key))\n",
    "    print('Partition num: {}'.format(obj.part))\n",
    "    \n",
    "    temporal_file = '/tmp/file_version0.txt'\n",
    "    \n",
    "    #create if it does not exist\n",
    "    if os.path.exists(temporal_file):\n",
    "        mode = 'a'\n",
    "    else:\n",
    "        mode = 'w'\n",
    "        \n",
    "    data = obj.data_stream.read() \n",
    "   \n",
    "    with open(temporal_file, mode) as file:\n",
    "        file.write('{}.'.format(id+1)) # escribo id, analogo a data\n",
    "\n",
    "    with open(temporal_file, 'r') as file:\n",
    "        info = file.read()\n",
    "        \n",
    "\n",
    "    return info"
   ]
  },
  {
   "cell_type": "code",
   "execution_count": 147,
   "metadata": {},
   "outputs": [
    {
     "name": "stdout",
     "output_type": "stream",
     "text": [
      "Lithops v2.2.5 init for IBM Cloud Functions - Namespace: new-us-east - Region: us_east\n",
      "ExecutorID 807936-86 | JobID M000 - Selected Runtime: mavsonnen/jdsampe:nogdal - 2048MB \n",
      "ExecutorID 807936-86 | JobID M000 - Uploading function and data - Total: 1.5KiB\n",
      "ExecutorID 807936-86 | JobID M000 - Starting function invocation: map_model() - Total: 3 activations\n",
      "ExecutorID 807936-86 - Getting results...\n"
     ]
    },
    {
     "data": {
      "application/vnd.jupyter.widget-view+json": {
       "model_id": "fd440bf89c704f88920aa8744deea604",
       "version_major": 2,
       "version_minor": 0
      },
      "text/plain": [
       "HBox(children=(HTML(value=''), FloatProgress(value=0.0, max=3.0), HTML(value='')))"
      ]
     },
     "metadata": {},
     "output_type": "display_data"
    },
    {
     "name": "stdout",
     "output_type": "stream",
     "text": [
      "\n"
     ]
    },
    {
     "data": {
      "text/plain": [
       "['1.1.2.3.2.1.2.1.', '3.2.1.2.1.2.3.2.', '2.3.3.1.3.3.1.3.']"
      ]
     },
     "execution_count": 147,
     "metadata": {},
     "output_type": "execute_result"
    }
   ],
   "source": [
    "iterdata = ['cos://testing-us-east/primero.txt',\n",
    "            'cos://testing-us-east/segundo.txt',\n",
    "            'cos://testing-us-east/tercero.txt']\n",
    "\n",
    "fexec = lithops.FunctionExecutor(config=config,runtime='mavsonnen/jdsampe:nogdal', runtime_memory=2048)\n",
    "fexec.map(map_model, iterdata)\n",
    "results = fexec.get_result()\n",
    "results"
   ]
  },
  {
   "cell_type": "code",
   "execution_count": null,
   "metadata": {},
   "outputs": [],
   "source": [
    "['1.', '2.', '3.']\n",
    "['1.1.', '3.2.', '2.3.']\n",
    "['3.2.1.', '1.1.2.', '2.3.3.']\n",
    "['2.3.3.1.', '3.2.1.2.', '1.1.2.3.']\n",
    "['3.2.1.2.1.', '1.1.2.3.2.', '2.3.3.1.3.']\n",
    "['1.1.2.3.2.1.', '3.2.1.2.1.2.', '2.3.3.1.3.3.']\n",
    "['2.3.3.1.3.3.1.', '1.1.2.3.2.1.2.', '3.2.1.2.1.2.3.']\n",
    "['1.1.2.3.2.1.2.1.', '3.2.1.2.1.2.3.2.', '2.3.3.1.3.3.1.3.']"
   ]
  }
 ],
 "metadata": {
  "kernelspec": {
   "display_name": "Python 3",
   "language": "python",
   "name": "python3"
  },
  "language_info": {
   "codemirror_mode": {
    "name": "ipython",
    "version": 3
   },
   "file_extension": ".py",
   "mimetype": "text/x-python",
   "name": "python",
   "nbconvert_exporter": "python",
   "pygments_lexer": "ipython3",
   "version": "3.8.6"
  }
 },
 "nbformat": 4,
 "nbformat_minor": 4
}
