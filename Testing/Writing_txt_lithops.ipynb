{
 "cells": [
  {
   "cell_type": "code",
   "execution_count": 67,
   "metadata": {},
   "outputs": [],
   "source": [
    "import json\n",
    "import lithops\n",
    "import os\n",
    "\n",
    "config_path = open(\"/home/jovyan/work/config.txt\")\n",
    "config_read = config_path.read()\n",
    "config = json.loads(config_read)"
   ]
  },
  {
   "cell_type": "code",
   "execution_count": 75,
   "metadata": {},
   "outputs": [
    {
     "name": "stdout",
     "output_type": "stream",
     "text": [
      "file created\n"
     ]
    }
   ],
   "source": [
    "temporal_file = '/tmp/fileeeeee1.txt'\n",
    "\n",
    "with open(temporal_file, 'w') as file:\n",
    "    print('file created') \n",
    "\n",
    "def map_model(obj):\n",
    "    print('Bucket: {}'.format(obj.bucket))\n",
    "    print('Key: {}'.format(obj.key))\n",
    "    print('Partition num: {}'.format(obj.part))\n",
    "    \n",
    "    #create if it does not exist\n",
    "    if os.path.exists(temporal_file):\n",
    "        mode = 'a'\n",
    "    else:\n",
    "        mode = 'w'\n",
    "        \n",
    "    data = obj.data_stream.read()   \n",
    "   \n",
    "    with open(temporal_file, mode) as file:\n",
    "        file.write(str(data))\n",
    "\n",
    "    with open(temporal_file, 'r') as file:\n",
    "        info = file.read()\n",
    "        \n",
    "\n",
    "    return info"
   ]
  },
  {
   "cell_type": "code",
   "execution_count": 78,
   "metadata": {},
   "outputs": [
    {
     "name": "stdout",
     "output_type": "stream",
     "text": [
      "Lithops v2.2.5 init for IBM Cloud Functions - Namespace: new-us-east - Region: us_east\n",
      "ExecutorID 807936-41 | JobID M000 - Selected Runtime: mavsonnen/jdsampe:nogdal - 2048MB \n",
      "ExecutorID 807936-41 | JobID M000 - Uploading function and data - Total: 1.5KiB\n",
      "ExecutorID 807936-41 | JobID M000 - Starting function invocation: map_model() - Total: 3 activations\n",
      "ExecutorID 807936-41 - Getting results...\n"
     ]
    },
    {
     "data": {
      "application/vnd.jupyter.widget-view+json": {
       "model_id": "53cd95ea504b434aa1f3c45269f04e3b",
       "version_major": 2,
       "version_minor": 0
      },
      "text/plain": [
       "HBox(children=(HTML(value=''), FloatProgress(value=0.0, max=3.0), HTML(value='')))"
      ]
     },
     "metadata": {},
     "output_type": "display_data"
    },
    {
     "name": "stdout",
     "output_type": "stream",
     "text": [
      "\n"
     ]
    },
    {
     "data": {
      "text/plain": [
       "[\"b'1a texto'b'2a texto'b'1a texto'\",\n",
       " \"b'3a texto\\\\r\\\\n3b texto'b'1a texto'b'2a texto'\",\n",
       " \"b'2a texto'b'3a texto\\\\r\\\\n3b texto'b'3a texto\\\\r\\\\n3b texto'\"]"
      ]
     },
     "execution_count": 78,
     "metadata": {},
     "output_type": "execute_result"
    }
   ],
   "source": [
    "iterdata = ['cos://testing-us-east/primero.txt',\n",
    "            'cos://testing-us-east/segundo.txt',\n",
    "            'cos://testing-us-east/tercero.txt']\n",
    "\n",
    "fexec = lithops.FunctionExecutor(config=config,runtime='mavsonnen/jdsampe:nogdal', runtime_memory=2048)\n",
    "fexec.map(map_model, iterdata)\n",
    "results = fexec.get_result()\n",
    "results"
   ]
  },
  {
   "cell_type": "code",
   "execution_count": null,
   "metadata": {},
   "outputs": [],
   "source": [
    "[\"b'1a texto'\", \n",
    " \"b'2a texto'\",\n",
    " \"b'3a texto\\\\r\\\\n3b texto'\"]\n",
    "\n",
    "[\"b'1a texto'b'1a texto'\",\n",
    " \"b'2a texto'\",\n",
    " \"b'2a texto'b'3a texto\\\\r\\\\n3b texto'\"]\n",
    "\n",
    "[\"b'3a texto\\\\r\\\\n3b texto'b'1a texto'\",\n",
    " \"b'1a texto'b'1a texto'b'2a texto'\",\n",
    " \"b'2a texto'b'3a texto\\\\r\\\\n3b texto'b'3a texto\\\\r\\\\n3b texto'\"]\n",
    "\n",
    "---------\n",
    "[\"b'1a texto'\", \n",
    " \"b'2a texto'\",\n",
    " \"b'3a texto\\\\r\\\\n3b texto'\"]\n",
    "\n",
    "[\"b'3a texto\\\\r\\\\n3b texto'b'1a texto'\",\n",
    " \"b'1a texto'b'2a texto'\",\n",
    " \"b'2a texto'b'3a texto\\\\r\\\\n3b texto'\"]\n",
    "\n",
    "[\"b'1a texto'b'2a texto'b'1a texto'\",\n",
    " \"b'3a texto\\\\r\\\\n3b texto'b'1a texto'b'2a texto'\",\n",
    " \"b'2a texto'b'3a texto\\\\r\\\\n3b texto'b'3a texto\\\\r\\\\n3b texto'\"]"
   ]
  }
 ],
 "metadata": {
  "kernelspec": {
   "display_name": "Python 3",
   "language": "python",
   "name": "python3"
  },
  "language_info": {
   "codemirror_mode": {
    "name": "ipython",
    "version": 3
   },
   "file_extension": ".py",
   "mimetype": "text/x-python",
   "name": "python",
   "nbconvert_exporter": "python",
   "pygments_lexer": "ipython3",
   "version": "3.8.6"
  }
 },
 "nbformat": 4,
 "nbformat_minor": 4
}
