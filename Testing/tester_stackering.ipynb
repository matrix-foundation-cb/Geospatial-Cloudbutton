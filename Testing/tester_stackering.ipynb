{
 "cells": [
  {
   "cell_type": "code",
   "execution_count": 1,
   "metadata": {},
   "outputs": [],
   "source": [
    "import json\n",
    "config_path = open(\"/home/jovyan/work/config.txt\")\n",
    "config_read = config_path.read()\n",
    "config = json.loads(config_read)"
   ]
  },
  {
   "cell_type": "code",
   "execution_count": 2,
   "metadata": {},
   "outputs": [],
   "source": [
    "import io\n",
    "import rasterio\n",
    "from rasterio.plot import reshape_as_image\n",
    "import joblib\n",
    "import numpy as np\n",
    "import warnings\n",
    "import matplotlib.pyplot as plt\n",
    "import numpy as np\n",
    "import lithops\n",
    "import pickle\n",
    "import os\n",
    "import glob\n",
    "import rasterio\n",
    "from rasterio.plot import reshape_as_image\n",
    "from rasterio.plot import show\n",
    "from datetime import datetime"
   ]
  },
  {
   "cell_type": "markdown",
   "metadata": {},
   "source": [
    "# Stackering Lithops | works | get_object, not datastream"
   ]
  },
  {
   "cell_type": "markdown",
   "metadata": {},
   "source": [
    "The input data is not relevant, in the begining of the function three raster images are open from IBM_COS, the process works successfully and the three bands are stacked."
   ]
  },
  {
   "cell_type": "code",
   "execution_count": 91,
   "metadata": {},
   "outputs": [],
   "source": [
    "iterdata  = [('cos://testing-stackering/valenciana_624000.0-4384000.0_comunidad_band3.tif',\n",
    "             'cos://testing-stackering/valenciana_624000.0-4384000.0_comunidad_band4.tif'),\n",
    "            ('cos://testing-stackering/valenciana_624000.0-4384000.0_comunidad_band3.tif',\n",
    "             'cos://testing-stackering/valenciana_624000.0-4384000.0_comunidad_band4.tif')]"
   ]
  },
  {
   "cell_type": "code",
   "execution_count": 100,
   "metadata": {},
   "outputs": [],
   "source": [
    "def map_stackering(b3, b4, ibm_cos):\n",
    "    bucket_name='testing-stackering'\n",
    "    \n",
    "    raster3 = ibm_cos.get_object(Bucket='testing-stackering', Key='valenciana_624000.0-4384000.0_comunidad_band3.tif')['Body']\n",
    "    raster4 = ibm_cos.get_object(Bucket='testing-stackering', Key='valenciana_624000.0-4384000.0_comunidad_band4.tif')['Body']\n",
    "    raster8 = ibm_cos.get_object(Bucket='testing-stackering', Key='valenciana_624000.0-4384000.0_comunidad_band8.tif')['Body']\n",
    "\n",
    "\n",
    "    with rasterio.open(raster3) as src3:\n",
    "        with rasterio.open(raster4) as src4:\n",
    "            with rasterio.open(raster8) as src8:\n",
    "                \n",
    "                trueColor = rasterio.open(f'/tmp/raster_stackering.tif','w',driver='Gtiff',\n",
    "                                 width=src3.width, height=src3.height,\n",
    "                                 count=3,\n",
    "                                 crs=src3.crs,\n",
    "                                 transform=src3.transform,\n",
    "                                 dtype=src3.dtypes[0]\n",
    "                                 )\n",
    "                \n",
    "                trueColor.write(src3.read(1),3) #blue\n",
    "                trueColor.write(src4.read(1),2) #green\n",
    "                trueColor.write(src8.read(1),1) #red\n",
    "                \n",
    "                trueColor.close()\n",
    "        \n",
    "    #putKey = 'raster_stackering_'+ datetime.now().strftime(\"%m%d%Y%H%M%S\")+'.tif'\n",
    "    #with open(f'/tmp/raster_stackering.tif', 'rb') as file:\n",
    "    #    ibm_cos.put_object(Bucket=bucket_name, Key=putKey, Body=file)\n",
    "    \n",
    "    with rasterio.open(f'/tmp/raster_stackering.tif') as raster:\n",
    "        w=raster.read()\n",
    "\n",
    "    return w"
   ]
  },
  {
   "cell_type": "code",
   "execution_count": 101,
   "metadata": {},
   "outputs": [
    {
     "name": "stdout",
     "output_type": "stream",
     "text": [
      "Lithops v2.2.5 init for IBM Cloud Functions - Namespace: new-us-east - Region: us_east\n",
      "ExecutorID 60aa69-21 | JobID M000 - Selected Runtime: mavsonnen/jdsampe:nogdal - 2048MB \n",
      "ExecutorID 60aa69-21 | JobID M000 - Uploading function and data - Total: 1.8KiB\n",
      "ExecutorID 60aa69-21 | JobID M000 - Starting function invocation: map_stackering() - Total: 2 activations\n",
      "ExecutorID 60aa69-21 - Getting results...\n"
     ]
    },
    {
     "data": {
      "application/vnd.jupyter.widget-view+json": {
       "model_id": "77e4e0c4753d405b88f3a0382520ff15",
       "version_major": 2,
       "version_minor": 0
      },
      "text/plain": [
       "HBox(children=(HTML(value=''), FloatProgress(value=0.0, max=2.0), HTML(value='')))"
      ]
     },
     "metadata": {},
     "output_type": "display_data"
    },
    {
     "name": "stdout",
     "output_type": "stream",
     "text": [
      "\n"
     ]
    }
   ],
   "source": [
    "if __name__ == \"__main__\":\n",
    "    # For Python 3.7 use mavsonnen/lithops-py37:latest + For Python 3.7 use mavsonnen/jdsampe:nogdal\n",
    "    fexec = lithops.FunctionExecutor(config=config,runtime='mavsonnen/jdsampe:nogdal', runtime_memory=2048)\n",
    "    fexec.map(map_stackering, iterdata)\n",
    "    results = fexec.get_result()"
   ]
  },
  {
   "cell_type": "code",
   "execution_count": 102,
   "metadata": {},
   "outputs": [
    {
     "data": {
      "text/plain": [
       "[array([[[   0,    0,    0, ..., 2517, 2508, 2491],\n",
       "         [   0,    0,    0, ..., 2518, 2511, 2512],\n",
       "         [   0,    0,    0, ..., 2574, 2525, 2496],\n",
       "         ...,\n",
       "         [   0,    0,    0, ..., 3170, 3221, 3022],\n",
       "         [   0,    0,    0, ..., 3106, 3037, 2940],\n",
       "         [   0,    0,    0, ..., 2965, 3105, 3166]],\n",
       " \n",
       "        [[   0,    0,    0, ..., 1428, 1424, 1442],\n",
       "         [   0,    0,    0, ..., 1388, 1392, 1411],\n",
       "         [   0,    0,    0, ..., 1595, 1539, 1359],\n",
       "         ...,\n",
       "         [   0,    0,    0, ..., 2133, 2216, 2082],\n",
       "         [   0,    0,    0, ..., 2164, 2130, 2088],\n",
       "         [   0,    0,    0, ..., 2069, 2202, 2217]],\n",
       " \n",
       "        [[   0,    0,    0, ...,  863,  831,  865],\n",
       "         [   0,    0,    0, ...,  859,  827,  844],\n",
       "         [   0,    0,    0, ...,  954,  897,  793],\n",
       "         ...,\n",
       "         [   0,    0,    0, ..., 1496, 1552, 1435],\n",
       "         [   0,    0,    0, ..., 1443, 1473, 1425],\n",
       "         [   0,    0,    0, ..., 1432, 1511, 1524]]], dtype=int16),\n",
       " array([[[   0,    0,    0, ..., 2517, 2508, 2491],\n",
       "         [   0,    0,    0, ..., 2518, 2511, 2512],\n",
       "         [   0,    0,    0, ..., 2574, 2525, 2496],\n",
       "         ...,\n",
       "         [   0,    0,    0, ..., 3170, 3221, 3022],\n",
       "         [   0,    0,    0, ..., 3106, 3037, 2940],\n",
       "         [   0,    0,    0, ..., 2965, 3105, 3166]],\n",
       " \n",
       "        [[   0,    0,    0, ..., 1428, 1424, 1442],\n",
       "         [   0,    0,    0, ..., 1388, 1392, 1411],\n",
       "         [   0,    0,    0, ..., 1595, 1539, 1359],\n",
       "         ...,\n",
       "         [   0,    0,    0, ..., 2133, 2216, 2082],\n",
       "         [   0,    0,    0, ..., 2164, 2130, 2088],\n",
       "         [   0,    0,    0, ..., 2069, 2202, 2217]],\n",
       " \n",
       "        [[   0,    0,    0, ...,  863,  831,  865],\n",
       "         [   0,    0,    0, ...,  859,  827,  844],\n",
       "         [   0,    0,    0, ...,  954,  897,  793],\n",
       "         ...,\n",
       "         [   0,    0,    0, ..., 1496, 1552, 1435],\n",
       "         [   0,    0,    0, ..., 1443, 1473, 1425],\n",
       "         [   0,    0,    0, ..., 1432, 1511, 1524]]], dtype=int16)]"
      ]
     },
     "execution_count": 102,
     "metadata": {},
     "output_type": "execute_result"
    }
   ],
   "source": [
    "results"
   ]
  },
  {
   "cell_type": "markdown",
   "metadata": {},
   "source": [
    "# Stakering Lithops | NOT work | obj.data_stream"
   ]
  },
  {
   "cell_type": "markdown",
   "metadata": {},
   "source": [
    "Tratando de leer los archivos de un bucket de ibm_cos me está dando un problemilla la creación del archivo temporal. Si no inicio el archivo temporal con 'w' o 'w+' evidentemente no existe, pero en algun momento tengo que poner 'r+' para que no se cree siempre de nuevo y elimine lo guardado en el mismo. \n",
    "\n",
    "Un if con la condición de si existe el archivo temporal, así la primera vez se creará y las siguiente se sobreescribirá. Al tratarse en paralelo me genera confusión que todos las funciones se ejecuten a la vez y todas interpreten que no existe dicho archivo, escribiendo siempre uno nuevo cada uno de ellas."
   ]
  },
  {
   "cell_type": "code",
   "execution_count": 5,
   "metadata": {},
   "outputs": [],
   "source": [
    "data_location  = 'cos://testing-stackering'"
   ]
  },
  {
   "cell_type": "code",
   "execution_count": 36,
   "metadata": {},
   "outputs": [
    {
     "name": "stdout",
     "output_type": "stream",
     "text": [
      "Lithops v2.2.5 init for IBM Cloud Functions - Namespace: new-us-east - Region: us_east\n",
      "ExecutorID b5d6f1-12 | JobID M000 - Selected Runtime: mavsonnen/jdsampe:nogdal - 2048MB \n",
      "ExecutorID b5d6f1-12 | JobID M000 - Uploading function and data - Total: 2.1KiB\n",
      "ExecutorID b5d6f1-12 | JobID M000 - Starting function invocation: stackering_logic() - Total: 3 activations\n",
      "ExecutorID b5d6f1-12 - Getting results...\n"
     ]
    },
    {
     "data": {
      "application/vnd.jupyter.widget-view+json": {
       "model_id": "db2633d1be1d4dbeb6194af1905e9793",
       "version_major": 2,
       "version_minor": 0
      },
      "text/plain": [
       "HBox(children=(HTML(value=''), FloatProgress(value=0.0, max=3.0), HTML(value='')))"
      ]
     },
     "metadata": {},
     "output_type": "display_data"
    },
    {
     "name": "stdout",
     "output_type": "stream",
     "text": [
      "\n"
     ]
    },
    {
     "data": {
      "text/plain": [
       "[['w',\n",
       "  array([[[   0,    0,    0, ...,    0,    0,    0],\n",
       "          [   0,    0,    0, ...,    0,    0,    0],\n",
       "          [   0,    0,    0, ...,    0,    0,    0],\n",
       "          ...,\n",
       "          [   0,    0,    0, ...,    0,    0,    0],\n",
       "          [   0,    0,    0, ...,    0,    0,    0],\n",
       "          [   0,    0,    0, ...,    0,    0,    0]],\n",
       "  \n",
       "         [[   0,    0,    0, ...,    0,    0,    0],\n",
       "          [   0,    0,    0, ...,    0,    0,    0],\n",
       "          [   0,    0,    0, ...,    0,    0,    0],\n",
       "          ...,\n",
       "          [   0,    0,    0, ...,    0,    0,    0],\n",
       "          [   0,    0,    0, ...,    0,    0,    0],\n",
       "          [   0,    0,    0, ...,    0,    0,    0]],\n",
       "  \n",
       "         [[   0,    0,    0, ...,  863,  831,  865],\n",
       "          [   0,    0,    0, ...,  859,  827,  844],\n",
       "          [   0,    0,    0, ...,  954,  897,  793],\n",
       "          ...,\n",
       "          [   0,    0,    0, ..., 1496, 1552, 1435],\n",
       "          [   0,    0,    0, ..., 1443, 1473, 1425],\n",
       "          [   0,    0,    0, ..., 1432, 1511, 1524]]], dtype=int16)],\n",
       " ['w',\n",
       "  array([[[   0,    0,    0, ...,    0,    0,    0],\n",
       "          [   0,    0,    0, ...,    0,    0,    0],\n",
       "          [   0,    0,    0, ...,    0,    0,    0],\n",
       "          ...,\n",
       "          [   0,    0,    0, ...,    0,    0,    0],\n",
       "          [   0,    0,    0, ...,    0,    0,    0],\n",
       "          [   0,    0,    0, ...,    0,    0,    0]],\n",
       "  \n",
       "         [[   0,    0,    0, ..., 1428, 1424, 1442],\n",
       "          [   0,    0,    0, ..., 1388, 1392, 1411],\n",
       "          [   0,    0,    0, ..., 1595, 1539, 1359],\n",
       "          ...,\n",
       "          [   0,    0,    0, ..., 2133, 2216, 2082],\n",
       "          [   0,    0,    0, ..., 2164, 2130, 2088],\n",
       "          [   0,    0,    0, ..., 2069, 2202, 2217]],\n",
       "  \n",
       "         [[   0,    0,    0, ...,    0,    0,    0],\n",
       "          [   0,    0,    0, ...,    0,    0,    0],\n",
       "          [   0,    0,    0, ...,    0,    0,    0],\n",
       "          ...,\n",
       "          [   0,    0,    0, ...,    0,    0,    0],\n",
       "          [   0,    0,    0, ...,    0,    0,    0],\n",
       "          [   0,    0,    0, ...,    0,    0,    0]]], dtype=int16)],\n",
       " ['w',\n",
       "  array([[[   0,    0,    0, ..., 2517, 2508, 2491],\n",
       "          [   0,    0,    0, ..., 2518, 2511, 2512],\n",
       "          [   0,    0,    0, ..., 2574, 2525, 2496],\n",
       "          ...,\n",
       "          [   0,    0,    0, ..., 3170, 3221, 3022],\n",
       "          [   0,    0,    0, ..., 3106, 3037, 2940],\n",
       "          [   0,    0,    0, ..., 2965, 3105, 3166]],\n",
       "  \n",
       "         [[   0,    0,    0, ...,    0,    0,    0],\n",
       "          [   0,    0,    0, ...,    0,    0,    0],\n",
       "          [   0,    0,    0, ...,    0,    0,    0],\n",
       "          ...,\n",
       "          [   0,    0,    0, ...,    0,    0,    0],\n",
       "          [   0,    0,    0, ...,    0,    0,    0],\n",
       "          [   0,    0,    0, ...,    0,    0,    0]],\n",
       "  \n",
       "         [[   0,    0,    0, ...,    0,    0,    0],\n",
       "          [   0,    0,    0, ...,    0,    0,    0],\n",
       "          [   0,    0,    0, ...,    0,    0,    0],\n",
       "          ...,\n",
       "          [   0,    0,    0, ...,    0,    0,    0],\n",
       "          [   0,    0,    0, ...,    0,    0,    0],\n",
       "          [   0,    0,    0, ...,    0,    0,    0]]], dtype=int16)]]"
      ]
     },
     "execution_count": 36,
     "metadata": {},
     "output_type": "execute_result"
    },
    {
     "name": "stderr",
     "output_type": "stream",
     "text": [
      "Exception in thread Thread-26:\n",
      "Traceback (most recent call last):\n",
      "  File \"/opt/conda/lib/python3.8/site-packages/lithops/wait/wait_storage.py\", line 281, in _future_timeout_checker\n",
      "    raise TimeoutError('HANDLER', msg)\n",
      "TimeoutError: [Errno HANDLER] The function did not run as expected.\n",
      "\n",
      "During handling of the above exception, another exception occurred:\n",
      "\n",
      "Traceback (most recent call last):\n",
      "  File \"/opt/conda/lib/python3.8/threading.py\", line 932, in _bootstrap_inner\n",
      "    self.run()\n",
      "  File \"/opt/conda/lib/python3.8/threading.py\", line 870, in run\n",
      "    self._target(*self._args, **self._kwargs)\n",
      "  File \"/opt/conda/lib/python3.8/site-packages/lithops/wait/wait_storage.py\", line 290, in _future_timeout_checker\n",
      "    pickled_exception = str(pickle.dumps(sys.exc_info()))\n",
      "TypeError: cannot pickle 'traceback' object\n"
     ]
    }
   ],
   "source": [
    "def stackering_logic(obj, ibm_cos):\n",
    "    print('I am processing the object cos://{}/{}'.format(obj.bucket, obj.key))\n",
    "\n",
    "    numberfield=obj.key.split(\"_\")[1]\n",
    "    numberband=obj.key.split(\"_\")[3].split(\".\")[0]\n",
    "    \n",
    "    \n",
    "    temporal_file = '/tmp/fa.tif'\n",
    "\n",
    "    var = os.path.exists(temporal_file)\n",
    "    \n",
    "    if obj.key!= 'avalenciana_624000.0-4384000.0_comunidad_band3.tif':\n",
    "        mode = 'w'\n",
    "    else:\n",
    "        mode = 'r+'\n",
    "            \n",
    "    with rasterio.open(obj.data_stream) as src:   \n",
    "        with rasterio.open(temporal_file, mode, driver='Gtiff',\n",
    "                         width=src.width, height=src.height,\n",
    "                         count=3,\n",
    "                         crs=src.crs,\n",
    "                         transform=src.transform,\n",
    "                         dtype=src.dtypes[0]\n",
    "                         ) as trueColor:\n",
    "            \n",
    "            if numberband == \"band3\":\n",
    "                trueColor.write(src.read(1),3) #blue\n",
    "            elif numberband == \"band4\":\n",
    "                trueColor.write(src.read(1),2) #green\n",
    "            elif numberband == \"band8\":\n",
    "                trueColor.write(src.read(1),1) #red\n",
    "    \n",
    "    with rasterio.open(temporal_file) as raster:\n",
    "        w = raster.read() #w[0]\n",
    "    \n",
    "    return [mode,w]\n",
    "\n",
    "fexec = lithops.FunctionExecutor(config=config, runtime='mavsonnen/jdsampe:nogdal', runtime_memory=2048)\n",
    "fexec.map(stackering_logic, data_location)\n",
    "results = fexec.get_result()\n",
    "results"
   ]
  },
  {
   "cell_type": "markdown",
   "metadata": {},
   "source": [
    "## v1"
   ]
  },
  {
   "cell_type": "code",
   "execution_count": 8,
   "metadata": {},
   "outputs": [
    {
     "name": "stdout",
     "output_type": "stream",
     "text": [
      "Lithops v2.2.5 init for IBM Cloud Functions - Namespace: new-us-east - Region: us_east\n",
      "ExecutorID b5d6f1-3 | JobID M000 - Selected Runtime: mavsonnen/jdsampe:nogdal - 2048MB \n",
      "ExecutorID b5d6f1-3 | JobID M000 - Uploading function and data - Total: 2.0KiB\n",
      "ExecutorID b5d6f1-3 | JobID M000 - Starting function invocation: stackering_logic() - Total: 3 activations\n",
      "ExecutorID b5d6f1-3 - Getting results...\n"
     ]
    },
    {
     "data": {
      "application/vnd.jupyter.widget-view+json": {
       "model_id": "97513545aed445eca3eb76f5933574b9",
       "version_major": 2,
       "version_minor": 0
      },
      "text/plain": [
       "HBox(children=(HTML(value=''), FloatProgress(value=0.0, max=3.0), HTML(value='')))"
      ]
     },
     "metadata": {},
     "output_type": "display_data"
    },
    {
     "name": "stdout",
     "output_type": "stream",
     "text": [
      "\n"
     ]
    },
    {
     "data": {
      "text/plain": [
       "[['r+',\n",
       "  array([[[   0,    0,    0, ...,    0,    0,    0],\n",
       "          [   0,    0,    0, ...,    0,    0,    0],\n",
       "          [   0,    0,    0, ...,    0,    0,    0],\n",
       "          ...,\n",
       "          [   0,    0,    0, ...,    0,    0,    0],\n",
       "          [   0,    0,    0, ...,    0,    0,    0],\n",
       "          [   0,    0,    0, ...,    0,    0,    0]],\n",
       "  \n",
       "         [[   0,    0,    0, ..., 1428, 1424, 1442],\n",
       "          [   0,    0,    0, ..., 1388, 1392, 1411],\n",
       "          [   0,    0,    0, ..., 1595, 1539, 1359],\n",
       "          ...,\n",
       "          [   0,    0,    0, ..., 2133, 2216, 2082],\n",
       "          [   0,    0,    0, ..., 2164, 2130, 2088],\n",
       "          [   0,    0,    0, ..., 2069, 2202, 2217]],\n",
       "  \n",
       "         [[   0,    0,    0, ...,  863,  831,  865],\n",
       "          [   0,    0,    0, ...,  859,  827,  844],\n",
       "          [   0,    0,    0, ...,  954,  897,  793],\n",
       "          ...,\n",
       "          [   0,    0,    0, ..., 1496, 1552, 1435],\n",
       "          [   0,    0,    0, ..., 1443, 1473, 1425],\n",
       "          [   0,    0,    0, ..., 1432, 1511, 1524]]], dtype=int16)],\n",
       " ['r+',\n",
       "  array([[[   0,    0,    0, ..., 2517, 2508, 2491],\n",
       "          [   0,    0,    0, ..., 2518, 2511, 2512],\n",
       "          [   0,    0,    0, ..., 2574, 2525, 2496],\n",
       "          ...,\n",
       "          [   0,    0,    0, ..., 3170, 3221, 3022],\n",
       "          [   0,    0,    0, ..., 3106, 3037, 2940],\n",
       "          [   0,    0,    0, ..., 2965, 3105, 3166]],\n",
       "  \n",
       "         [[   0,    0,    0, ..., 1428, 1424, 1442],\n",
       "          [   0,    0,    0, ..., 1388, 1392, 1411],\n",
       "          [   0,    0,    0, ..., 1595, 1539, 1359],\n",
       "          ...,\n",
       "          [   0,    0,    0, ..., 2133, 2216, 2082],\n",
       "          [   0,    0,    0, ..., 2164, 2130, 2088],\n",
       "          [   0,    0,    0, ..., 2069, 2202, 2217]],\n",
       "  \n",
       "         [[   0,    0,    0, ...,    0,    0,    0],\n",
       "          [   0,    0,    0, ...,    0,    0,    0],\n",
       "          [   0,    0,    0, ...,    0,    0,    0],\n",
       "          ...,\n",
       "          [   0,    0,    0, ...,    0,    0,    0],\n",
       "          [   0,    0,    0, ...,    0,    0,    0],\n",
       "          [   0,    0,    0, ...,    0,    0,    0]]], dtype=int16)],\n",
       " ['r+',\n",
       "  array([[[   0,    0,    0, ..., 2517, 2508, 2491],\n",
       "          [   0,    0,    0, ..., 2518, 2511, 2512],\n",
       "          [   0,    0,    0, ..., 2574, 2525, 2496],\n",
       "          ...,\n",
       "          [   0,    0,    0, ..., 3170, 3221, 3022],\n",
       "          [   0,    0,    0, ..., 3106, 3037, 2940],\n",
       "          [   0,    0,    0, ..., 2965, 3105, 3166]],\n",
       "  \n",
       "         [[   0,    0,    0, ...,    0,    0,    0],\n",
       "          [   0,    0,    0, ...,    0,    0,    0],\n",
       "          [   0,    0,    0, ...,    0,    0,    0],\n",
       "          ...,\n",
       "          [   0,    0,    0, ...,    0,    0,    0],\n",
       "          [   0,    0,    0, ...,    0,    0,    0],\n",
       "          [   0,    0,    0, ...,    0,    0,    0]],\n",
       "  \n",
       "         [[   0,    0,    0, ...,  863,  831,  865],\n",
       "          [   0,    0,    0, ...,  859,  827,  844],\n",
       "          [   0,    0,    0, ...,  954,  897,  793],\n",
       "          ...,\n",
       "          [   0,    0,    0, ..., 1496, 1552, 1435],\n",
       "          [   0,    0,    0, ..., 1443, 1473, 1425],\n",
       "          [   0,    0,    0, ..., 1432, 1511, 1524]]], dtype=int16)]]"
      ]
     },
     "execution_count": 8,
     "metadata": {},
     "output_type": "execute_result"
    }
   ],
   "source": [
    "def stackering_logic(obj, ibm_cos):\n",
    "    print('I am processing the object cos://{}/{}'.format(obj.bucket, obj.key))\n",
    "\n",
    "    numberfield=obj.key.split(\"_\")[1]\n",
    "    numberband=obj.key.split(\"_\")[3].split(\".\")[0]\n",
    "    \n",
    "    \n",
    "    temporal_file = '/tmp/f.tif'\n",
    "\n",
    "    var = os.path.exists(temporal_file)\n",
    "    \n",
    "    if var:\n",
    "        mode = 'r+'\n",
    "    else:\n",
    "        mode = 'w'\n",
    "            \n",
    "    with rasterio.open(obj.data_stream) as src:   \n",
    "        with rasterio.open(temporal_file, mode, driver='Gtiff',\n",
    "                         width=src.width, height=src.height,\n",
    "                         count=3,\n",
    "                         crs=src.crs,\n",
    "                         transform=src.transform,\n",
    "                         dtype=src.dtypes[0]\n",
    "                         ) as trueColor:\n",
    "            \n",
    "            if numberband == \"band3\":\n",
    "                trueColor.write(src.read(1),3) #blue\n",
    "            elif numberband == \"band4\":\n",
    "                trueColor.write(src.read(1),2) #green\n",
    "            elif numberband == \"band8\":\n",
    "                trueColor.write(src.read(1),1) #red\n",
    "    \n",
    "    with rasterio.open(temporal_file) as raster:\n",
    "        w = raster.read() #w[0]\n",
    "    \n",
    "    return [mode,w]\n",
    "\n",
    "fexec = lithops.FunctionExecutor(config=config, runtime='mavsonnen/jdsampe:nogdal', runtime_memory=2048)\n",
    "fexec.map(stackering_logic, data_location)\n",
    "results = fexec.get_result()\n",
    "results"
   ]
  },
  {
   "cell_type": "markdown",
   "metadata": {},
   "source": [
    "## v2"
   ]
  },
  {
   "cell_type": "markdown",
   "metadata": {},
   "source": [
    "Creating the file outside the map function , it is said: no such file or directory. If its inside it reconogice the file."
   ]
  },
  {
   "cell_type": "code",
   "execution_count": 31,
   "metadata": {},
   "outputs": [
    {
     "name": "stdout",
     "output_type": "stream",
     "text": [
      "creado\n"
     ]
    }
   ],
   "source": [
    "temporal_file = '/tmp/def_file_stack2.tif'\n",
    "temporal_file = '/home/jovyan/work/Training_stuff/Exp_txt/ha.tif'\n",
    "\n",
    "\n",
    "with rasterio.open('/home/jovyan/work/Training_stuff/Exp_stack/valenciana_624000.0-4384000.0_comunidad_band3.tif') as src:\n",
    "    meta=src.meta\n",
    "    meta.update(count = 3)\n",
    "    \n",
    "with rasterio.open(temporal_file, 'w+', **meta) as data:\n",
    "    print('creado')"
   ]
  },
  {
   "cell_type": "code",
   "execution_count": 32,
   "metadata": {},
   "outputs": [
    {
     "name": "stdout",
     "output_type": "stream",
     "text": [
      "Lithops v2.2.5 init for IBM Cloud Functions - Namespace: new-us-east - Region: us_east\n",
      "ExecutorID b5d6f1-9 | JobID M000 - Selected Runtime: mavsonnen/jdsampe:nogdal - 2048MB \n",
      "ExecutorID b5d6f1-9 | JobID M000 - Uploading function and data - Total: 1.8KiB\n",
      "ExecutorID b5d6f1-9 | JobID M000 - Starting function invocation: stackering_logic() - Total: 3 activations\n",
      "ExecutorID b5d6f1-9 - Getting results...\n"
     ]
    },
    {
     "data": {
      "application/vnd.jupyter.widget-view+json": {
       "model_id": "4e76e50adb9c4f068b6366e9c162685b",
       "version_major": 2,
       "version_minor": 0
      },
      "text/plain": [
       "HBox(children=(HTML(value=''), FloatProgress(value=0.0, max=3.0), HTML(value='')))"
      ]
     },
     "metadata": {},
     "output_type": "display_data"
    },
    {
     "name": "stdout",
     "output_type": "stream",
     "text": [
      "\n"
     ]
    },
    {
     "ename": "TypeError",
     "evalue": "/home/jovyan/work/Training_stuff/Exp_txt/ha.tif: No such file or directory",
     "output_type": "error",
     "traceback": [
      "\u001b[0;31m---------------------------------------------------------------------------\u001b[0m",
      "\u001b[0;31mTypeError\u001b[0m                                 Traceback (most recent call last)",
      "\u001b[0;32m<ipython-input-32-cee452e2caeb>\u001b[0m in \u001b[0;36m<module>\u001b[0;34m\u001b[0m\n\u001b[1;32m     22\u001b[0m \u001b[0mfexec\u001b[0m \u001b[0;34m=\u001b[0m \u001b[0mlithops\u001b[0m\u001b[0;34m.\u001b[0m\u001b[0mFunctionExecutor\u001b[0m\u001b[0;34m(\u001b[0m\u001b[0mconfig\u001b[0m\u001b[0;34m=\u001b[0m\u001b[0mconfig\u001b[0m\u001b[0;34m,\u001b[0m \u001b[0mruntime\u001b[0m\u001b[0;34m=\u001b[0m\u001b[0;34m'mavsonnen/jdsampe:nogdal'\u001b[0m\u001b[0;34m,\u001b[0m \u001b[0mruntime_memory\u001b[0m\u001b[0;34m=\u001b[0m\u001b[0;36m2048\u001b[0m\u001b[0;34m)\u001b[0m\u001b[0;34m\u001b[0m\u001b[0;34m\u001b[0m\u001b[0m\n\u001b[1;32m     23\u001b[0m \u001b[0mfexec\u001b[0m\u001b[0;34m.\u001b[0m\u001b[0mmap\u001b[0m\u001b[0;34m(\u001b[0m\u001b[0mstackering_logic\u001b[0m\u001b[0;34m,\u001b[0m \u001b[0mdata_location\u001b[0m\u001b[0;34m)\u001b[0m\u001b[0;34m\u001b[0m\u001b[0;34m\u001b[0m\u001b[0m\n\u001b[0;32m---> 24\u001b[0;31m \u001b[0mresults\u001b[0m \u001b[0;34m=\u001b[0m \u001b[0mfexec\u001b[0m\u001b[0;34m.\u001b[0m\u001b[0mget_result\u001b[0m\u001b[0;34m(\u001b[0m\u001b[0;34m)\u001b[0m\u001b[0;34m\u001b[0m\u001b[0;34m\u001b[0m\u001b[0m\n\u001b[0m\u001b[1;32m     25\u001b[0m \u001b[0mresults\u001b[0m\u001b[0;34m\u001b[0m\u001b[0;34m\u001b[0m\u001b[0m\n",
      "\u001b[0;32m/opt/conda/lib/python3.8/site-packages/lithops/executors.py\u001b[0m in \u001b[0;36mget_result\u001b[0;34m(self, fs, throw_except, timeout, THREADPOOL_SIZE, WAIT_DUR_SEC)\u001b[0m\n\u001b[1;32m    460\u001b[0m         \u001b[0;34m:\u001b[0m\u001b[0;32mreturn\u001b[0m\u001b[0;34m:\u001b[0m \u001b[0mThe\u001b[0m \u001b[0mresult\u001b[0m \u001b[0mof\u001b[0m \u001b[0mthe\u001b[0m \u001b[0mfuture\u001b[0m\u001b[0;34m/\u001b[0m\u001b[0ms\u001b[0m\u001b[0;34m\u001b[0m\u001b[0;34m\u001b[0m\u001b[0m\n\u001b[1;32m    461\u001b[0m         \"\"\"\n\u001b[0;32m--> 462\u001b[0;31m         fs_done, _ = self.wait(fs=fs, throw_except=throw_except,\n\u001b[0m\u001b[1;32m    463\u001b[0m                                \u001b[0mtimeout\u001b[0m\u001b[0;34m=\u001b[0m\u001b[0mtimeout\u001b[0m\u001b[0;34m,\u001b[0m \u001b[0mdownload_results\u001b[0m\u001b[0;34m=\u001b[0m\u001b[0;32mTrue\u001b[0m\u001b[0;34m,\u001b[0m\u001b[0;34m\u001b[0m\u001b[0;34m\u001b[0m\u001b[0m\n\u001b[1;32m    464\u001b[0m                                \u001b[0mTHREADPOOL_SIZE\u001b[0m\u001b[0;34m=\u001b[0m\u001b[0mTHREADPOOL_SIZE\u001b[0m\u001b[0;34m,\u001b[0m\u001b[0;34m\u001b[0m\u001b[0;34m\u001b[0m\u001b[0m\n",
      "\u001b[0;32m/opt/conda/lib/python3.8/site-packages/lithops/executors.py\u001b[0m in \u001b[0;36mwait\u001b[0;34m(self, fs, throw_except, return_when, download_results, timeout, THREADPOOL_SIZE, WAIT_DUR_SEC)\u001b[0m\n\u001b[1;32m    422\u001b[0m         \u001b[0;32mexcept\u001b[0m \u001b[0mException\u001b[0m \u001b[0;32mas\u001b[0m \u001b[0me\u001b[0m\u001b[0;34m:\u001b[0m\u001b[0;34m\u001b[0m\u001b[0;34m\u001b[0m\u001b[0m\n\u001b[1;32m    423\u001b[0m             \u001b[0merror\u001b[0m \u001b[0;34m=\u001b[0m \u001b[0;32mTrue\u001b[0m\u001b[0;34m\u001b[0m\u001b[0;34m\u001b[0m\u001b[0m\n\u001b[0;32m--> 424\u001b[0;31m             \u001b[0;32mraise\u001b[0m \u001b[0me\u001b[0m\u001b[0;34m\u001b[0m\u001b[0;34m\u001b[0m\u001b[0m\n\u001b[0m\u001b[1;32m    425\u001b[0m \u001b[0;34m\u001b[0m\u001b[0m\n\u001b[1;32m    426\u001b[0m         \u001b[0;32mfinally\u001b[0m\u001b[0;34m:\u001b[0m\u001b[0;34m\u001b[0m\u001b[0;34m\u001b[0m\u001b[0m\n",
      "\u001b[0;32m/opt/conda/lib/python3.8/site-packages/lithops/executors.py\u001b[0m in \u001b[0;36mwait\u001b[0;34m(self, fs, throw_except, return_when, download_results, timeout, THREADPOOL_SIZE, WAIT_DUR_SEC)\u001b[0m\n\u001b[1;32m    400\u001b[0m                               pbar=pbar, return_when=return_when, THREADPOOL_SIZE=THREADPOOL_SIZE)\n\u001b[1;32m    401\u001b[0m             \u001b[0;32melse\u001b[0m\u001b[0;34m:\u001b[0m\u001b[0;34m\u001b[0m\u001b[0;34m\u001b[0m\u001b[0m\n\u001b[0;32m--> 402\u001b[0;31m                 wait_storage(futures, self.internal_storage, download_results=download_results,\n\u001b[0m\u001b[1;32m    403\u001b[0m                              \u001b[0mthrow_except\u001b[0m\u001b[0;34m=\u001b[0m\u001b[0mthrow_except\u001b[0m\u001b[0;34m,\u001b[0m \u001b[0mreturn_when\u001b[0m\u001b[0;34m=\u001b[0m\u001b[0mreturn_when\u001b[0m\u001b[0;34m,\u001b[0m \u001b[0mpbar\u001b[0m\u001b[0;34m=\u001b[0m\u001b[0mpbar\u001b[0m\u001b[0;34m,\u001b[0m\u001b[0;34m\u001b[0m\u001b[0;34m\u001b[0m\u001b[0m\n\u001b[1;32m    404\u001b[0m                              THREADPOOL_SIZE=THREADPOOL_SIZE, WAIT_DUR_SEC=WAIT_DUR_SEC)\n",
      "\u001b[0;32m/opt/conda/lib/python3.8/site-packages/lithops/wait/wait_storage.py\u001b[0m in \u001b[0;36mwait_storage\u001b[0;34m(fs, internal_storage, download_results, throw_except, pbar, return_when, THREADPOOL_SIZE, WAIT_DUR_SEC)\u001b[0m\n\u001b[1;32m     77\u001b[0m \u001b[0;34m\u001b[0m\u001b[0m\n\u001b[1;32m     78\u001b[0m         \u001b[0;32mwhile\u001b[0m \u001b[0mresult_count\u001b[0m \u001b[0;34m<\u001b[0m \u001b[0mN\u001b[0m\u001b[0;34m:\u001b[0m\u001b[0;34m\u001b[0m\u001b[0;34m\u001b[0m\u001b[0m\n\u001b[0;32m---> 79\u001b[0;31m             fs_dones, fs_notdones = _wait_storage(fs,\n\u001b[0m\u001b[1;32m     80\u001b[0m                                                   \u001b[0mrunning_futures\u001b[0m\u001b[0;34m,\u001b[0m\u001b[0;34m\u001b[0m\u001b[0;34m\u001b[0m\u001b[0m\n\u001b[1;32m     81\u001b[0m                                                   \u001b[0minternal_storage\u001b[0m\u001b[0;34m,\u001b[0m\u001b[0;34m\u001b[0m\u001b[0;34m\u001b[0m\u001b[0m\n",
      "\u001b[0;32m/opt/conda/lib/python3.8/site-packages/lithops/wait/wait_storage.py\u001b[0m in \u001b[0;36m_wait_storage\u001b[0;34m(fs, running_futures, internal_storage, download_results, throw_except, return_early_n, max_direct_query_n, pbar, random_query, THREADPOOL_SIZE)\u001b[0m\n\u001b[1;32m    242\u001b[0m \u001b[0;34m\u001b[0m\u001b[0m\n\u001b[1;32m    243\u001b[0m     \u001b[0;32mif\u001b[0m \u001b[0mdownload_results\u001b[0m\u001b[0;34m:\u001b[0m\u001b[0;34m\u001b[0m\u001b[0;34m\u001b[0m\u001b[0m\n\u001b[0;32m--> 244\u001b[0;31m         \u001b[0mlist\u001b[0m\u001b[0;34m(\u001b[0m\u001b[0mpool\u001b[0m\u001b[0;34m.\u001b[0m\u001b[0mmap\u001b[0m\u001b[0;34m(\u001b[0m\u001b[0mget_result\u001b[0m\u001b[0;34m,\u001b[0m \u001b[0mfs_to_wait_on\u001b[0m\u001b[0;34m)\u001b[0m\u001b[0;34m)\u001b[0m\u001b[0;34m\u001b[0m\u001b[0;34m\u001b[0m\u001b[0m\n\u001b[0m\u001b[1;32m    245\u001b[0m     \u001b[0;32melse\u001b[0m\u001b[0;34m:\u001b[0m\u001b[0;34m\u001b[0m\u001b[0;34m\u001b[0m\u001b[0m\n\u001b[1;32m    246\u001b[0m         \u001b[0mlist\u001b[0m\u001b[0;34m(\u001b[0m\u001b[0mpool\u001b[0m\u001b[0;34m.\u001b[0m\u001b[0mmap\u001b[0m\u001b[0;34m(\u001b[0m\u001b[0mget_status\u001b[0m\u001b[0;34m,\u001b[0m \u001b[0mfs_to_wait_on\u001b[0m\u001b[0;34m)\u001b[0m\u001b[0;34m)\u001b[0m\u001b[0;34m\u001b[0m\u001b[0;34m\u001b[0m\u001b[0m\n",
      "\u001b[0;32m/opt/conda/lib/python3.8/concurrent/futures/_base.py\u001b[0m in \u001b[0;36mresult_iterator\u001b[0;34m()\u001b[0m\n\u001b[1;32m    609\u001b[0m                     \u001b[0;31m# Careful not to keep a reference to the popped future\u001b[0m\u001b[0;34m\u001b[0m\u001b[0;34m\u001b[0m\u001b[0;34m\u001b[0m\u001b[0m\n\u001b[1;32m    610\u001b[0m                     \u001b[0;32mif\u001b[0m \u001b[0mtimeout\u001b[0m \u001b[0;32mis\u001b[0m \u001b[0;32mNone\u001b[0m\u001b[0;34m:\u001b[0m\u001b[0;34m\u001b[0m\u001b[0;34m\u001b[0m\u001b[0m\n\u001b[0;32m--> 611\u001b[0;31m                         \u001b[0;32myield\u001b[0m \u001b[0mfs\u001b[0m\u001b[0;34m.\u001b[0m\u001b[0mpop\u001b[0m\u001b[0;34m(\u001b[0m\u001b[0;34m)\u001b[0m\u001b[0;34m.\u001b[0m\u001b[0mresult\u001b[0m\u001b[0;34m(\u001b[0m\u001b[0;34m)\u001b[0m\u001b[0;34m\u001b[0m\u001b[0;34m\u001b[0m\u001b[0m\n\u001b[0m\u001b[1;32m    612\u001b[0m                     \u001b[0;32melse\u001b[0m\u001b[0;34m:\u001b[0m\u001b[0;34m\u001b[0m\u001b[0;34m\u001b[0m\u001b[0m\n\u001b[1;32m    613\u001b[0m                         \u001b[0;32myield\u001b[0m \u001b[0mfs\u001b[0m\u001b[0;34m.\u001b[0m\u001b[0mpop\u001b[0m\u001b[0;34m(\u001b[0m\u001b[0;34m)\u001b[0m\u001b[0;34m.\u001b[0m\u001b[0mresult\u001b[0m\u001b[0;34m(\u001b[0m\u001b[0mend_time\u001b[0m \u001b[0;34m-\u001b[0m \u001b[0mtime\u001b[0m\u001b[0;34m.\u001b[0m\u001b[0mmonotonic\u001b[0m\u001b[0;34m(\u001b[0m\u001b[0;34m)\u001b[0m\u001b[0;34m)\u001b[0m\u001b[0;34m\u001b[0m\u001b[0;34m\u001b[0m\u001b[0m\n",
      "\u001b[0;32m/opt/conda/lib/python3.8/concurrent/futures/_base.py\u001b[0m in \u001b[0;36mresult\u001b[0;34m(self, timeout)\u001b[0m\n\u001b[1;32m    437\u001b[0m                 \u001b[0;32mraise\u001b[0m \u001b[0mCancelledError\u001b[0m\u001b[0;34m(\u001b[0m\u001b[0;34m)\u001b[0m\u001b[0;34m\u001b[0m\u001b[0;34m\u001b[0m\u001b[0m\n\u001b[1;32m    438\u001b[0m             \u001b[0;32melif\u001b[0m \u001b[0mself\u001b[0m\u001b[0;34m.\u001b[0m\u001b[0m_state\u001b[0m \u001b[0;34m==\u001b[0m \u001b[0mFINISHED\u001b[0m\u001b[0;34m:\u001b[0m\u001b[0;34m\u001b[0m\u001b[0;34m\u001b[0m\u001b[0m\n\u001b[0;32m--> 439\u001b[0;31m                 \u001b[0;32mreturn\u001b[0m \u001b[0mself\u001b[0m\u001b[0;34m.\u001b[0m\u001b[0m__get_result\u001b[0m\u001b[0;34m(\u001b[0m\u001b[0;34m)\u001b[0m\u001b[0;34m\u001b[0m\u001b[0;34m\u001b[0m\u001b[0m\n\u001b[0m\u001b[1;32m    440\u001b[0m             \u001b[0;32melse\u001b[0m\u001b[0;34m:\u001b[0m\u001b[0;34m\u001b[0m\u001b[0;34m\u001b[0m\u001b[0m\n\u001b[1;32m    441\u001b[0m                 \u001b[0;32mraise\u001b[0m \u001b[0mTimeoutError\u001b[0m\u001b[0;34m(\u001b[0m\u001b[0;34m)\u001b[0m\u001b[0;34m\u001b[0m\u001b[0;34m\u001b[0m\u001b[0m\n",
      "\u001b[0;32m/opt/conda/lib/python3.8/concurrent/futures/_base.py\u001b[0m in \u001b[0;36m__get_result\u001b[0;34m(self)\u001b[0m\n\u001b[1;32m    386\u001b[0m     \u001b[0;32mdef\u001b[0m \u001b[0m__get_result\u001b[0m\u001b[0;34m(\u001b[0m\u001b[0mself\u001b[0m\u001b[0;34m)\u001b[0m\u001b[0;34m:\u001b[0m\u001b[0;34m\u001b[0m\u001b[0;34m\u001b[0m\u001b[0m\n\u001b[1;32m    387\u001b[0m         \u001b[0;32mif\u001b[0m \u001b[0mself\u001b[0m\u001b[0;34m.\u001b[0m\u001b[0m_exception\u001b[0m\u001b[0;34m:\u001b[0m\u001b[0;34m\u001b[0m\u001b[0;34m\u001b[0m\u001b[0m\n\u001b[0;32m--> 388\u001b[0;31m             \u001b[0;32mraise\u001b[0m \u001b[0mself\u001b[0m\u001b[0;34m.\u001b[0m\u001b[0m_exception\u001b[0m\u001b[0;34m\u001b[0m\u001b[0;34m\u001b[0m\u001b[0m\n\u001b[0m\u001b[1;32m    389\u001b[0m         \u001b[0;32melse\u001b[0m\u001b[0;34m:\u001b[0m\u001b[0;34m\u001b[0m\u001b[0;34m\u001b[0m\u001b[0m\n\u001b[1;32m    390\u001b[0m             \u001b[0;32mreturn\u001b[0m \u001b[0mself\u001b[0m\u001b[0;34m.\u001b[0m\u001b[0m_result\u001b[0m\u001b[0;34m\u001b[0m\u001b[0;34m\u001b[0m\u001b[0m\n",
      "\u001b[0;32m/opt/conda/lib/python3.8/concurrent/futures/thread.py\u001b[0m in \u001b[0;36mrun\u001b[0;34m(self)\u001b[0m\n\u001b[1;32m     55\u001b[0m \u001b[0;34m\u001b[0m\u001b[0m\n\u001b[1;32m     56\u001b[0m         \u001b[0;32mtry\u001b[0m\u001b[0;34m:\u001b[0m\u001b[0;34m\u001b[0m\u001b[0;34m\u001b[0m\u001b[0m\n\u001b[0;32m---> 57\u001b[0;31m             \u001b[0mresult\u001b[0m \u001b[0;34m=\u001b[0m \u001b[0mself\u001b[0m\u001b[0;34m.\u001b[0m\u001b[0mfn\u001b[0m\u001b[0;34m(\u001b[0m\u001b[0;34m*\u001b[0m\u001b[0mself\u001b[0m\u001b[0;34m.\u001b[0m\u001b[0margs\u001b[0m\u001b[0;34m,\u001b[0m \u001b[0;34m**\u001b[0m\u001b[0mself\u001b[0m\u001b[0;34m.\u001b[0m\u001b[0mkwargs\u001b[0m\u001b[0;34m)\u001b[0m\u001b[0;34m\u001b[0m\u001b[0;34m\u001b[0m\u001b[0m\n\u001b[0m\u001b[1;32m     58\u001b[0m         \u001b[0;32mexcept\u001b[0m \u001b[0mBaseException\u001b[0m \u001b[0;32mas\u001b[0m \u001b[0mexc\u001b[0m\u001b[0;34m:\u001b[0m\u001b[0;34m\u001b[0m\u001b[0;34m\u001b[0m\u001b[0m\n\u001b[1;32m     59\u001b[0m             \u001b[0mself\u001b[0m\u001b[0;34m.\u001b[0m\u001b[0mfuture\u001b[0m\u001b[0;34m.\u001b[0m\u001b[0mset_exception\u001b[0m\u001b[0;34m(\u001b[0m\u001b[0mexc\u001b[0m\u001b[0;34m)\u001b[0m\u001b[0;34m\u001b[0m\u001b[0;34m\u001b[0m\u001b[0m\n",
      "\u001b[0;32m/opt/conda/lib/python3.8/site-packages/lithops/wait/wait_storage.py\u001b[0m in \u001b[0;36mget_result\u001b[0;34m(f)\u001b[0m\n\u001b[1;32m    234\u001b[0m         \u001b[0;32mif\u001b[0m \u001b[0mf\u001b[0m\u001b[0;34m.\u001b[0m\u001b[0mrunning\u001b[0m\u001b[0;34m:\u001b[0m\u001b[0;34m\u001b[0m\u001b[0;34m\u001b[0m\u001b[0m\n\u001b[1;32m    235\u001b[0m             \u001b[0mf\u001b[0m\u001b[0;34m.\u001b[0m\u001b[0m_call_status\u001b[0m \u001b[0;34m=\u001b[0m \u001b[0;32mNone\u001b[0m\u001b[0;34m\u001b[0m\u001b[0;34m\u001b[0m\u001b[0m\n\u001b[0;32m--> 236\u001b[0;31m         \u001b[0mf\u001b[0m\u001b[0;34m.\u001b[0m\u001b[0mresult\u001b[0m\u001b[0;34m(\u001b[0m\u001b[0mthrow_except\u001b[0m\u001b[0;34m=\u001b[0m\u001b[0mthrow_except\u001b[0m\u001b[0;34m,\u001b[0m \u001b[0minternal_storage\u001b[0m\u001b[0;34m=\u001b[0m\u001b[0minternal_storage\u001b[0m\u001b[0;34m)\u001b[0m\u001b[0;34m\u001b[0m\u001b[0;34m\u001b[0m\u001b[0m\n\u001b[0m\u001b[1;32m    237\u001b[0m \u001b[0;34m\u001b[0m\u001b[0m\n\u001b[1;32m    238\u001b[0m     \u001b[0;32mdef\u001b[0m \u001b[0mget_status\u001b[0m\u001b[0;34m(\u001b[0m\u001b[0mf\u001b[0m\u001b[0;34m)\u001b[0m\u001b[0;34m:\u001b[0m\u001b[0;34m\u001b[0m\u001b[0;34m\u001b[0m\u001b[0m\n",
      "\u001b[0;32m/opt/conda/lib/python3.8/site-packages/lithops/future.py\u001b[0m in \u001b[0;36mresult\u001b[0;34m(self, throw_except, internal_storage)\u001b[0m\n\u001b[1;32m    263\u001b[0m             \u001b[0minternal_storage\u001b[0m \u001b[0;34m=\u001b[0m \u001b[0mInternalStorage\u001b[0m\u001b[0;34m(\u001b[0m\u001b[0mstorage_config\u001b[0m\u001b[0;34m=\u001b[0m\u001b[0mself\u001b[0m\u001b[0;34m.\u001b[0m\u001b[0m_storage_config\u001b[0m\u001b[0;34m)\u001b[0m\u001b[0;34m\u001b[0m\u001b[0;34m\u001b[0m\u001b[0m\n\u001b[1;32m    264\u001b[0m \u001b[0;34m\u001b[0m\u001b[0m\n\u001b[0;32m--> 265\u001b[0;31m         \u001b[0mself\u001b[0m\u001b[0;34m.\u001b[0m\u001b[0mstatus\u001b[0m\u001b[0;34m(\u001b[0m\u001b[0mthrow_except\u001b[0m\u001b[0;34m=\u001b[0m\u001b[0mthrow_except\u001b[0m\u001b[0;34m,\u001b[0m \u001b[0minternal_storage\u001b[0m\u001b[0;34m=\u001b[0m\u001b[0minternal_storage\u001b[0m\u001b[0;34m)\u001b[0m\u001b[0;34m\u001b[0m\u001b[0;34m\u001b[0m\u001b[0m\n\u001b[0m\u001b[1;32m    266\u001b[0m \u001b[0;34m\u001b[0m\u001b[0m\n\u001b[1;32m    267\u001b[0m         \u001b[0;32mif\u001b[0m \u001b[0mself\u001b[0m\u001b[0;34m.\u001b[0m\u001b[0m_state\u001b[0m \u001b[0;34m==\u001b[0m \u001b[0mResponseFuture\u001b[0m\u001b[0;34m.\u001b[0m\u001b[0mState\u001b[0m\u001b[0;34m.\u001b[0m\u001b[0mSuccess\u001b[0m\u001b[0;34m:\u001b[0m\u001b[0;34m\u001b[0m\u001b[0;34m\u001b[0m\u001b[0m\n",
      "\u001b[0;32m/opt/conda/lib/python3.8/site-packages/lithops/future.py\u001b[0m in \u001b[0;36mstatus\u001b[0;34m(self, throw_except, internal_storage)\u001b[0m\n\u001b[1;32m    206\u001b[0m                 \u001b[0msys\u001b[0m\u001b[0;34m.\u001b[0m\u001b[0mexcepthook\u001b[0m \u001b[0;34m=\u001b[0m \u001b[0mexception_hook\u001b[0m\u001b[0;34m\u001b[0m\u001b[0;34m\u001b[0m\u001b[0m\n\u001b[1;32m    207\u001b[0m                 \u001b[0mtime\u001b[0m\u001b[0;34m.\u001b[0m\u001b[0msleep\u001b[0m\u001b[0;34m(\u001b[0m\u001b[0;36m1\u001b[0m\u001b[0;34m)\u001b[0m\u001b[0;34m\u001b[0m\u001b[0;34m\u001b[0m\u001b[0m\n\u001b[0;32m--> 208\u001b[0;31m                 \u001b[0mreraise\u001b[0m\u001b[0;34m(\u001b[0m\u001b[0;34m*\u001b[0m\u001b[0mself\u001b[0m\u001b[0;34m.\u001b[0m\u001b[0m_exception\u001b[0m\u001b[0;34m)\u001b[0m\u001b[0;34m\u001b[0m\u001b[0;34m\u001b[0m\u001b[0m\n\u001b[0m\u001b[1;32m    209\u001b[0m             \u001b[0;32melse\u001b[0m\u001b[0;34m:\u001b[0m\u001b[0;34m\u001b[0m\u001b[0;34m\u001b[0m\u001b[0m\n\u001b[1;32m    210\u001b[0m                 \u001b[0mlogger\u001b[0m\u001b[0;34m.\u001b[0m\u001b[0minfo\u001b[0m\u001b[0;34m(\u001b[0m\u001b[0mmsg1\u001b[0m\u001b[0;34m)\u001b[0m\u001b[0;34m\u001b[0m\u001b[0;34m\u001b[0m\u001b[0m\n",
      "\u001b[0;32m/opt/conda/lib/python3.8/site-packages/six.py\u001b[0m in \u001b[0;36mreraise\u001b[0;34m(tp, value, tb)\u001b[0m\n\u001b[1;32m    701\u001b[0m             \u001b[0;32mif\u001b[0m \u001b[0mvalue\u001b[0m\u001b[0;34m.\u001b[0m\u001b[0m__traceback__\u001b[0m \u001b[0;32mis\u001b[0m \u001b[0;32mnot\u001b[0m \u001b[0mtb\u001b[0m\u001b[0;34m:\u001b[0m\u001b[0;34m\u001b[0m\u001b[0;34m\u001b[0m\u001b[0m\n\u001b[1;32m    702\u001b[0m                 \u001b[0;32mraise\u001b[0m \u001b[0mvalue\u001b[0m\u001b[0;34m.\u001b[0m\u001b[0mwith_traceback\u001b[0m\u001b[0;34m(\u001b[0m\u001b[0mtb\u001b[0m\u001b[0;34m)\u001b[0m\u001b[0;34m\u001b[0m\u001b[0;34m\u001b[0m\u001b[0m\n\u001b[0;32m--> 703\u001b[0;31m             \u001b[0;32mraise\u001b[0m \u001b[0mvalue\u001b[0m\u001b[0;34m\u001b[0m\u001b[0;34m\u001b[0m\u001b[0m\n\u001b[0m\u001b[1;32m    704\u001b[0m         \u001b[0;32mfinally\u001b[0m\u001b[0;34m:\u001b[0m\u001b[0;34m\u001b[0m\u001b[0;34m\u001b[0m\u001b[0m\n\u001b[1;32m    705\u001b[0m             \u001b[0mvalue\u001b[0m \u001b[0;34m=\u001b[0m \u001b[0;32mNone\u001b[0m\u001b[0;34m\u001b[0m\u001b[0;34m\u001b[0m\u001b[0m\n",
      "\u001b[0;32m/action/lithops/worker/jobrunner.py\u001b[0m in \u001b[0;36mrun\u001b[0;34m()\u001b[0m\n",
      "\u001b[0;32m<ipython-input-32-cee452e2caeb>\u001b[0m in \u001b[0;36mstackering_logic\u001b[0;34m()\u001b[0m\n\u001b[1;32m      6\u001b[0m \u001b[0;34m\u001b[0m\u001b[0m\n\u001b[1;32m      7\u001b[0m     \u001b[0;32mwith\u001b[0m \u001b[0mrasterio\u001b[0m\u001b[0;34m.\u001b[0m\u001b[0mopen\u001b[0m\u001b[0;34m(\u001b[0m\u001b[0mobj\u001b[0m\u001b[0;34m.\u001b[0m\u001b[0mdata_stream\u001b[0m\u001b[0;34m)\u001b[0m \u001b[0;32mas\u001b[0m \u001b[0msrc\u001b[0m\u001b[0;34m:\u001b[0m\u001b[0;34m\u001b[0m\u001b[0;34m\u001b[0m\u001b[0m\n\u001b[0;32m----> 8\u001b[0;31m         \u001b[0;32mwith\u001b[0m \u001b[0mrasterio\u001b[0m\u001b[0;34m.\u001b[0m\u001b[0mopen\u001b[0m\u001b[0;34m(\u001b[0m\u001b[0mtemporal_file\u001b[0m\u001b[0;34m,\u001b[0m \u001b[0;34m'r+'\u001b[0m\u001b[0;34m)\u001b[0m \u001b[0;32mas\u001b[0m \u001b[0mtrueColor\u001b[0m\u001b[0;34m:\u001b[0m\u001b[0;34m\u001b[0m\u001b[0;34m\u001b[0m\u001b[0m\n\u001b[0m\u001b[1;32m      9\u001b[0m \u001b[0;34m\u001b[0m\u001b[0m\n\u001b[1;32m     10\u001b[0m             \u001b[0;32mif\u001b[0m \u001b[0mnumberband\u001b[0m \u001b[0;34m==\u001b[0m \u001b[0;34m\"band3\"\u001b[0m\u001b[0;34m:\u001b[0m\u001b[0;34m\u001b[0m\u001b[0;34m\u001b[0m\u001b[0m\n",
      "\u001b[0;32m/usr/local/lib/python3.8/site-packages/rasterio/env.py\u001b[0m in \u001b[0;36mwrapper\u001b[0;34m()\u001b[0m\n",
      "\u001b[0;32m/usr/local/lib/python3.8/site-packages/rasterio/__init__.py\u001b[0m in \u001b[0;36mopen\u001b[0;34m()\u001b[0m\n",
      "\u001b[0;32m/usr/local/lib/python3.8/site-packages/rasterio/io.py\u001b[0m in \u001b[0;36mget_writer_for_path\u001b[0;34m()\u001b[0m\n",
      "\u001b[0;32mrasterio/_base.pyx\u001b[0m in \u001b[0;36mrasterio._base.get_dataset_driver\u001b[0;34m()\u001b[0m\n",
      "\u001b[0;31mTypeError\u001b[0m: /home/jovyan/work/Training_stuff/Exp_txt/ha.tif: No such file or directory"
     ]
    }
   ],
   "source": [
    "def stackering_logic(obj, ibm_cos):\n",
    "    print('I am processing the object cos://{}/{}'.format(obj.bucket, obj.key))\n",
    "\n",
    "    numberfield=obj.key.split(\"_\")[1]\n",
    "    numberband=obj.key.split(\"_\")[3].split(\".\")[0]\n",
    "            \n",
    "    with rasterio.open(obj.data_stream) as src:   \n",
    "        with rasterio.open(temporal_file, 'r+') as trueColor:\n",
    "            \n",
    "            if numberband == \"band3\":\n",
    "                trueColor.write(src.read(1),3) #blue\n",
    "            elif numberband == \"band4\":\n",
    "                trueColor.write(src.read(1),2) #green\n",
    "            elif numberband == \"band8\":\n",
    "                trueColor.write(src.read(1),1) #red\n",
    "    \n",
    "    with rasterio.open(temporal_file) as raster:\n",
    "        w = raster.read() #w[0]\n",
    "    \n",
    "    return w\n",
    "\n",
    "fexec = lithops.FunctionExecutor(config=config, runtime='mavsonnen/jdsampe:nogdal', runtime_memory=2048)\n",
    "fexec.map(stackering_logic, data_location)\n",
    "results = fexec.get_result()\n",
    "results"
   ]
  },
  {
   "cell_type": "markdown",
   "metadata": {},
   "source": [
    "# Stackering Local | works |"
   ]
  },
  {
   "cell_type": "markdown",
   "metadata": {},
   "source": [
    "Version de lectura de todos los archivos en local, funciona correctamente, misma implementación."
   ]
  },
  {
   "cell_type": "code",
   "execution_count": 269,
   "metadata": {},
   "outputs": [
    {
     "data": {
      "text/plain": [
       "['/home/jovyan/work/Dataset_valencia/Dataset_by_bands/Experiment_lithops/valenciana_624000.0-4384000.0_comunidad_band3.tif',\n",
       " '/home/jovyan/work/Dataset_valencia/Dataset_by_bands/Experiment_lithops/valenciana_624000.0-4384000.0_comunidad_band4.tif',\n",
       " '/home/jovyan/work/Dataset_valencia/Dataset_by_bands/Experiment_lithops/valenciana_624000.0-4384000.0_comunidad_band8.tif']"
      ]
     },
     "execution_count": 269,
     "metadata": {},
     "output_type": "execute_result"
    }
   ],
   "source": [
    "input_path = '/home/jovyan/work/Dataset_valencia/Dataset_by_bands/Experiment_lithops/'\n",
    "criteria = 'valenciana*.tif'\n",
    "all_files = glob.glob(input_path + criteria)\n",
    "all_files"
   ]
  },
  {
   "cell_type": "code",
   "execution_count": 270,
   "metadata": {},
   "outputs": [
    {
     "data": {
      "text/plain": [
       "'624000.0-4384000.0'"
      ]
     },
     "execution_count": 270,
     "metadata": {},
     "output_type": "execute_result"
    }
   ],
   "source": [
    "a='/home/jovyan/work/Dataset_valencia/Dataset_by_bands/Experiment_lithops/valenciana_624000.0-4384000.0_comunidad_band3.tif'\n",
    "numberfield=a.split(\"/\")[7].split(\"_\")[1]\n",
    "numberfield"
   ]
  },
  {
   "cell_type": "code",
   "execution_count": 287,
   "metadata": {},
   "outputs": [],
   "source": [
    "for raster_path in all_files:\n",
    "\n",
    "    numberfield=raster_path.split(\"/\")[7].split(\"_\")[1]\n",
    "    numberband=raster_path.split(\"/\")[7].split(\"_\")[3].split(\".\")[0]\n",
    "    \n",
    "    #temporal_file='/home/jovyan/work/Training_stuff/output_stack/stack'+ numberfield +'.tif'    \n",
    "    temporal_file='/tmp/raster_temporalnew22222.tif'\n",
    "    \n",
    "    \n",
    "    if os.path.isfile(temporal_file):\n",
    "        mode = 'r+'\n",
    "    else:\n",
    "        mode = 'w' \n",
    "    \n",
    "    with rasterio.open(raster_path) as src:\n",
    "        \n",
    "        with rasterio.open(temporal_file,mode,driver='Gtiff',\n",
    "                             width=src.width, height=src.height,\n",
    "                             count=3,\n",
    "                             crs=src.crs,\n",
    "                             transform=src.transform,\n",
    "                             dtype=src.dtypes[0]\n",
    "                             ) as trueColor:\n",
    "            \n",
    "            if numberband == \"band3\":\n",
    "                trueColor.write(src.read(1),3) #blue\n",
    "            elif numberband == \"band4\":\n",
    "                trueColor.write(src.read(1),2) #green\n",
    "            elif numberband == \"band8\":\n",
    "                trueColor.write(src.read(1),1) #red"
   ]
  },
  {
   "cell_type": "code",
   "execution_count": 288,
   "metadata": {},
   "outputs": [
    {
     "name": "stdout",
     "output_type": "stream",
     "text": [
      "[[[   0    0    0 ... 2517 2508 2491]\n",
      "  [   0    0    0 ... 2518 2511 2512]\n",
      "  [   0    0    0 ... 2574 2525 2496]\n",
      "  ...\n",
      "  [   0    0    0 ... 3170 3221 3022]\n",
      "  [   0    0    0 ... 3106 3037 2940]\n",
      "  [   0    0    0 ... 2965 3105 3166]]\n",
      "\n",
      " [[   0    0    0 ... 1428 1424 1442]\n",
      "  [   0    0    0 ... 1388 1392 1411]\n",
      "  [   0    0    0 ... 1595 1539 1359]\n",
      "  ...\n",
      "  [   0    0    0 ... 2133 2216 2082]\n",
      "  [   0    0    0 ... 2164 2130 2088]\n",
      "  [   0    0    0 ... 2069 2202 2217]]\n",
      "\n",
      " [[   0    0    0 ...  863  831  865]\n",
      "  [   0    0    0 ...  859  827  844]\n",
      "  [   0    0    0 ...  954  897  793]\n",
      "  ...\n",
      "  [   0    0    0 ... 1496 1552 1435]\n",
      "  [   0    0    0 ... 1443 1473 1425]\n",
      "  [   0    0    0 ... 1432 1511 1524]]]\n"
     ]
    },
    {
     "data": {
      "text/plain": [
       "array([  -89,   -87,   -86, ..., 10232, 11002, 11479], dtype=int16)"
      ]
     },
     "execution_count": 288,
     "metadata": {},
     "output_type": "execute_result"
    }
   ],
   "source": [
    "#temporal_file='/home/jovyan/work/Training_stuff/output_stack/stack624000.0-4384000.0.tif' \n",
    "a=rasterio.open(temporal_file)\n",
    "print(a.read())\n",
    "np.unique(a.read())"
   ]
  },
  {
   "cell_type": "code",
   "execution_count": 163,
   "metadata": {},
   "outputs": [
    {
     "data": {
      "text/plain": [
       "True"
      ]
     },
     "execution_count": 163,
     "metadata": {},
     "output_type": "execute_result"
    }
   ],
   "source": [
    "os.path.isfile(temporal_file) "
   ]
  },
  {
   "cell_type": "markdown",
   "metadata": {},
   "source": [
    "# similar with .txt file"
   ]
  },
  {
   "cell_type": "code",
   "execution_count": 106,
   "metadata": {},
   "outputs": [
    {
     "data": {
      "text/plain": [
       "['ahora tenemos cuatro palabras',\n",
       " 'en esta frase tenemos seis palabras',\n",
       " 'si me pongo a escribir tanto voy a llegar a las trece palabras',\n",
       " 'una palabra',\n",
       " 'si quieres más serán cinco']"
      ]
     },
     "execution_count": 106,
     "metadata": {},
     "output_type": "execute_result"
    }
   ],
   "source": [
    "path = '/home/jovyan/work/Training_stuff/Exp_txt/aacuatro.txt'\n",
    "f = open(path,'r')\n",
    "z=f.read()"
   ]
  },
  {
   "cell_type": "code",
   "execution_count": 140,
   "metadata": {},
   "outputs": [],
   "source": [
    "def map_model(obj):\n",
    "    print('Bucket: {}'.format(obj.bucket))\n",
    "    print('Key: {}'.format(obj.key))\n",
    "    print('Partition num: {}'.format(obj.part))\n",
    "\n",
    "    \n",
    "    data = obj.data_stream.read()\n",
    "                \n",
    "    a=data.splitlines() \n",
    "    \n",
    "        # Writing results to file\n",
    "    with open('/tmp/file3.txt', 'w') as file:\n",
    "        file.write(str(a))\n",
    "        \n",
    "        \n",
    "    with open('/tmp/file3.txt', 'r') as file:\n",
    "        info = file.read()\n",
    "        \n",
    "        \n",
    "    \n",
    "\n",
    "    return info"
   ]
  },
  {
   "cell_type": "code",
   "execution_count": 141,
   "metadata": {},
   "outputs": [
    {
     "name": "stdout",
     "output_type": "stream",
     "text": [
      "Lithops v2.2.5 init for IBM Cloud Functions - Namespace: new-us-east - Region: us_east\n",
      "ExecutorID b5d6f1-67 | JobID M000 - Selected Runtime: mavsonnen/jdsampe:nogdal - 2048MB \n",
      "ExecutorID b5d6f1-67 | JobID M000 - Uploading function and data - Total: 1.4KiB\n",
      "ExecutorID b5d6f1-67 | JobID M000 - Starting function invocation: map_model() - Total: 3 activations\n",
      "ExecutorID b5d6f1-67 - Getting results...\n"
     ]
    },
    {
     "data": {
      "application/vnd.jupyter.widget-view+json": {
       "model_id": "0a25c8db7ecd40c7bda077d41965107f",
       "version_major": 2,
       "version_minor": 0
      },
      "text/plain": [
       "HBox(children=(HTML(value=''), FloatProgress(value=0.0, max=3.0), HTML(value='')))"
      ]
     },
     "metadata": {},
     "output_type": "display_data"
    },
    {
     "name": "stdout",
     "output_type": "stream",
     "text": [
      "\n"
     ]
    },
    {
     "data": {
      "text/plain": [
       "[\"[b'esta oracion primera']\",\n",
       " \"[b'aqui la segunda']\",\n",
       " \"[b'en la tercera ', b'hacemos un salto']\"]"
      ]
     },
     "execution_count": 141,
     "metadata": {},
     "output_type": "execute_result"
    }
   ],
   "source": [
    "iterdata = ['cos://testing-us-east/primero.txt',\n",
    "            'cos://testing-us-east/segundo.txt',\n",
    "            'cos://testing-us-east/tercero.txt']\n",
    "\n",
    "fexec = lithops.FunctionExecutor(config=config,runtime='mavsonnen/jdsampe:nogdal', runtime_memory=2048)\n",
    "fexec.map(map_model, iterdata)\n",
    "results = fexec.get_result()\n",
    "results"
   ]
  },
  {
   "cell_type": "markdown",
   "metadata": {},
   "source": [
    "# other stuff"
   ]
  },
  {
   "cell_type": "code",
   "execution_count": 20,
   "metadata": {},
   "outputs": [
    {
     "name": "stdout",
     "output_type": "stream",
     "text": [
      "does not exists\n"
     ]
    }
   ],
   "source": [
    "filename = '/tmp/raster.tif'\n",
    "os.path.isfile(filename) \n",
    " \n",
    "if os.path.isfile(filename) :\n",
    "    print('exists')\n",
    "else:\n",
    "    print('does not exists')"
   ]
  },
  {
   "cell_type": "code",
   "execution_count": 22,
   "metadata": {},
   "outputs": [
    {
     "name": "stdout",
     "output_type": "stream",
     "text": [
      "Lithops v2.2.5 init for IBM Cloud Functions - Namespace: new-us-east - Region: us_east\n",
      "ExecutorID b5d6f1-5 | JobID M000 - Selected Runtime: mavsonnen/jdsampe:nogdal - 2048MB \n",
      "ExecutorID b5d6f1-5 | JobID M000 - Uploading function and data - Total: 1.6KiB\n",
      "ExecutorID b5d6f1-5 | JobID M000 - Starting function invocation: my_map_function() - Total: 3 activations\n",
      "ExecutorID b5d6f1-5 - Getting results...\n"
     ]
    },
    {
     "data": {
      "application/vnd.jupyter.widget-view+json": {
       "model_id": "ed1206e1eeb9471face1f7b302007102",
       "version_major": 2,
       "version_minor": 0
      },
      "text/plain": [
       "HBox(children=(HTML(value=''), FloatProgress(value=0.0, max=3.0), HTML(value='')))"
      ]
     },
     "metadata": {},
     "output_type": "display_data"
    },
    {
     "name": "stdout",
     "output_type": "stream",
     "text": [
      "\n"
     ]
    },
    {
     "data": {
      "text/plain": [
       "[False, True, False]"
      ]
     },
     "execution_count": 22,
     "metadata": {},
     "output_type": "execute_result"
    }
   ],
   "source": [
    "data_location  = 'cos://testing-stackering'\n",
    "\n",
    "def my_map_function(obj):\n",
    "    print('Bucket: {}'.format(obj.bucket))\n",
    "    print('Key: {}'.format(obj.key))\n",
    "    print('Partition num: {}'.format(obj.part))\n",
    "    counter = 0\n",
    "    \n",
    "    filename = '/tmp/hola.txt'\n",
    "    val = os.path.exists(filename) \n",
    "    \n",
    "    if obj.key == 'valenciana_624000.0-4384000.0_comunidad_band4.tif':\n",
    "        with open('/tmp/hola.txt', 'w') as file:\n",
    "            file.write('new doc')\n",
    "\n",
    "    return(val)\n",
    "\n",
    "fexec = lithops.FunctionExecutor(config=config, runtime='mavsonnen/jdsampe:nogdal', runtime_memory=2048)\n",
    "fexec.map(my_map_function, data_location)\n",
    "results = fexec.get_result()\n",
    "results"
   ]
  },
  {
   "cell_type": "code",
   "execution_count": 291,
   "metadata": {},
   "outputs": [
    {
     "data": {
      "text/plain": [
       "array([[[   0,    0,    0, ..., 2517, 2508, 2491],\n",
       "        [   0,    0,    0, ..., 2518, 2511, 2512],\n",
       "        [   0,    0,    0, ..., 2574, 2525, 2496],\n",
       "        ...,\n",
       "        [   0,    0,    0, ..., 3170, 3221, 3022],\n",
       "        [   0,    0,    0, ..., 3106, 3037, 2940],\n",
       "        [   0,    0,    0, ..., 2965, 3105, 3166]],\n",
       "\n",
       "       [[   0,    0,    0, ...,    0,    0,    0],\n",
       "        [   0,    0,    0, ...,    0,    0,    0],\n",
       "        [   0,    0,    0, ...,    0,    0,    0],\n",
       "        ...,\n",
       "        [   0,    0,    0, ...,    0,    0,    0],\n",
       "        [   0,    0,    0, ...,    0,    0,    0],\n",
       "        [   0,    0,    0, ...,    0,    0,    0]],\n",
       "\n",
       "       [[   0,    0,    0, ...,    0,    0,    0],\n",
       "        [   0,    0,    0, ...,    0,    0,    0],\n",
       "        [   0,    0,    0, ...,    0,    0,    0],\n",
       "        ...,\n",
       "        [   0,    0,    0, ...,    0,    0,    0],\n",
       "        [   0,    0,    0, ...,    0,    0,    0],\n",
       "        [   0,    0,    0, ...,    0,    0,    0]]], dtype=int16)"
      ]
     },
     "execution_count": 291,
     "metadata": {},
     "output_type": "execute_result"
    }
   ],
   "source": [
    "road_to_file = '/home/jovyan/work/Training_stuff/Exp_stack/STACK624000.0-4384000.0 (1).tif'\n",
    "raster_on_road = rasterio.open(road_to_file)\n",
    "raster_on_road.read()\n"
   ]
  }
 ],
 "metadata": {
  "kernelspec": {
   "display_name": "Python 3",
   "language": "python",
   "name": "python3"
  },
  "language_info": {
   "codemirror_mode": {
    "name": "ipython",
    "version": 3
   },
   "file_extension": ".py",
   "mimetype": "text/x-python",
   "name": "python",
   "nbconvert_exporter": "python",
   "pygments_lexer": "ipython3",
   "version": "3.8.6"
  }
 },
 "nbformat": 4,
 "nbformat_minor": 4
}
